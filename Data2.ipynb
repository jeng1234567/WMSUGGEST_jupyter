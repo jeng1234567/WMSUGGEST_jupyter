{
 "cells": [
  {
   "cell_type": "code",
   "execution_count": 1,
   "id": "b6403d55",
   "metadata": {},
   "outputs": [],
   "source": [
    "#import libraries\n",
    "import pandas as pd\n",
    "import numpy as np\n",
    "import seaborn as sns\n",
    "\n",
    "%matplotlib inline\n",
    "from matplotlib import pyplot as plt\n",
    "\n",
    "from sklearn.model_selection import train_test_split\n",
    "from sklearn.metrics import accuracy_score, roc_auc_score\n",
    "from sklearn.model_selection import cross_val_score, KFold\n",
    "from sklearn.metrics import precision_score,recall_score, f1_score\n"
   ]
  },
  {
   "cell_type": "code",
   "execution_count": 2,
   "id": "aab1857a",
   "metadata": {},
   "outputs": [
    {
     "data": {
      "text/html": [
       "<div>\n",
       "<style scoped>\n",
       "    .dataframe tbody tr th:only-of-type {\n",
       "        vertical-align: middle;\n",
       "    }\n",
       "\n",
       "    .dataframe tbody tr th {\n",
       "        vertical-align: top;\n",
       "    }\n",
       "\n",
       "    .dataframe thead th {\n",
       "        text-align: right;\n",
       "    }\n",
       "</style>\n",
       "<table border=\"1\" class=\"dataframe\">\n",
       "  <thead>\n",
       "    <tr style=\"text-align: right;\">\n",
       "      <th></th>\n",
       "      <th>Unnamed: 0</th>\n",
       "      <th>Course</th>\n",
       "      <th>College</th>\n",
       "      <th>Year Level</th>\n",
       "      <th>School Year</th>\n",
       "      <th>Graduated</th>\n",
       "      <th>No.</th>\n",
       "      <th>Appno</th>\n",
       "      <th>SCHOOL</th>\n",
       "      <th>Cntr</th>\n",
       "      <th>Date</th>\n",
       "      <th>Pr1</th>\n",
       "      <th>Pr2</th>\n",
       "      <th>Pr3</th>\n",
       "      <th>Pr4</th>\n",
       "      <th>Pr5</th>\n",
       "      <th>Oapr</th>\n",
       "      <th>Word</th>\n",
       "      <th>SY</th>\n",
       "    </tr>\n",
       "  </thead>\n",
       "  <tbody>\n",
       "    <tr>\n",
       "      <th>0</th>\n",
       "      <td>0</td>\n",
       "      <td>BAT</td>\n",
       "      <td>College of Agriculture</td>\n",
       "      <td>1</td>\n",
       "      <td>2018-2019</td>\n",
       "      <td>1</td>\n",
       "      <td>957.0</td>\n",
       "      <td>1819-06087</td>\n",
       "      <td>MARCELO SPINOLA SCHOOL</td>\n",
       "      <td>ZAM</td>\n",
       "      <td>3/11/2018</td>\n",
       "      <td>68.50</td>\n",
       "      <td>48.40</td>\n",
       "      <td>85.06</td>\n",
       "      <td>89.31</td>\n",
       "      <td>43.49</td>\n",
       "      <td>74.25</td>\n",
       "      <td>Seventy Four Point Twenty Five</td>\n",
       "      <td>2018-2019</td>\n",
       "    </tr>\n",
       "    <tr>\n",
       "      <th>1</th>\n",
       "      <td>1</td>\n",
       "      <td>BAT</td>\n",
       "      <td>College of Agriculture</td>\n",
       "      <td>1</td>\n",
       "      <td>2018-2019</td>\n",
       "      <td>1</td>\n",
       "      <td>1699.0</td>\n",
       "      <td>1819-02185</td>\n",
       "      <td>DON PABLO LORENZO MEMORIAL HIGH SCHOOL</td>\n",
       "      <td>ZAM</td>\n",
       "      <td>2/25/2018</td>\n",
       "      <td>74.80</td>\n",
       "      <td>48.40</td>\n",
       "      <td>59.25</td>\n",
       "      <td>10.45</td>\n",
       "      <td>53.29</td>\n",
       "      <td>60.09</td>\n",
       "      <td>Sixty Point Nine</td>\n",
       "      <td>2018-2019</td>\n",
       "    </tr>\n",
       "    <tr>\n",
       "      <th>2</th>\n",
       "      <td>2</td>\n",
       "      <td>BAT</td>\n",
       "      <td>College of Agriculture</td>\n",
       "      <td>1</td>\n",
       "      <td>2018-2019</td>\n",
       "      <td>0</td>\n",
       "      <td>3175.0</td>\n",
       "      <td>1819-12104</td>\n",
       "      <td>ILIGAN CAPITOL COLLEGE</td>\n",
       "      <td>TUN</td>\n",
       "      <td>4/15/2018</td>\n",
       "      <td>84.91</td>\n",
       "      <td>48.40</td>\n",
       "      <td>51.68</td>\n",
       "      <td>34.54</td>\n",
       "      <td>33.69</td>\n",
       "      <td>68.07</td>\n",
       "      <td>Sixty Eight Point Seven</td>\n",
       "      <td>2018-2019</td>\n",
       "    </tr>\n",
       "    <tr>\n",
       "      <th>3</th>\n",
       "      <td>3</td>\n",
       "      <td>BAT</td>\n",
       "      <td>College of Agriculture</td>\n",
       "      <td>1</td>\n",
       "      <td>2018-2019</td>\n",
       "      <td>1</td>\n",
       "      <td>6723.0</td>\n",
       "      <td>1819-06076</td>\n",
       "      <td>MARCELO SPINOLA SCHOOL</td>\n",
       "      <td>ZAM</td>\n",
       "      <td>3/11/2018</td>\n",
       "      <td>58.56</td>\n",
       "      <td>71.99</td>\n",
       "      <td>59.25</td>\n",
       "      <td>24.91</td>\n",
       "      <td>63.10</td>\n",
       "      <td>61.37</td>\n",
       "      <td>Sixty One Point Thirty Seven</td>\n",
       "      <td>2018-2019</td>\n",
       "    </tr>\n",
       "    <tr>\n",
       "      <th>4</th>\n",
       "      <td>4</td>\n",
       "      <td>BAT</td>\n",
       "      <td>College of Agriculture</td>\n",
       "      <td>1</td>\n",
       "      <td>2018-2019</td>\n",
       "      <td>0</td>\n",
       "      <td>11065.0</td>\n",
       "      <td>1819-05353</td>\n",
       "      <td>SYSTEM TECHNOLOGY INSTITUTE</td>\n",
       "      <td>ZAM</td>\n",
       "      <td>3/4/2018</td>\n",
       "      <td>61.05</td>\n",
       "      <td>35.70</td>\n",
       "      <td>59.25</td>\n",
       "      <td>70.61</td>\n",
       "      <td>63.10</td>\n",
       "      <td>61.37</td>\n",
       "      <td>Sixty One Point Thirty Seven</td>\n",
       "      <td>2018-2019</td>\n",
       "    </tr>\n",
       "    <tr>\n",
       "      <th>...</th>\n",
       "      <td>...</td>\n",
       "      <td>...</td>\n",
       "      <td>...</td>\n",
       "      <td>...</td>\n",
       "      <td>...</td>\n",
       "      <td>...</td>\n",
       "      <td>...</td>\n",
       "      <td>...</td>\n",
       "      <td>...</td>\n",
       "      <td>...</td>\n",
       "      <td>...</td>\n",
       "      <td>...</td>\n",
       "      <td>...</td>\n",
       "      <td>...</td>\n",
       "      <td>...</td>\n",
       "      <td>...</td>\n",
       "      <td>...</td>\n",
       "      <td>...</td>\n",
       "      <td>...</td>\n",
       "    </tr>\n",
       "    <tr>\n",
       "      <th>6247</th>\n",
       "      <td>6247</td>\n",
       "      <td>STEP-SPSP</td>\n",
       "      <td>CTE</td>\n",
       "      <td>1</td>\n",
       "      <td>2019-2020</td>\n",
       "      <td>0</td>\n",
       "      <td>11730.0</td>\n",
       "      <td>2021-17602</td>\n",
       "      <td>WESTERN MINDANAO STATE UNIVERSITY</td>\n",
       "      <td>SPE</td>\n",
       "      <td>2/19/2020</td>\n",
       "      <td>1.26</td>\n",
       "      <td>6.94</td>\n",
       "      <td>24.36</td>\n",
       "      <td>53.82</td>\n",
       "      <td>1.36</td>\n",
       "      <td>1.79</td>\n",
       "      <td>One Point Seventy Nine</td>\n",
       "      <td>2020-2021</td>\n",
       "    </tr>\n",
       "    <tr>\n",
       "      <th>6248</th>\n",
       "      <td>6248</td>\n",
       "      <td>STEP-SPSP</td>\n",
       "      <td>CTE</td>\n",
       "      <td>1</td>\n",
       "      <td>2019-2020</td>\n",
       "      <td>0</td>\n",
       "      <td>10242.0</td>\n",
       "      <td>1819-01956</td>\n",
       "      <td>WESTERN MINDANAO STATE UNIVERSITY</td>\n",
       "      <td>ZAM</td>\n",
       "      <td>2/25/2018</td>\n",
       "      <td>1.72</td>\n",
       "      <td>15.12</td>\n",
       "      <td>7.54</td>\n",
       "      <td>63.45</td>\n",
       "      <td>26.06</td>\n",
       "      <td>4.40</td>\n",
       "      <td>Four Point Forty</td>\n",
       "      <td>2018-2019</td>\n",
       "    </tr>\n",
       "    <tr>\n",
       "      <th>6249</th>\n",
       "      <td>6249</td>\n",
       "      <td>STEP-SPSP</td>\n",
       "      <td>CTE</td>\n",
       "      <td>1</td>\n",
       "      <td>2019-2020</td>\n",
       "      <td>0</td>\n",
       "      <td>13167.0</td>\n",
       "      <td>1920-15206</td>\n",
       "      <td>WESTERN MINDANAO STATE UNIVERSITY</td>\n",
       "      <td>OTC</td>\n",
       "      <td>2/13/2019</td>\n",
       "      <td>3.94</td>\n",
       "      <td>10.15</td>\n",
       "      <td>51.68</td>\n",
       "      <td>63.45</td>\n",
       "      <td>9.69</td>\n",
       "      <td>9.31</td>\n",
       "      <td>Zero Nine Point Thirty One</td>\n",
       "      <td>2019-2020</td>\n",
       "    </tr>\n",
       "    <tr>\n",
       "      <th>6250</th>\n",
       "      <td>6250</td>\n",
       "      <td>STEP-SPSP</td>\n",
       "      <td>CTE</td>\n",
       "      <td>1</td>\n",
       "      <td>2019-2020</td>\n",
       "      <td>0</td>\n",
       "      <td>13716.0</td>\n",
       "      <td>1920-15200</td>\n",
       "      <td>WESTERN MINDANAO STATE UNIVERSITY</td>\n",
       "      <td>ZAM</td>\n",
       "      <td>2/13/2019</td>\n",
       "      <td>7.83</td>\n",
       "      <td>5.49</td>\n",
       "      <td>4.27</td>\n",
       "      <td>0.00</td>\n",
       "      <td>0.15</td>\n",
       "      <td>0.19</td>\n",
       "      <td>Point Nineteen</td>\n",
       "      <td>2019-2020</td>\n",
       "    </tr>\n",
       "    <tr>\n",
       "      <th>6251</th>\n",
       "      <td>6251</td>\n",
       "      <td>STEP-SPSP</td>\n",
       "      <td>CTE</td>\n",
       "      <td>1</td>\n",
       "      <td>2019-2020</td>\n",
       "      <td>0</td>\n",
       "      <td>14931.0</td>\n",
       "      <td>1920-15208</td>\n",
       "      <td>WESTERN MINDANAO STATE UNIVERSITY</td>\n",
       "      <td>OTC</td>\n",
       "      <td>2/13/2019</td>\n",
       "      <td>20.81</td>\n",
       "      <td>6.94</td>\n",
       "      <td>29.96</td>\n",
       "      <td>44.18</td>\n",
       "      <td>15.15</td>\n",
       "      <td>13.69</td>\n",
       "      <td>Thirteen Point Sixty Nine</td>\n",
       "      <td>2019-2020</td>\n",
       "    </tr>\n",
       "  </tbody>\n",
       "</table>\n",
       "<p>6252 rows × 19 columns</p>\n",
       "</div>"
      ],
      "text/plain": [
       "      Unnamed: 0     Course                 College  Year Level School Year  \\\n",
       "0              0        BAT  College of Agriculture           1   2018-2019   \n",
       "1              1        BAT  College of Agriculture           1   2018-2019   \n",
       "2              2        BAT  College of Agriculture           1   2018-2019   \n",
       "3              3        BAT  College of Agriculture           1   2018-2019   \n",
       "4              4        BAT  College of Agriculture           1   2018-2019   \n",
       "...          ...        ...                     ...         ...         ...   \n",
       "6247        6247  STEP-SPSP                     CTE           1   2019-2020   \n",
       "6248        6248  STEP-SPSP                     CTE           1   2019-2020   \n",
       "6249        6249  STEP-SPSP                     CTE           1   2019-2020   \n",
       "6250        6250  STEP-SPSP                     CTE           1   2019-2020   \n",
       "6251        6251  STEP-SPSP                     CTE           1   2019-2020   \n",
       "\n",
       "      Graduated      No.       Appno                                  SCHOOL  \\\n",
       "0             1    957.0  1819-06087                  MARCELO SPINOLA SCHOOL   \n",
       "1             1   1699.0  1819-02185  DON PABLO LORENZO MEMORIAL HIGH SCHOOL   \n",
       "2             0   3175.0  1819-12104                  ILIGAN CAPITOL COLLEGE   \n",
       "3             1   6723.0  1819-06076                  MARCELO SPINOLA SCHOOL   \n",
       "4             0  11065.0  1819-05353             SYSTEM TECHNOLOGY INSTITUTE   \n",
       "...         ...      ...         ...                                     ...   \n",
       "6247          0  11730.0  2021-17602       WESTERN MINDANAO STATE UNIVERSITY   \n",
       "6248          0  10242.0  1819-01956       WESTERN MINDANAO STATE UNIVERSITY   \n",
       "6249          0  13167.0  1920-15206       WESTERN MINDANAO STATE UNIVERSITY   \n",
       "6250          0  13716.0  1920-15200       WESTERN MINDANAO STATE UNIVERSITY   \n",
       "6251          0  14931.0  1920-15208       WESTERN MINDANAO STATE UNIVERSITY   \n",
       "\n",
       "     Cntr       Date    Pr1    Pr2    Pr3    Pr4    Pr5   Oapr  \\\n",
       "0     ZAM  3/11/2018  68.50  48.40  85.06  89.31  43.49  74.25   \n",
       "1     ZAM  2/25/2018  74.80  48.40  59.25  10.45  53.29  60.09   \n",
       "2     TUN  4/15/2018  84.91  48.40  51.68  34.54  33.69  68.07   \n",
       "3     ZAM  3/11/2018  58.56  71.99  59.25  24.91  63.10  61.37   \n",
       "4     ZAM   3/4/2018  61.05  35.70  59.25  70.61  63.10  61.37   \n",
       "...   ...        ...    ...    ...    ...    ...    ...    ...   \n",
       "6247  SPE  2/19/2020   1.26   6.94  24.36  53.82   1.36   1.79   \n",
       "6248  ZAM  2/25/2018   1.72  15.12   7.54  63.45  26.06   4.40   \n",
       "6249  OTC  2/13/2019   3.94  10.15  51.68  63.45   9.69   9.31   \n",
       "6250  ZAM  2/13/2019   7.83   5.49   4.27   0.00   0.15   0.19   \n",
       "6251  OTC  2/13/2019  20.81   6.94  29.96  44.18  15.15  13.69   \n",
       "\n",
       "                                Word         SY  \n",
       "0     Seventy Four Point Twenty Five  2018-2019  \n",
       "1                   Sixty Point Nine  2018-2019  \n",
       "2            Sixty Eight Point Seven  2018-2019  \n",
       "3       Sixty One Point Thirty Seven  2018-2019  \n",
       "4       Sixty One Point Thirty Seven  2018-2019  \n",
       "...                              ...        ...  \n",
       "6247          One Point Seventy Nine  2020-2021  \n",
       "6248                Four Point Forty  2018-2019  \n",
       "6249      Zero Nine Point Thirty One  2019-2020  \n",
       "6250                  Point Nineteen  2019-2020  \n",
       "6251       Thirteen Point Sixty Nine  2019-2020  \n",
       "\n",
       "[6252 rows x 19 columns]"
      ]
     },
     "execution_count": 2,
     "metadata": {},
     "output_type": "execute_result"
    }
   ],
   "source": [
    "data2 = pd.read_csv('data.csv')\n",
    "data2"
   ]
  },
  {
   "cell_type": "code",
   "execution_count": 3,
   "id": "96e11718",
   "metadata": {},
   "outputs": [],
   "source": [
    "#drop the other columns\n",
    "data2.drop(['Unnamed: 0','Year Level','School Year','No.','Appno','SCHOOL','Cntr','Date','Word','SY'],axis=1,inplace=True)"
   ]
  },
  {
   "cell_type": "code",
   "execution_count": 4,
   "id": "4a4deb18",
   "metadata": {},
   "outputs": [
    {
     "data": {
      "text/html": [
       "<div>\n",
       "<style scoped>\n",
       "    .dataframe tbody tr th:only-of-type {\n",
       "        vertical-align: middle;\n",
       "    }\n",
       "\n",
       "    .dataframe tbody tr th {\n",
       "        vertical-align: top;\n",
       "    }\n",
       "\n",
       "    .dataframe thead th {\n",
       "        text-align: right;\n",
       "    }\n",
       "</style>\n",
       "<table border=\"1\" class=\"dataframe\">\n",
       "  <thead>\n",
       "    <tr style=\"text-align: right;\">\n",
       "      <th></th>\n",
       "      <th>Course</th>\n",
       "      <th>College</th>\n",
       "      <th>Graduated</th>\n",
       "      <th>Pr1</th>\n",
       "      <th>Pr2</th>\n",
       "      <th>Pr3</th>\n",
       "      <th>Pr4</th>\n",
       "      <th>Pr5</th>\n",
       "      <th>Oapr</th>\n",
       "    </tr>\n",
       "  </thead>\n",
       "  <tbody>\n",
       "    <tr>\n",
       "      <th>0</th>\n",
       "      <td>BAT</td>\n",
       "      <td>College of Agriculture</td>\n",
       "      <td>1</td>\n",
       "      <td>68.50</td>\n",
       "      <td>48.40</td>\n",
       "      <td>85.06</td>\n",
       "      <td>89.31</td>\n",
       "      <td>43.49</td>\n",
       "      <td>74.25</td>\n",
       "    </tr>\n",
       "    <tr>\n",
       "      <th>1</th>\n",
       "      <td>BAT</td>\n",
       "      <td>College of Agriculture</td>\n",
       "      <td>1</td>\n",
       "      <td>74.80</td>\n",
       "      <td>48.40</td>\n",
       "      <td>59.25</td>\n",
       "      <td>10.45</td>\n",
       "      <td>53.29</td>\n",
       "      <td>60.09</td>\n",
       "    </tr>\n",
       "    <tr>\n",
       "      <th>2</th>\n",
       "      <td>BAT</td>\n",
       "      <td>College of Agriculture</td>\n",
       "      <td>0</td>\n",
       "      <td>84.91</td>\n",
       "      <td>48.40</td>\n",
       "      <td>51.68</td>\n",
       "      <td>34.54</td>\n",
       "      <td>33.69</td>\n",
       "      <td>68.07</td>\n",
       "    </tr>\n",
       "    <tr>\n",
       "      <th>3</th>\n",
       "      <td>BAT</td>\n",
       "      <td>College of Agriculture</td>\n",
       "      <td>1</td>\n",
       "      <td>58.56</td>\n",
       "      <td>71.99</td>\n",
       "      <td>59.25</td>\n",
       "      <td>24.91</td>\n",
       "      <td>63.10</td>\n",
       "      <td>61.37</td>\n",
       "    </tr>\n",
       "    <tr>\n",
       "      <th>4</th>\n",
       "      <td>BAT</td>\n",
       "      <td>College of Agriculture</td>\n",
       "      <td>0</td>\n",
       "      <td>61.05</td>\n",
       "      <td>35.70</td>\n",
       "      <td>59.25</td>\n",
       "      <td>70.61</td>\n",
       "      <td>63.10</td>\n",
       "      <td>61.37</td>\n",
       "    </tr>\n",
       "    <tr>\n",
       "      <th>...</th>\n",
       "      <td>...</td>\n",
       "      <td>...</td>\n",
       "      <td>...</td>\n",
       "      <td>...</td>\n",
       "      <td>...</td>\n",
       "      <td>...</td>\n",
       "      <td>...</td>\n",
       "      <td>...</td>\n",
       "      <td>...</td>\n",
       "    </tr>\n",
       "    <tr>\n",
       "      <th>6247</th>\n",
       "      <td>STEP-SPSP</td>\n",
       "      <td>CTE</td>\n",
       "      <td>0</td>\n",
       "      <td>1.26</td>\n",
       "      <td>6.94</td>\n",
       "      <td>24.36</td>\n",
       "      <td>53.82</td>\n",
       "      <td>1.36</td>\n",
       "      <td>1.79</td>\n",
       "    </tr>\n",
       "    <tr>\n",
       "      <th>6248</th>\n",
       "      <td>STEP-SPSP</td>\n",
       "      <td>CTE</td>\n",
       "      <td>0</td>\n",
       "      <td>1.72</td>\n",
       "      <td>15.12</td>\n",
       "      <td>7.54</td>\n",
       "      <td>63.45</td>\n",
       "      <td>26.06</td>\n",
       "      <td>4.40</td>\n",
       "    </tr>\n",
       "    <tr>\n",
       "      <th>6249</th>\n",
       "      <td>STEP-SPSP</td>\n",
       "      <td>CTE</td>\n",
       "      <td>0</td>\n",
       "      <td>3.94</td>\n",
       "      <td>10.15</td>\n",
       "      <td>51.68</td>\n",
       "      <td>63.45</td>\n",
       "      <td>9.69</td>\n",
       "      <td>9.31</td>\n",
       "    </tr>\n",
       "    <tr>\n",
       "      <th>6250</th>\n",
       "      <td>STEP-SPSP</td>\n",
       "      <td>CTE</td>\n",
       "      <td>0</td>\n",
       "      <td>7.83</td>\n",
       "      <td>5.49</td>\n",
       "      <td>4.27</td>\n",
       "      <td>0.00</td>\n",
       "      <td>0.15</td>\n",
       "      <td>0.19</td>\n",
       "    </tr>\n",
       "    <tr>\n",
       "      <th>6251</th>\n",
       "      <td>STEP-SPSP</td>\n",
       "      <td>CTE</td>\n",
       "      <td>0</td>\n",
       "      <td>20.81</td>\n",
       "      <td>6.94</td>\n",
       "      <td>29.96</td>\n",
       "      <td>44.18</td>\n",
       "      <td>15.15</td>\n",
       "      <td>13.69</td>\n",
       "    </tr>\n",
       "  </tbody>\n",
       "</table>\n",
       "<p>6252 rows × 9 columns</p>\n",
       "</div>"
      ],
      "text/plain": [
       "         Course                 College  Graduated    Pr1    Pr2    Pr3  \\\n",
       "0           BAT  College of Agriculture          1  68.50  48.40  85.06   \n",
       "1           BAT  College of Agriculture          1  74.80  48.40  59.25   \n",
       "2           BAT  College of Agriculture          0  84.91  48.40  51.68   \n",
       "3           BAT  College of Agriculture          1  58.56  71.99  59.25   \n",
       "4           BAT  College of Agriculture          0  61.05  35.70  59.25   \n",
       "...         ...                     ...        ...    ...    ...    ...   \n",
       "6247  STEP-SPSP                     CTE          0   1.26   6.94  24.36   \n",
       "6248  STEP-SPSP                     CTE          0   1.72  15.12   7.54   \n",
       "6249  STEP-SPSP                     CTE          0   3.94  10.15  51.68   \n",
       "6250  STEP-SPSP                     CTE          0   7.83   5.49   4.27   \n",
       "6251  STEP-SPSP                     CTE          0  20.81   6.94  29.96   \n",
       "\n",
       "        Pr4    Pr5   Oapr  \n",
       "0     89.31  43.49  74.25  \n",
       "1     10.45  53.29  60.09  \n",
       "2     34.54  33.69  68.07  \n",
       "3     24.91  63.10  61.37  \n",
       "4     70.61  63.10  61.37  \n",
       "...     ...    ...    ...  \n",
       "6247  53.82   1.36   1.79  \n",
       "6248  63.45  26.06   4.40  \n",
       "6249  63.45   9.69   9.31  \n",
       "6250   0.00   0.15   0.19  \n",
       "6251  44.18  15.15  13.69  \n",
       "\n",
       "[6252 rows x 9 columns]"
      ]
     },
     "execution_count": 4,
     "metadata": {},
     "output_type": "execute_result"
    }
   ],
   "source": [
    "data2"
   ]
  },
  {
   "cell_type": "code",
   "execution_count": 5,
   "id": "a71fd46e",
   "metadata": {},
   "outputs": [
    {
     "data": {
      "text/plain": [
       "Course        object\n",
       "College       object\n",
       "Graduated      int64\n",
       "Pr1          float64\n",
       "Pr2          float64\n",
       "Pr3          float64\n",
       "Pr4          float64\n",
       "Pr5          float64\n",
       "Oapr         float64\n",
       "dtype: object"
      ]
     },
     "execution_count": 5,
     "metadata": {},
     "output_type": "execute_result"
    }
   ],
   "source": [
    "data2.dtypes"
   ]
  },
  {
   "cell_type": "code",
   "execution_count": 6,
   "id": "2711b90e",
   "metadata": {},
   "outputs": [
    {
     "name": "stdout",
     "output_type": "stream",
     "text": [
      "Number of Unique value in column Course: 81\n",
      "Courses:  ['BAT' 'BS AGRI' 'BS AGRIBUS' 'BS FT' 'BSAB' 'BSAT' 'DATBAT' 'BS ARCH'\n",
      " 'BA BROAD' 'BS CE' 'BSN' 'BSESS' 'BS IS' 'BSSW01' 'BS GE' 'BSCS' 'AB AS'\n",
      " 'BS COE' 'AB' 'AB IS' 'BA POLSCI' 'DAL' 'BS CRIM' 'BS CS' 'BSCS01'\n",
      " 'BA ELS' 'BS CD' 'AB FIL' 'BSIT' 'BSHM' 'BS AGRO' 'BS ES' 'BS F'\n",
      " 'AHRS-REG' 'BS HE' 'BS HRM' 'BS ND' 'BAHISTORY' 'AB ENG' 'AB HISTORY'\n",
      " 'AB JOURN' 'AB POLSCI' 'ABMC-BROAD' 'ABMC-JOURN' 'BS STAT' 'BPED'\n",
      " 'BS ACCTNG' 'BS ABE' 'BS PHYSICS' 'BS ECE' 'BS EE' 'BS ENE' 'BS IME'\n",
      " 'BS ME' 'BS SE' 'BSIE' 'BS BIO' 'BS CHEM' 'BS MATH' 'BSSW' 'BCAE' 'BECE'\n",
      " 'BEED' 'BSED' 'BSED SS' 'BSED VEDUC' 'BSEED' 'BSNE' 'STEP-SPSP' 'BSA'\n",
      " 'BS CRIM01' 'AHMS' 'AB MASSCOM' 'BA JOURN' 'MN MED-SRG' 'BPE' 'DISC'\n",
      " 'BEED-MAPE' 'BSED01' 'BSED02' 'PEC']\n"
     ]
    }
   ],
   "source": [
    "#checking unique value in column course\n",
    "print('Number of Unique value in column Course:', data2['Course'].nunique())\n",
    "print('Courses: ',data2['Course'].unique()) "
   ]
  },
  {
   "cell_type": "code",
   "execution_count": 7,
   "id": "dc397e2e",
   "metadata": {},
   "outputs": [],
   "source": [
    "#treating inconsistency \n",
    "data2['Course'].mask(data2['Course'] == 'BAT', 'BACHELOR OF AGRICULTURAL TECHNOLOGY', inplace=True)\n",
    "data2['Course'].mask(data2['Course'] == 'BS AGRI', 'BS AGRICULTURE', inplace=True)\n",
    "data2['Course'].mask(data2['Course'] == 'BS AGRIBUS', 'BACHELOR AGRI-BUSINESS', inplace=True)\n",
    "data2['Course'].mask(data2['Course'] == 'BS FT', 'BS FOOD TECHNOLOGY', inplace=True)\n",
    "data2['Course'].mask(data2['Course'] == 'BSAB', 'BACHELOR AGRI-BUSINESS', inplace=True)\n",
    "data2['Course'].mask(data2['Course'] == 'BS ARCH', 'BS ARCHITECTURE', inplace=True)\n",
    "data2['Course'].mask(data2['Course'] == 'BA BROAD', 'AB BROADCASTING', inplace=True)\n",
    "data2['Course'].mask(data2['Course'] == 'BS CE', 'BS CIVIL ENGINEERING', inplace=True)\n",
    "data2['Course'].mask(data2['Course'] == 'BSN', 'BS NURSING', inplace=True)\n",
    "data2['Course'].mask(data2['Course'] == 'BSESS', 'BS EXERCISE AND SPORTS SCIENCE', inplace=True)\n",
    "data2['Course'].mask(data2['Course'] == 'BS IS', 'BS ISLAMIC STUDIES', inplace=True)\n",
    "data2['Course'].mask(data2['Course'] == 'BSSW01', 'BS SOCIAL WORK', inplace=True)\n",
    "data2['Course'].mask(data2['Course'] == 'BS GE', 'BS GEODETIC ENGINEERING', inplace=True)\n",
    "data2['Course'].mask(data2['Course'] == 'BSCS', 'BS COMPUTER SCIENCE', inplace=True)\n",
    "data2['Course'].mask(data2['Course'] == 'AB AS', 'BS ASIAN STUDIES', inplace=True)\n",
    "data2['Course'].mask(data2['Course'] == 'BS COE', 'BS COMPUTER ENGINEERING', inplace=True)\n",
    "data2['Course'].mask(data2['Course'] == 'AB IS', 'BS ISLAMIC STUDIES', inplace=True)\n",
    "data2['Course'].mask(data2['Course'] == 'BA POLSCI', 'AB POLITICAL SCIENCE', inplace=True)\n",
    "data2['Course'].mask(data2['Course'] == 'BS CRIM', 'BS CRIMINOLOGY', inplace=True)\n",
    "data2['Course'].mask(data2['Course'] == 'BS CS', 'BS COMPUTER SCIENCE', inplace=True)\n",
    "data2['Course'].mask(data2['Course'] == 'BSCS01', 'BS COMPUTER SCIENCE', inplace=True)\n",
    "data2['Course'].mask(data2['Course'] == 'BA ELS', 'BA ELS', inplace=True)\n",
    "data2['Course'].mask(data2['Course'] == 'BS CD', 'BS COMMUNITY DEVELOPMENT', inplace=True)\n",
    "data2['Course'].mask(data2['Course'] == 'AB FIL', 'BATSILYER NG SINING SA FILIPINO', inplace=True)\n",
    "data2['Course'].mask(data2['Course'] == 'BSIT', 'BS INFORMATION TECHNOLOGY', inplace=True)\n",
    "data2['Course'].mask(data2['Course'] == 'BSHM', 'BS HOME MANAGEMENT', inplace=True)\n",
    "data2['Course'].mask(data2['Course'] == 'BS AGRO', 'BS AGRO-FORESTRY', inplace=True)\n",
    "data2['Course'].mask(data2['Course'] == 'BS ES', 'BS ENVIRONMENTAL SCIENCE', inplace=True)\n",
    "data2['Course'].mask(data2['Course'] == 'BS F', 'BS FORESTRY', inplace=True)\n",
    "data2['Course'].mask(data2['Course'] == 'BS HE', 'BS HOME ECONOMICS', inplace=True)\n",
    "data2['Course'].mask(data2['Course'] == 'BS HRM', 'BS HOME MANAGEMENT', inplace=True)\n",
    "data2['Course'].mask(data2['Course'] == 'BS ND', 'BS NUTRITION AND DIETETICS', inplace=True)\n",
    "data2['Course'].mask(data2['Course'] == 'BAHISTORY', 'AB HISTORY', inplace=True)\n",
    "data2['Course'].mask(data2['Course'] == 'AB ENG', 'BA ELS', inplace=True)\n",
    "data2['Course'].mask(data2['Course'] == 'AB JOURN', 'AB JOURNALISM', inplace=True)\n",
    "data2['Course'].mask(data2['Course'] == 'AB POLSCI', 'AB POLITICAL SCIENCE', inplace=True)\n",
    "data2['Course'].mask(data2['Course'] == 'ABMC-BROAD', 'AB BROADCASTING', inplace=True)\n",
    "data2['Course'].mask(data2['Course'] == 'ABMC-JOURN', 'AB JOURNALISM', inplace=True)\n",
    "data2['Course'].mask(data2['Course'] == 'BS STAT', 'BS STATISTIC', inplace=True)\n",
    "data2['Course'].mask(data2['Course'] == 'BPED', 'BACHELOR OF PHYSICAL EDUCATION', inplace=True)\n",
    "data2['Course'].mask(data2['Course'] == 'BPE', 'BACHELOR OF PHYSICAL EDUCATION', inplace=True)\n",
    "data2['Course'].mask(data2['Course'] == 'BS ACCTNG', 'BS ACCOUNTING', inplace=True)\n",
    "data2['Course'].mask(data2['Course'] == 'BS ABE', 'BS AGRICULTURAL ENGINEERING', inplace=True)\n",
    "data2['Course'].mask(data2['Course'] == 'BS ECE', 'BS ELECTRONICS COMMUNICATION ENGINEERING', inplace=True)\n",
    "data2['Course'].mask(data2['Course'] == 'BS EE', 'BS ELECTRICAL ENGINEERING', inplace=True)\n",
    "data2['Course'].mask(data2['Course'] == 'BS ENE', 'BS ENVIRONMENTAL ENGINEERING', inplace=True)\n",
    "data2['Course'].mask(data2['Course'] == 'BS IME', 'BS INDUSTRIAL ENGINEERING', inplace=True)\n",
    "data2['Course'].mask(data2['Course'] == 'BS ME', 'BS MECHANICAL ENGINEERING', inplace=True)\n",
    "data2['Course'].mask(data2['Course'] == 'BS SE', 'BS SANITARY ENGINEERING', inplace=True)\n",
    "data2['Course'].mask(data2['Course'] == 'BSIE', 'BS INDUSTRIAL ENGINEERING', inplace=True)\n",
    "data2['Course'].mask(data2['Course'] == 'BS BIO', 'BS BIOLOGY', inplace=True)\n",
    "data2['Course'].mask(data2['Course'] == 'BS CHEM', 'BS CHEMISTRY', inplace=True)\n",
    "data2['Course'].mask(data2['Course'] == 'BS MATH', 'BS MATHEMATICS', inplace=True)\n",
    "data2['Course'].mask(data2['Course'] == 'BSSW', 'BS SOCIAL WORK', inplace=True)\n",
    "data2['Course'].mask(data2['Course'] == 'BCAE', 'BACHELOR OF CULTURE AND ARTS EDUCATION', inplace=True)\n",
    "data2['Course'].mask(data2['Course'] == 'BECE', 'BACHELOR EARLY CHILDHOOD EDUCATION', inplace=True)\n",
    "data2['Course'].mask(data2['Course'] == 'BEED', 'BACHELOR OF ELEMENTARY EDUCATION', inplace=True)\n",
    "data2['Course'].mask(data2['Course'] == 'BSED', 'BACHELOR OF SECONDARY EDUCATION', inplace=True)\n",
    "data2['Course'].mask(data2['Course'] == 'BSED SS', 'BACHELOR OF SECONDARY EDUCATION', inplace=True)\n",
    "data2['Course'].mask(data2['Course'] == 'BSED VEDUC', 'BACHELOR OF SECONDARY EDUCATION', inplace=True)\n",
    "data2['Course'].mask(data2['Course'] == 'BSEED', 'BACHELOR OF ELEMENTARY EDUCATION', inplace=True)\n",
    "data2['Course'].mask(data2['Course'] == 'BSNE', 'BACHELOR OF SPECIAL NEED EDUCATION', inplace=True)\n",
    "data2['Course'].mask(data2['Course'] == 'BSA', 'BS AGRICULTURE', inplace=True)\n",
    "data2['Course'].mask(data2['Course'] == 'BS CRIM01', 'BS CRIMINOLOGY', inplace=True)\n",
    "data2['Course'].mask(data2['Course'] == 'BA JOURN', 'AB JOURNALISM', inplace=True)\n",
    "data2['Course'].mask(data2['Course'] == 'BSED01', 'BACHELOR OF SECONDARY EDUCATION', inplace=True)\n",
    "data2['Course'].mask(data2['Course'] == 'BSED02', 'BACHELOR OF SECONDARY EDUCATION', inplace=True)\n",
    "data2['Course'].mask(data2['Course'] == 'BSAT', 'BACHELOR OF AGRICULTURAL TECHNOLOGY', inplace=True)\n"
   ]
  },
  {
   "cell_type": "code",
   "execution_count": 8,
   "id": "8b532e25",
   "metadata": {},
   "outputs": [],
   "source": [
    "data2.drop(data2[(data2['Course'] == 'DATBAT')].index, inplace = True)\n",
    "data2.drop(data2[(data2['Course'] == 'AB')].index, inplace = True)\n",
    "data2.drop(data2[(data2['Course'] == 'DAL')].index, inplace = True)\n",
    "data2.drop(data2[(data2['Course'] == 'AHRS-REG')].index, inplace = True)\n",
    "data2.drop(data2[(data2['Course'] == 'STEP-SPSP')].index, inplace = True)\n",
    "data2.drop(data2[(data2['Course'] == 'AHMS')].index, inplace = True)\n",
    "data2.drop(data2[(data2['Course'] == 'PEC')].index, inplace = True)\n",
    "data2.drop(data2[(data2['Course'] == 'MN MED-SRG')].index, inplace = True)\n",
    "data2.drop(data2[(data2['Course'] == 'DISC')].index, inplace = True)\n",
    "data2.drop(data2[(data2['Course'] == 'BEED-MAPE')].index, inplace = True)\n",
    "data2.drop(data2[(data2['Course'] == 'AB MASSCOM')].index, inplace = True)"
   ]
  },
  {
   "cell_type": "code",
   "execution_count": 9,
   "id": "3eb4162a",
   "metadata": {},
   "outputs": [
    {
     "name": "stdout",
     "output_type": "stream",
     "text": [
      "Number of Unique value in column Course: 48\n",
      "Courses:  ['BACHELOR OF AGRICULTURAL TECHNOLOGY' 'BS AGRICULTURE'\n",
      " 'BACHELOR AGRI-BUSINESS' 'BS FOOD TECHNOLOGY' 'BS ARCHITECTURE'\n",
      " 'AB BROADCASTING' 'BS CIVIL ENGINEERING' 'BS NURSING'\n",
      " 'BS EXERCISE AND SPORTS SCIENCE' 'BS ISLAMIC STUDIES' 'BS SOCIAL WORK'\n",
      " 'BS GEODETIC ENGINEERING' 'BS COMPUTER SCIENCE' 'BS ASIAN STUDIES'\n",
      " 'BS COMPUTER ENGINEERING' 'AB POLITICAL SCIENCE' 'BS CRIMINOLOGY'\n",
      " 'BA ELS' 'BS COMMUNITY DEVELOPMENT' 'BATSILYER NG SINING SA FILIPINO'\n",
      " 'BS INFORMATION TECHNOLOGY' 'BS HOME MANAGEMENT' 'BS AGRO-FORESTRY'\n",
      " 'BS ENVIRONMENTAL SCIENCE' 'BS FORESTRY' 'BS HOME ECONOMICS'\n",
      " 'BS NUTRITION AND DIETETICS' 'AB HISTORY' 'AB JOURNALISM' 'BS STATISTIC'\n",
      " 'BACHELOR OF PHYSICAL EDUCATION' 'BS ACCOUNTING'\n",
      " 'BS AGRICULTURAL ENGINEERING' 'BS PHYSICS'\n",
      " 'BS ELECTRONICS COMMUNICATION ENGINEERING' 'BS ELECTRICAL ENGINEERING'\n",
      " 'BS ENVIRONMENTAL ENGINEERING' 'BS INDUSTRIAL ENGINEERING'\n",
      " 'BS MECHANICAL ENGINEERING' 'BS SANITARY ENGINEERING' 'BS BIOLOGY'\n",
      " 'BS CHEMISTRY' 'BS MATHEMATICS' 'BACHELOR OF CULTURE AND ARTS EDUCATION'\n",
      " 'BACHELOR EARLY CHILDHOOD EDUCATION' 'BACHELOR OF ELEMENTARY EDUCATION'\n",
      " 'BACHELOR OF SECONDARY EDUCATION' 'BACHELOR OF SPECIAL NEED EDUCATION']\n"
     ]
    }
   ],
   "source": [
    "#checking unique value in column course\n",
    "print('Number of Unique value in column Course:', data2['Course'].nunique())\n",
    "print('Courses: ',data2['Course'].unique()) "
   ]
  },
  {
   "cell_type": "markdown",
   "id": "bd9f2fb5",
   "metadata": {},
   "source": [
    "# Data Visualiation"
   ]
  },
  {
   "cell_type": "code",
   "execution_count": 10,
   "id": "61992bf8",
   "metadata": {},
   "outputs": [
    {
     "data": {
      "text/plain": [
       "<AxesSubplot:xlabel='Oapr', ylabel='Count'>"
      ]
     },
     "execution_count": 10,
     "metadata": {},
     "output_type": "execute_result"
    },
    {
     "data": {
      "image/png": "[encoded data removed]",
      "text/plain": [
       "<Figure size 432x288 with 1 Axes>"
      ]
     },
     "metadata": {
      "needs_background": "light"
     },
     "output_type": "display_data"
    }
   ],
   "source": [
    "sns.histplot(x=data2['Oapr'],bins=20)"
   ]
  },
  {
   "cell_type": "code",
   "execution_count": 11,
   "id": "4208108d",
   "metadata": {},
   "outputs": [
    {
     "name": "stderr",
     "output_type": "stream",
     "text": [
      "C:\\Users\\Jessa Francisco\\anaconda3\\lib\\site-packages\\seaborn\\_decorators.py:36: FutureWarning: Pass the following variable as a keyword arg: x. From version 0.12, the only valid positional argument will be `data`, and passing other arguments without an explicit keyword will result in an error or misinterpretation.\n",
      "  warnings.warn(\n"
     ]
    },
    {
     "data": {
      "text/plain": [
       "<AxesSubplot:xlabel='Oapr'>"
      ]
     },
     "execution_count": 11,
     "metadata": {},
     "output_type": "execute_result"
    },
    {
     "data": {
      "image/png": "[encoded data removed]",
      "text/plain": [
       "<Figure size 432x288 with 1 Axes>"
      ]
     },
     "metadata": {
      "needs_background": "light"
     },
     "output_type": "display_data"
    }
   ],
   "source": [
    "#checking outliers\n",
    "sns.boxplot(data2['Oapr'])"
   ]
  },
  {
   "cell_type": "code",
   "execution_count": 12,
   "id": "e0c1b27e",
   "metadata": {},
   "outputs": [
    {
     "data": {
      "text/html": [
       "<div>\n",
       "<style scoped>\n",
       "    .dataframe tbody tr th:only-of-type {\n",
       "        vertical-align: middle;\n",
       "    }\n",
       "\n",
       "    .dataframe tbody tr th {\n",
       "        vertical-align: top;\n",
       "    }\n",
       "\n",
       "    .dataframe thead th {\n",
       "        text-align: right;\n",
       "    }\n",
       "</style>\n",
       "<table border=\"1\" class=\"dataframe\">\n",
       "  <thead>\n",
       "    <tr style=\"text-align: right;\">\n",
       "      <th></th>\n",
       "      <th>Course</th>\n",
       "      <th>College</th>\n",
       "      <th>Graduated</th>\n",
       "      <th>Pr1</th>\n",
       "      <th>Pr2</th>\n",
       "      <th>Pr3</th>\n",
       "      <th>Pr4</th>\n",
       "      <th>Pr5</th>\n",
       "      <th>Oapr</th>\n",
       "    </tr>\n",
       "  </thead>\n",
       "  <tbody>\n",
       "    <tr>\n",
       "      <th>53</th>\n",
       "      <td>BS ARCHITECTURE</td>\n",
       "      <td>College of Architecture</td>\n",
       "      <td>0</td>\n",
       "      <td>72.78</td>\n",
       "      <td>30.03</td>\n",
       "      <td>44.12</td>\n",
       "      <td>24.91</td>\n",
       "      <td>43.49</td>\n",
       "      <td>54.31</td>\n",
       "    </tr>\n",
       "    <tr>\n",
       "      <th>55</th>\n",
       "      <td>BS ARCHITECTURE</td>\n",
       "      <td>College of Architecture</td>\n",
       "      <td>0</td>\n",
       "      <td>28.82</td>\n",
       "      <td>54.75</td>\n",
       "      <td>66.81</td>\n",
       "      <td>18.16</td>\n",
       "      <td>72.90</td>\n",
       "      <td>44.06</td>\n",
       "    </tr>\n",
       "    <tr>\n",
       "      <th>120</th>\n",
       "      <td>BS ARCHITECTURE</td>\n",
       "      <td>College of Architecture</td>\n",
       "      <td>0</td>\n",
       "      <td>9.69</td>\n",
       "      <td>35.70</td>\n",
       "      <td>44.12</td>\n",
       "      <td>34.54</td>\n",
       "      <td>26.06</td>\n",
       "      <td>18.60</td>\n",
       "    </tr>\n",
       "    <tr>\n",
       "      <th>190</th>\n",
       "      <td>BS ARCHITECTURE</td>\n",
       "      <td>College of Architecture</td>\n",
       "      <td>0</td>\n",
       "      <td>68.50</td>\n",
       "      <td>30.03</td>\n",
       "      <td>59.25</td>\n",
       "      <td>14.31</td>\n",
       "      <td>63.10</td>\n",
       "      <td>54.31</td>\n",
       "    </tr>\n",
       "    <tr>\n",
       "      <th>215</th>\n",
       "      <td>BS ASIAN STUDIES</td>\n",
       "      <td>CAIS</td>\n",
       "      <td>1</td>\n",
       "      <td>49.95</td>\n",
       "      <td>35.70</td>\n",
       "      <td>29.96</td>\n",
       "      <td>70.61</td>\n",
       "      <td>79.78</td>\n",
       "      <td>52.87</td>\n",
       "    </tr>\n",
       "    <tr>\n",
       "      <th>...</th>\n",
       "      <td>...</td>\n",
       "      <td>...</td>\n",
       "      <td>...</td>\n",
       "      <td>...</td>\n",
       "      <td>...</td>\n",
       "      <td>...</td>\n",
       "      <td>...</td>\n",
       "      <td>...</td>\n",
       "      <td>...</td>\n",
       "    </tr>\n",
       "    <tr>\n",
       "      <th>5616</th>\n",
       "      <td>BS BIOLOGY</td>\n",
       "      <td>CSM</td>\n",
       "      <td>1</td>\n",
       "      <td>41.05</td>\n",
       "      <td>54.75</td>\n",
       "      <td>29.96</td>\n",
       "      <td>18.16</td>\n",
       "      <td>20.60</td>\n",
       "      <td>33.28</td>\n",
       "    </tr>\n",
       "    <tr>\n",
       "      <th>5745</th>\n",
       "      <td>BS STATISTIC</td>\n",
       "      <td>CSM</td>\n",
       "      <td>1</td>\n",
       "      <td>37.99</td>\n",
       "      <td>25.06</td>\n",
       "      <td>51.68</td>\n",
       "      <td>24.91</td>\n",
       "      <td>43.49</td>\n",
       "      <td>34.82</td>\n",
       "    </tr>\n",
       "    <tr>\n",
       "      <th>5773</th>\n",
       "      <td>BS COMMUNITY DEVELOPMENT</td>\n",
       "      <td>CSWCD</td>\n",
       "      <td>1</td>\n",
       "      <td>41.05</td>\n",
       "      <td>54.75</td>\n",
       "      <td>24.36</td>\n",
       "      <td>63.45</td>\n",
       "      <td>33.69</td>\n",
       "      <td>42.52</td>\n",
       "    </tr>\n",
       "    <tr>\n",
       "      <th>5782</th>\n",
       "      <td>BS COMMUNITY DEVELOPMENT</td>\n",
       "      <td>CSWCD</td>\n",
       "      <td>1</td>\n",
       "      <td>25.99</td>\n",
       "      <td>66.85</td>\n",
       "      <td>85.06</td>\n",
       "      <td>53.82</td>\n",
       "      <td>53.29</td>\n",
       "      <td>54.31</td>\n",
       "    </tr>\n",
       "    <tr>\n",
       "      <th>5822</th>\n",
       "      <td>BS COMMUNITY DEVELOPMENT</td>\n",
       "      <td>CSWCD</td>\n",
       "      <td>1</td>\n",
       "      <td>49.95</td>\n",
       "      <td>25.06</td>\n",
       "      <td>36.55</td>\n",
       "      <td>34.54</td>\n",
       "      <td>53.29</td>\n",
       "      <td>40.98</td>\n",
       "    </tr>\n",
       "  </tbody>\n",
       "</table>\n",
       "<p>436 rows × 9 columns</p>\n",
       "</div>"
      ],
      "text/plain": [
       "                        Course                  College  Graduated    Pr1  \\\n",
       "53             BS ARCHITECTURE  College of Architecture          0  72.78   \n",
       "55             BS ARCHITECTURE  College of Architecture          0  28.82   \n",
       "120            BS ARCHITECTURE  College of Architecture          0   9.69   \n",
       "190            BS ARCHITECTURE  College of Architecture          0  68.50   \n",
       "215           BS ASIAN STUDIES                     CAIS          1  49.95   \n",
       "...                        ...                      ...        ...    ...   \n",
       "5616                BS BIOLOGY                      CSM          1  41.05   \n",
       "5745              BS STATISTIC                      CSM          1  37.99   \n",
       "5773  BS COMMUNITY DEVELOPMENT                    CSWCD          1  41.05   \n",
       "5782  BS COMMUNITY DEVELOPMENT                    CSWCD          1  25.99   \n",
       "5822  BS COMMUNITY DEVELOPMENT                    CSWCD          1  49.95   \n",
       "\n",
       "        Pr2    Pr3    Pr4    Pr5   Oapr  \n",
       "53    30.03  44.12  24.91  43.49  54.31  \n",
       "55    54.75  66.81  18.16  72.90  44.06  \n",
       "120   35.70  44.12  34.54  26.06  18.60  \n",
       "190   30.03  59.25  14.31  63.10  54.31  \n",
       "215   35.70  29.96  70.61  79.78  52.87  \n",
       "...     ...    ...    ...    ...    ...  \n",
       "5616  54.75  29.96  18.16  20.60  33.28  \n",
       "5745  25.06  51.68  24.91  43.49  34.82  \n",
       "5773  54.75  24.36  63.45  33.69  42.52  \n",
       "5782  66.85  85.06  53.82  53.29  54.31  \n",
       "5822  25.06  36.55  34.54  53.29  40.98  \n",
       "\n",
       "[436 rows x 9 columns]"
      ]
     },
     "execution_count": 12,
     "metadata": {},
     "output_type": "execute_result"
    }
   ],
   "source": [
    "remove=data2.loc[(data2['Oapr']<60)]\n",
    "remove"
   ]
  },
  {
   "cell_type": "code",
   "execution_count": 13,
   "id": "573eb06b",
   "metadata": {},
   "outputs": [
    {
     "data": {
      "text/html": [
       "<div>\n",
       "<style scoped>\n",
       "    .dataframe tbody tr th:only-of-type {\n",
       "        vertical-align: middle;\n",
       "    }\n",
       "\n",
       "    .dataframe tbody tr th {\n",
       "        vertical-align: top;\n",
       "    }\n",
       "\n",
       "    .dataframe thead th {\n",
       "        text-align: right;\n",
       "    }\n",
       "</style>\n",
       "<table border=\"1\" class=\"dataframe\">\n",
       "  <thead>\n",
       "    <tr style=\"text-align: right;\">\n",
       "      <th></th>\n",
       "      <th>Course</th>\n",
       "      <th>College</th>\n",
       "      <th>Graduated</th>\n",
       "      <th>Pr1</th>\n",
       "      <th>Pr2</th>\n",
       "      <th>Pr3</th>\n",
       "      <th>Pr4</th>\n",
       "      <th>Pr5</th>\n",
       "      <th>Oapr</th>\n",
       "    </tr>\n",
       "  </thead>\n",
       "  <tbody>\n",
       "    <tr>\n",
       "      <th>0</th>\n",
       "      <td>BACHELOR OF AGRICULTURAL TECHNOLOGY</td>\n",
       "      <td>College of Agriculture</td>\n",
       "      <td>1</td>\n",
       "      <td>68.50</td>\n",
       "      <td>48.40</td>\n",
       "      <td>85.06</td>\n",
       "      <td>89.31</td>\n",
       "      <td>43.49</td>\n",
       "      <td>74.25</td>\n",
       "    </tr>\n",
       "    <tr>\n",
       "      <th>1</th>\n",
       "      <td>BACHELOR OF AGRICULTURAL TECHNOLOGY</td>\n",
       "      <td>College of Agriculture</td>\n",
       "      <td>1</td>\n",
       "      <td>74.80</td>\n",
       "      <td>48.40</td>\n",
       "      <td>59.25</td>\n",
       "      <td>10.45</td>\n",
       "      <td>53.29</td>\n",
       "      <td>60.09</td>\n",
       "    </tr>\n",
       "    <tr>\n",
       "      <th>2</th>\n",
       "      <td>BACHELOR OF AGRICULTURAL TECHNOLOGY</td>\n",
       "      <td>College of Agriculture</td>\n",
       "      <td>0</td>\n",
       "      <td>84.91</td>\n",
       "      <td>48.40</td>\n",
       "      <td>51.68</td>\n",
       "      <td>34.54</td>\n",
       "      <td>33.69</td>\n",
       "      <td>68.07</td>\n",
       "    </tr>\n",
       "    <tr>\n",
       "      <th>3</th>\n",
       "      <td>BACHELOR OF AGRICULTURAL TECHNOLOGY</td>\n",
       "      <td>College of Agriculture</td>\n",
       "      <td>1</td>\n",
       "      <td>58.56</td>\n",
       "      <td>71.99</td>\n",
       "      <td>59.25</td>\n",
       "      <td>24.91</td>\n",
       "      <td>63.10</td>\n",
       "      <td>61.37</td>\n",
       "    </tr>\n",
       "    <tr>\n",
       "      <th>4</th>\n",
       "      <td>BACHELOR OF AGRICULTURAL TECHNOLOGY</td>\n",
       "      <td>College of Agriculture</td>\n",
       "      <td>0</td>\n",
       "      <td>61.05</td>\n",
       "      <td>35.70</td>\n",
       "      <td>59.25</td>\n",
       "      <td>70.61</td>\n",
       "      <td>63.10</td>\n",
       "      <td>61.37</td>\n",
       "    </tr>\n",
       "    <tr>\n",
       "      <th>...</th>\n",
       "      <td>...</td>\n",
       "      <td>...</td>\n",
       "      <td>...</td>\n",
       "      <td>...</td>\n",
       "      <td>...</td>\n",
       "      <td>...</td>\n",
       "      <td>...</td>\n",
       "      <td>...</td>\n",
       "      <td>...</td>\n",
       "    </tr>\n",
       "    <tr>\n",
       "      <th>6228</th>\n",
       "      <td>BACHELOR OF SPECIAL NEED EDUCATION</td>\n",
       "      <td>CTE</td>\n",
       "      <td>1</td>\n",
       "      <td>90.77</td>\n",
       "      <td>92.88</td>\n",
       "      <td>96.28</td>\n",
       "      <td>93.38</td>\n",
       "      <td>87.72</td>\n",
       "      <td>95.42</td>\n",
       "    </tr>\n",
       "    <tr>\n",
       "      <th>6229</th>\n",
       "      <td>BACHELOR OF SPECIAL NEED EDUCATION</td>\n",
       "      <td>CTE</td>\n",
       "      <td>1</td>\n",
       "      <td>72.78</td>\n",
       "      <td>77.12</td>\n",
       "      <td>18.75</td>\n",
       "      <td>75.28</td>\n",
       "      <td>72.90</td>\n",
       "      <td>70.30</td>\n",
       "    </tr>\n",
       "    <tr>\n",
       "      <th>6230</th>\n",
       "      <td>BACHELOR OF SPECIAL NEED EDUCATION</td>\n",
       "      <td>CTE</td>\n",
       "      <td>1</td>\n",
       "      <td>88.66</td>\n",
       "      <td>77.12</td>\n",
       "      <td>59.25</td>\n",
       "      <td>79.96</td>\n",
       "      <td>63.10</td>\n",
       "      <td>84.19</td>\n",
       "    </tr>\n",
       "    <tr>\n",
       "      <th>6231</th>\n",
       "      <td>BACHELOR OF SPECIAL NEED EDUCATION</td>\n",
       "      <td>CTE</td>\n",
       "      <td>1</td>\n",
       "      <td>84.91</td>\n",
       "      <td>54.75</td>\n",
       "      <td>85.06</td>\n",
       "      <td>53.82</td>\n",
       "      <td>53.29</td>\n",
       "      <td>78.81</td>\n",
       "    </tr>\n",
       "    <tr>\n",
       "      <th>6232</th>\n",
       "      <td>BACHELOR OF SPECIAL NEED EDUCATION</td>\n",
       "      <td>CTE</td>\n",
       "      <td>1</td>\n",
       "      <td>87.60</td>\n",
       "      <td>82.26</td>\n",
       "      <td>59.25</td>\n",
       "      <td>75.28</td>\n",
       "      <td>53.29</td>\n",
       "      <td>82.81</td>\n",
       "    </tr>\n",
       "  </tbody>\n",
       "</table>\n",
       "<p>5245 rows × 9 columns</p>\n",
       "</div>"
      ],
      "text/plain": [
       "                                   Course                 College  Graduated  \\\n",
       "0     BACHELOR OF AGRICULTURAL TECHNOLOGY  College of Agriculture          1   \n",
       "1     BACHELOR OF AGRICULTURAL TECHNOLOGY  College of Agriculture          1   \n",
       "2     BACHELOR OF AGRICULTURAL TECHNOLOGY  College of Agriculture          0   \n",
       "3     BACHELOR OF AGRICULTURAL TECHNOLOGY  College of Agriculture          1   \n",
       "4     BACHELOR OF AGRICULTURAL TECHNOLOGY  College of Agriculture          0   \n",
       "...                                   ...                     ...        ...   \n",
       "6228   BACHELOR OF SPECIAL NEED EDUCATION                     CTE          1   \n",
       "6229   BACHELOR OF SPECIAL NEED EDUCATION                     CTE          1   \n",
       "6230   BACHELOR OF SPECIAL NEED EDUCATION                     CTE          1   \n",
       "6231   BACHELOR OF SPECIAL NEED EDUCATION                     CTE          1   \n",
       "6232   BACHELOR OF SPECIAL NEED EDUCATION                     CTE          1   \n",
       "\n",
       "        Pr1    Pr2    Pr3    Pr4    Pr5   Oapr  \n",
       "0     68.50  48.40  85.06  89.31  43.49  74.25  \n",
       "1     74.80  48.40  59.25  10.45  53.29  60.09  \n",
       "2     84.91  48.40  51.68  34.54  33.69  68.07  \n",
       "3     58.56  71.99  59.25  24.91  63.10  61.37  \n",
       "4     61.05  35.70  59.25  70.61  63.10  61.37  \n",
       "...     ...    ...    ...    ...    ...    ...  \n",
       "6228  90.77  92.88  96.28  93.38  87.72  95.42  \n",
       "6229  72.78  77.12  18.75  75.28  72.90  70.30  \n",
       "6230  88.66  77.12  59.25  79.96  63.10  84.19  \n",
       "6231  84.91  54.75  85.06  53.82  53.29  78.81  \n",
       "6232  87.60  82.26  59.25  75.28  53.29  82.81  \n",
       "\n",
       "[5245 rows x 9 columns]"
      ]
     },
     "execution_count": 13,
     "metadata": {},
     "output_type": "execute_result"
    }
   ],
   "source": [
    "data2=data2.loc[(data2['Oapr']>=60)]\n",
    "data2"
   ]
  },
  {
   "cell_type": "code",
   "execution_count": 14,
   "id": "e566ab15",
   "metadata": {},
   "outputs": [
    {
     "data": {
      "text/plain": [
       "<AxesSubplot:>"
      ]
     },
     "execution_count": 14,
     "metadata": {},
     "output_type": "execute_result"
    },
    {
     "data": {
      "image/png": "[encoded data removed]",
      "text/plain": [
       "<Figure size 1080x720 with 1 Axes>"
      ]
     },
     "metadata": {
      "needs_background": "light"
     },
     "output_type": "display_data"
    }
   ],
   "source": [
    "data2['Course'].value_counts().plot( kind='bar', figsize=(15,10))"
   ]
  },
  {
   "cell_type": "code",
   "execution_count": 15,
   "id": "1b804724",
   "metadata": {},
   "outputs": [
    {
     "data": {
      "text/plain": [
       "<function matplotlib.pyplot.show(close=None, block=None)>"
      ]
     },
     "execution_count": 15,
     "metadata": {},
     "output_type": "execute_result"
    },
    {
     "data": {
      "image/png": "[encoded data removed]",
      "text/plain": [
       "<Figure size 720x648 with 9 Axes>"
      ]
     },
     "metadata": {
      "needs_background": "light"
     },
     "output_type": "display_data"
    }
   ],
   "source": [
    "#plot histogram \n",
    "data2.hist(figsize=(10,9), ec=\"k\")\n",
    "plt.tight_layout()\n",
    "plt.show"
   ]
  },
  {
   "cell_type": "code",
   "execution_count": 16,
   "id": "8d9e1997",
   "metadata": {},
   "outputs": [
    {
     "data": {
      "text/plain": [
       "<AxesSubplot:>"
      ]
     },
     "execution_count": 16,
     "metadata": {},
     "output_type": "execute_result"
    },
    {
     "data": {
      "image/png": "[encoded data removed]",
      "text/plain": [
       "<Figure size 1080x720 with 1 Axes>"
      ]
     },
     "metadata": {
      "needs_background": "light"
     },
     "output_type": "display_data"
    }
   ],
   "source": [
    "data2['College'].value_counts().plot( kind='bar', figsize=(15,10))"
   ]
  },
  {
   "cell_type": "code",
   "execution_count": 17,
   "id": "2c2f725a",
   "metadata": {},
   "outputs": [
    {
     "data": {
      "text/plain": [
       "[Text(0, 0, '2033'), Text(0, 0, '3212')]"
      ]
     },
     "execution_count": 17,
     "metadata": {},
     "output_type": "execute_result"
    },
    {
     "data": {
      "image/png": "[encoded data removed]",
      "text/plain": [
       "<Figure size 432x288 with 1 Axes>"
      ]
     },
     "metadata": {
      "needs_background": "light"
     },
     "output_type": "display_data"
    }
   ],
   "source": [
    "ax = sns.countplot(x='Graduated', data=data2)\n",
    "ax.bar_label(ax.containers[0])"
   ]
  },
  {
   "cell_type": "markdown",
   "id": "e1871bcc",
   "metadata": {},
   "source": [
    "# Feature Engineering"
   ]
  },
  {
   "cell_type": "code",
   "execution_count": 18,
   "id": "01846a63",
   "metadata": {},
   "outputs": [
    {
     "name": "stderr",
     "output_type": "stream",
     "text": [
      "C:\\Users\\Jessa Francisco\\AppData\\Local\\Temp\\ipykernel_4844\\529803651.py:11: SettingWithCopyWarning: \n",
      "A value is trying to be set on a copy of a slice from a DataFrame.\n",
      "Try using .loc[row_indexer,col_indexer] = value instead\n",
      "\n",
      "See the caveats in the documentation: https://pandas.pydata.org/pandas-docs/stable/user_guide/indexing.html#returning-a-view-versus-a-copy\n",
      "  data2['Sum'] = row_sums\n"
     ]
    },
    {
     "data": {
      "text/html": [
       "<div>\n",
       "<style scoped>\n",
       "    .dataframe tbody tr th:only-of-type {\n",
       "        vertical-align: middle;\n",
       "    }\n",
       "\n",
       "    .dataframe tbody tr th {\n",
       "        vertical-align: top;\n",
       "    }\n",
       "\n",
       "    .dataframe thead th {\n",
       "        text-align: right;\n",
       "    }\n",
       "</style>\n",
       "<table border=\"1\" class=\"dataframe\">\n",
       "  <thead>\n",
       "    <tr style=\"text-align: right;\">\n",
       "      <th></th>\n",
       "      <th>Course</th>\n",
       "      <th>College</th>\n",
       "      <th>Graduated</th>\n",
       "      <th>Pr1</th>\n",
       "      <th>Pr2</th>\n",
       "      <th>Pr3</th>\n",
       "      <th>Pr4</th>\n",
       "      <th>Pr5</th>\n",
       "      <th>Oapr</th>\n",
       "      <th>Sum</th>\n",
       "    </tr>\n",
       "  </thead>\n",
       "  <tbody>\n",
       "    <tr>\n",
       "      <th>0</th>\n",
       "      <td>BACHELOR OF AGRICULTURAL TECHNOLOGY</td>\n",
       "      <td>College of Agriculture</td>\n",
       "      <td>1</td>\n",
       "      <td>68.50</td>\n",
       "      <td>48.40</td>\n",
       "      <td>85.06</td>\n",
       "      <td>89.31</td>\n",
       "      <td>43.49</td>\n",
       "      <td>74.25</td>\n",
       "      <td>409.01</td>\n",
       "    </tr>\n",
       "    <tr>\n",
       "      <th>1</th>\n",
       "      <td>BACHELOR OF AGRICULTURAL TECHNOLOGY</td>\n",
       "      <td>College of Agriculture</td>\n",
       "      <td>1</td>\n",
       "      <td>74.80</td>\n",
       "      <td>48.40</td>\n",
       "      <td>59.25</td>\n",
       "      <td>10.45</td>\n",
       "      <td>53.29</td>\n",
       "      <td>60.09</td>\n",
       "      <td>306.28</td>\n",
       "    </tr>\n",
       "    <tr>\n",
       "      <th>2</th>\n",
       "      <td>BACHELOR OF AGRICULTURAL TECHNOLOGY</td>\n",
       "      <td>College of Agriculture</td>\n",
       "      <td>0</td>\n",
       "      <td>84.91</td>\n",
       "      <td>48.40</td>\n",
       "      <td>51.68</td>\n",
       "      <td>34.54</td>\n",
       "      <td>33.69</td>\n",
       "      <td>68.07</td>\n",
       "      <td>321.29</td>\n",
       "    </tr>\n",
       "    <tr>\n",
       "      <th>3</th>\n",
       "      <td>BACHELOR OF AGRICULTURAL TECHNOLOGY</td>\n",
       "      <td>College of Agriculture</td>\n",
       "      <td>1</td>\n",
       "      <td>58.56</td>\n",
       "      <td>71.99</td>\n",
       "      <td>59.25</td>\n",
       "      <td>24.91</td>\n",
       "      <td>63.10</td>\n",
       "      <td>61.37</td>\n",
       "      <td>339.18</td>\n",
       "    </tr>\n",
       "    <tr>\n",
       "      <th>4</th>\n",
       "      <td>BACHELOR OF AGRICULTURAL TECHNOLOGY</td>\n",
       "      <td>College of Agriculture</td>\n",
       "      <td>0</td>\n",
       "      <td>61.05</td>\n",
       "      <td>35.70</td>\n",
       "      <td>59.25</td>\n",
       "      <td>70.61</td>\n",
       "      <td>63.10</td>\n",
       "      <td>61.37</td>\n",
       "      <td>351.08</td>\n",
       "    </tr>\n",
       "    <tr>\n",
       "      <th>...</th>\n",
       "      <td>...</td>\n",
       "      <td>...</td>\n",
       "      <td>...</td>\n",
       "      <td>...</td>\n",
       "      <td>...</td>\n",
       "      <td>...</td>\n",
       "      <td>...</td>\n",
       "      <td>...</td>\n",
       "      <td>...</td>\n",
       "      <td>...</td>\n",
       "    </tr>\n",
       "    <tr>\n",
       "      <th>6228</th>\n",
       "      <td>BACHELOR OF SPECIAL NEED EDUCATION</td>\n",
       "      <td>CTE</td>\n",
       "      <td>1</td>\n",
       "      <td>90.77</td>\n",
       "      <td>92.88</td>\n",
       "      <td>96.28</td>\n",
       "      <td>93.38</td>\n",
       "      <td>87.72</td>\n",
       "      <td>95.42</td>\n",
       "      <td>556.45</td>\n",
       "    </tr>\n",
       "    <tr>\n",
       "      <th>6229</th>\n",
       "      <td>BACHELOR OF SPECIAL NEED EDUCATION</td>\n",
       "      <td>CTE</td>\n",
       "      <td>1</td>\n",
       "      <td>72.78</td>\n",
       "      <td>77.12</td>\n",
       "      <td>18.75</td>\n",
       "      <td>75.28</td>\n",
       "      <td>72.90</td>\n",
       "      <td>70.30</td>\n",
       "      <td>387.13</td>\n",
       "    </tr>\n",
       "    <tr>\n",
       "      <th>6230</th>\n",
       "      <td>BACHELOR OF SPECIAL NEED EDUCATION</td>\n",
       "      <td>CTE</td>\n",
       "      <td>1</td>\n",
       "      <td>88.66</td>\n",
       "      <td>77.12</td>\n",
       "      <td>59.25</td>\n",
       "      <td>79.96</td>\n",
       "      <td>63.10</td>\n",
       "      <td>84.19</td>\n",
       "      <td>452.28</td>\n",
       "    </tr>\n",
       "    <tr>\n",
       "      <th>6231</th>\n",
       "      <td>BACHELOR OF SPECIAL NEED EDUCATION</td>\n",
       "      <td>CTE</td>\n",
       "      <td>1</td>\n",
       "      <td>84.91</td>\n",
       "      <td>54.75</td>\n",
       "      <td>85.06</td>\n",
       "      <td>53.82</td>\n",
       "      <td>53.29</td>\n",
       "      <td>78.81</td>\n",
       "      <td>410.64</td>\n",
       "    </tr>\n",
       "    <tr>\n",
       "      <th>6232</th>\n",
       "      <td>BACHELOR OF SPECIAL NEED EDUCATION</td>\n",
       "      <td>CTE</td>\n",
       "      <td>1</td>\n",
       "      <td>87.60</td>\n",
       "      <td>82.26</td>\n",
       "      <td>59.25</td>\n",
       "      <td>75.28</td>\n",
       "      <td>53.29</td>\n",
       "      <td>82.81</td>\n",
       "      <td>440.49</td>\n",
       "    </tr>\n",
       "  </tbody>\n",
       "</table>\n",
       "<p>5245 rows × 10 columns</p>\n",
       "</div>"
      ],
      "text/plain": [
       "                                   Course                 College  Graduated  \\\n",
       "0     BACHELOR OF AGRICULTURAL TECHNOLOGY  College of Agriculture          1   \n",
       "1     BACHELOR OF AGRICULTURAL TECHNOLOGY  College of Agriculture          1   \n",
       "2     BACHELOR OF AGRICULTURAL TECHNOLOGY  College of Agriculture          0   \n",
       "3     BACHELOR OF AGRICULTURAL TECHNOLOGY  College of Agriculture          1   \n",
       "4     BACHELOR OF AGRICULTURAL TECHNOLOGY  College of Agriculture          0   \n",
       "...                                   ...                     ...        ...   \n",
       "6228   BACHELOR OF SPECIAL NEED EDUCATION                     CTE          1   \n",
       "6229   BACHELOR OF SPECIAL NEED EDUCATION                     CTE          1   \n",
       "6230   BACHELOR OF SPECIAL NEED EDUCATION                     CTE          1   \n",
       "6231   BACHELOR OF SPECIAL NEED EDUCATION                     CTE          1   \n",
       "6232   BACHELOR OF SPECIAL NEED EDUCATION                     CTE          1   \n",
       "\n",
       "        Pr1    Pr2    Pr3    Pr4    Pr5   Oapr     Sum  \n",
       "0     68.50  48.40  85.06  89.31  43.49  74.25  409.01  \n",
       "1     74.80  48.40  59.25  10.45  53.29  60.09  306.28  \n",
       "2     84.91  48.40  51.68  34.54  33.69  68.07  321.29  \n",
       "3     58.56  71.99  59.25  24.91  63.10  61.37  339.18  \n",
       "4     61.05  35.70  59.25  70.61  63.10  61.37  351.08  \n",
       "...     ...    ...    ...    ...    ...    ...     ...  \n",
       "6228  90.77  92.88  96.28  93.38  87.72  95.42  556.45  \n",
       "6229  72.78  77.12  18.75  75.28  72.90  70.30  387.13  \n",
       "6230  88.66  77.12  59.25  79.96  63.10  84.19  452.28  \n",
       "6231  84.91  54.75  85.06  53.82  53.29  78.81  410.64  \n",
       "6232  87.60  82.26  59.25  75.28  53.29  82.81  440.49  \n",
       "\n",
       "[5245 rows x 10 columns]"
      ]
     },
     "execution_count": 18,
     "metadata": {},
     "output_type": "execute_result"
    }
   ],
   "source": [
    "df_sum = [\n",
    "     'Pr1',\n",
    "     'Pr2',\n",
    "     'Pr3',\n",
    "     'Pr4',\n",
    "     'Pr5',\n",
    "     'Oapr' \n",
    "]\n",
    "df_sum = data2[df_sum]\n",
    "row_sums = df_sum.sum(axis=1)\n",
    "data2['Sum'] = row_sums\n",
    "data2"
   ]
  },
  {
   "cell_type": "code",
   "execution_count": 19,
   "id": "a525dd9a",
   "metadata": {},
   "outputs": [
    {
     "name": "stderr",
     "output_type": "stream",
     "text": [
      "C:\\Users\\Jessa Francisco\\AppData\\Local\\Temp\\ipykernel_4844\\3882810343.py:8: SettingWithCopyWarning: \n",
      "A value is trying to be set on a copy of a slice from a DataFrame.\n",
      "Try using .loc[row_indexer,col_indexer] = value instead\n",
      "\n",
      "See the caveats in the documentation: https://pandas.pydata.org/pandas-docs/stable/user_guide/indexing.html#returning-a-view-versus-a-copy\n",
      "  data2['English/Reading'] = row_sums\n"
     ]
    },
    {
     "data": {
      "text/html": [
       "<div>\n",
       "<style scoped>\n",
       "    .dataframe tbody tr th:only-of-type {\n",
       "        vertical-align: middle;\n",
       "    }\n",
       "\n",
       "    .dataframe tbody tr th {\n",
       "        vertical-align: top;\n",
       "    }\n",
       "\n",
       "    .dataframe thead th {\n",
       "        text-align: right;\n",
       "    }\n",
       "</style>\n",
       "<table border=\"1\" class=\"dataframe\">\n",
       "  <thead>\n",
       "    <tr style=\"text-align: right;\">\n",
       "      <th></th>\n",
       "      <th>Course</th>\n",
       "      <th>College</th>\n",
       "      <th>Graduated</th>\n",
       "      <th>Pr1</th>\n",
       "      <th>Pr2</th>\n",
       "      <th>Pr3</th>\n",
       "      <th>Pr4</th>\n",
       "      <th>Pr5</th>\n",
       "      <th>Oapr</th>\n",
       "      <th>Sum</th>\n",
       "      <th>English/Reading</th>\n",
       "    </tr>\n",
       "  </thead>\n",
       "  <tbody>\n",
       "    <tr>\n",
       "      <th>0</th>\n",
       "      <td>BACHELOR OF AGRICULTURAL TECHNOLOGY</td>\n",
       "      <td>College of Agriculture</td>\n",
       "      <td>1</td>\n",
       "      <td>68.50</td>\n",
       "      <td>48.40</td>\n",
       "      <td>85.06</td>\n",
       "      <td>89.31</td>\n",
       "      <td>43.49</td>\n",
       "      <td>74.25</td>\n",
       "      <td>409.01</td>\n",
       "      <td>116.90</td>\n",
       "    </tr>\n",
       "    <tr>\n",
       "      <th>1</th>\n",
       "      <td>BACHELOR OF AGRICULTURAL TECHNOLOGY</td>\n",
       "      <td>College of Agriculture</td>\n",
       "      <td>1</td>\n",
       "      <td>74.80</td>\n",
       "      <td>48.40</td>\n",
       "      <td>59.25</td>\n",
       "      <td>10.45</td>\n",
       "      <td>53.29</td>\n",
       "      <td>60.09</td>\n",
       "      <td>306.28</td>\n",
       "      <td>123.20</td>\n",
       "    </tr>\n",
       "    <tr>\n",
       "      <th>2</th>\n",
       "      <td>BACHELOR OF AGRICULTURAL TECHNOLOGY</td>\n",
       "      <td>College of Agriculture</td>\n",
       "      <td>0</td>\n",
       "      <td>84.91</td>\n",
       "      <td>48.40</td>\n",
       "      <td>51.68</td>\n",
       "      <td>34.54</td>\n",
       "      <td>33.69</td>\n",
       "      <td>68.07</td>\n",
       "      <td>321.29</td>\n",
       "      <td>133.31</td>\n",
       "    </tr>\n",
       "    <tr>\n",
       "      <th>3</th>\n",
       "      <td>BACHELOR OF AGRICULTURAL TECHNOLOGY</td>\n",
       "      <td>College of Agriculture</td>\n",
       "      <td>1</td>\n",
       "      <td>58.56</td>\n",
       "      <td>71.99</td>\n",
       "      <td>59.25</td>\n",
       "      <td>24.91</td>\n",
       "      <td>63.10</td>\n",
       "      <td>61.37</td>\n",
       "      <td>339.18</td>\n",
       "      <td>130.55</td>\n",
       "    </tr>\n",
       "    <tr>\n",
       "      <th>4</th>\n",
       "      <td>BACHELOR OF AGRICULTURAL TECHNOLOGY</td>\n",
       "      <td>College of Agriculture</td>\n",
       "      <td>0</td>\n",
       "      <td>61.05</td>\n",
       "      <td>35.70</td>\n",
       "      <td>59.25</td>\n",
       "      <td>70.61</td>\n",
       "      <td>63.10</td>\n",
       "      <td>61.37</td>\n",
       "      <td>351.08</td>\n",
       "      <td>96.75</td>\n",
       "    </tr>\n",
       "    <tr>\n",
       "      <th>...</th>\n",
       "      <td>...</td>\n",
       "      <td>...</td>\n",
       "      <td>...</td>\n",
       "      <td>...</td>\n",
       "      <td>...</td>\n",
       "      <td>...</td>\n",
       "      <td>...</td>\n",
       "      <td>...</td>\n",
       "      <td>...</td>\n",
       "      <td>...</td>\n",
       "      <td>...</td>\n",
       "    </tr>\n",
       "    <tr>\n",
       "      <th>6228</th>\n",
       "      <td>BACHELOR OF SPECIAL NEED EDUCATION</td>\n",
       "      <td>CTE</td>\n",
       "      <td>1</td>\n",
       "      <td>90.77</td>\n",
       "      <td>92.88</td>\n",
       "      <td>96.28</td>\n",
       "      <td>93.38</td>\n",
       "      <td>87.72</td>\n",
       "      <td>95.42</td>\n",
       "      <td>556.45</td>\n",
       "      <td>183.65</td>\n",
       "    </tr>\n",
       "    <tr>\n",
       "      <th>6229</th>\n",
       "      <td>BACHELOR OF SPECIAL NEED EDUCATION</td>\n",
       "      <td>CTE</td>\n",
       "      <td>1</td>\n",
       "      <td>72.78</td>\n",
       "      <td>77.12</td>\n",
       "      <td>18.75</td>\n",
       "      <td>75.28</td>\n",
       "      <td>72.90</td>\n",
       "      <td>70.30</td>\n",
       "      <td>387.13</td>\n",
       "      <td>149.90</td>\n",
       "    </tr>\n",
       "    <tr>\n",
       "      <th>6230</th>\n",
       "      <td>BACHELOR OF SPECIAL NEED EDUCATION</td>\n",
       "      <td>CTE</td>\n",
       "      <td>1</td>\n",
       "      <td>88.66</td>\n",
       "      <td>77.12</td>\n",
       "      <td>59.25</td>\n",
       "      <td>79.96</td>\n",
       "      <td>63.10</td>\n",
       "      <td>84.19</td>\n",
       "      <td>452.28</td>\n",
       "      <td>165.78</td>\n",
       "    </tr>\n",
       "    <tr>\n",
       "      <th>6231</th>\n",
       "      <td>BACHELOR OF SPECIAL NEED EDUCATION</td>\n",
       "      <td>CTE</td>\n",
       "      <td>1</td>\n",
       "      <td>84.91</td>\n",
       "      <td>54.75</td>\n",
       "      <td>85.06</td>\n",
       "      <td>53.82</td>\n",
       "      <td>53.29</td>\n",
       "      <td>78.81</td>\n",
       "      <td>410.64</td>\n",
       "      <td>139.66</td>\n",
       "    </tr>\n",
       "    <tr>\n",
       "      <th>6232</th>\n",
       "      <td>BACHELOR OF SPECIAL NEED EDUCATION</td>\n",
       "      <td>CTE</td>\n",
       "      <td>1</td>\n",
       "      <td>87.60</td>\n",
       "      <td>82.26</td>\n",
       "      <td>59.25</td>\n",
       "      <td>75.28</td>\n",
       "      <td>53.29</td>\n",
       "      <td>82.81</td>\n",
       "      <td>440.49</td>\n",
       "      <td>169.86</td>\n",
       "    </tr>\n",
       "  </tbody>\n",
       "</table>\n",
       "<p>5245 rows × 11 columns</p>\n",
       "</div>"
      ],
      "text/plain": [
       "                                   Course                 College  Graduated  \\\n",
       "0     BACHELOR OF AGRICULTURAL TECHNOLOGY  College of Agriculture          1   \n",
       "1     BACHELOR OF AGRICULTURAL TECHNOLOGY  College of Agriculture          1   \n",
       "2     BACHELOR OF AGRICULTURAL TECHNOLOGY  College of Agriculture          0   \n",
       "3     BACHELOR OF AGRICULTURAL TECHNOLOGY  College of Agriculture          1   \n",
       "4     BACHELOR OF AGRICULTURAL TECHNOLOGY  College of Agriculture          0   \n",
       "...                                   ...                     ...        ...   \n",
       "6228   BACHELOR OF SPECIAL NEED EDUCATION                     CTE          1   \n",
       "6229   BACHELOR OF SPECIAL NEED EDUCATION                     CTE          1   \n",
       "6230   BACHELOR OF SPECIAL NEED EDUCATION                     CTE          1   \n",
       "6231   BACHELOR OF SPECIAL NEED EDUCATION                     CTE          1   \n",
       "6232   BACHELOR OF SPECIAL NEED EDUCATION                     CTE          1   \n",
       "\n",
       "        Pr1    Pr2    Pr3    Pr4    Pr5   Oapr     Sum  English/Reading  \n",
       "0     68.50  48.40  85.06  89.31  43.49  74.25  409.01           116.90  \n",
       "1     74.80  48.40  59.25  10.45  53.29  60.09  306.28           123.20  \n",
       "2     84.91  48.40  51.68  34.54  33.69  68.07  321.29           133.31  \n",
       "3     58.56  71.99  59.25  24.91  63.10  61.37  339.18           130.55  \n",
       "4     61.05  35.70  59.25  70.61  63.10  61.37  351.08            96.75  \n",
       "...     ...    ...    ...    ...    ...    ...     ...              ...  \n",
       "6228  90.77  92.88  96.28  93.38  87.72  95.42  556.45           183.65  \n",
       "6229  72.78  77.12  18.75  75.28  72.90  70.30  387.13           149.90  \n",
       "6230  88.66  77.12  59.25  79.96  63.10  84.19  452.28           165.78  \n",
       "6231  84.91  54.75  85.06  53.82  53.29  78.81  410.64           139.66  \n",
       "6232  87.60  82.26  59.25  75.28  53.29  82.81  440.49           169.86  \n",
       "\n",
       "[5245 rows x 11 columns]"
      ]
     },
     "execution_count": 19,
     "metadata": {},
     "output_type": "execute_result"
    }
   ],
   "source": [
    "#Adding the Pr1 which is the English Proficiency and the Pr2 which is the Reading Comprehension\n",
    "Pr1_Pr2 = [\n",
    "     'Pr1',\n",
    "     'Pr2'\n",
    "]\n",
    "Pr1_Pr2 = data2[Pr1_Pr2]\n",
    "row_sums = Pr1_Pr2.sum(axis=1)\n",
    "data2['English/Reading'] = row_sums\n",
    "data2"
   ]
  },
  {
   "cell_type": "code",
   "execution_count": 20,
   "id": "78d70861",
   "metadata": {},
   "outputs": [
    {
     "name": "stderr",
     "output_type": "stream",
     "text": [
      "C:\\Users\\Jessa Francisco\\AppData\\Local\\Temp\\ipykernel_4844\\902706638.py:8: SettingWithCopyWarning: \n",
      "A value is trying to be set on a copy of a slice from a DataFrame.\n",
      "Try using .loc[row_indexer,col_indexer] = value instead\n",
      "\n",
      "See the caveats in the documentation: https://pandas.pydata.org/pandas-docs/stable/user_guide/indexing.html#returning-a-view-versus-a-copy\n",
      "  data2['Math/Logic'] = row_sums\n"
     ]
    },
    {
     "data": {
      "text/html": [
       "<div>\n",
       "<style scoped>\n",
       "    .dataframe tbody tr th:only-of-type {\n",
       "        vertical-align: middle;\n",
       "    }\n",
       "\n",
       "    .dataframe tbody tr th {\n",
       "        vertical-align: top;\n",
       "    }\n",
       "\n",
       "    .dataframe thead th {\n",
       "        text-align: right;\n",
       "    }\n",
       "</style>\n",
       "<table border=\"1\" class=\"dataframe\">\n",
       "  <thead>\n",
       "    <tr style=\"text-align: right;\">\n",
       "      <th></th>\n",
       "      <th>Course</th>\n",
       "      <th>College</th>\n",
       "      <th>Graduated</th>\n",
       "      <th>Pr1</th>\n",
       "      <th>Pr2</th>\n",
       "      <th>Pr3</th>\n",
       "      <th>Pr4</th>\n",
       "      <th>Pr5</th>\n",
       "      <th>Oapr</th>\n",
       "      <th>Sum</th>\n",
       "      <th>English/Reading</th>\n",
       "      <th>Math/Logic</th>\n",
       "    </tr>\n",
       "  </thead>\n",
       "  <tbody>\n",
       "    <tr>\n",
       "      <th>0</th>\n",
       "      <td>BACHELOR OF AGRICULTURAL TECHNOLOGY</td>\n",
       "      <td>College of Agriculture</td>\n",
       "      <td>1</td>\n",
       "      <td>68.50</td>\n",
       "      <td>48.40</td>\n",
       "      <td>85.06</td>\n",
       "      <td>89.31</td>\n",
       "      <td>43.49</td>\n",
       "      <td>74.25</td>\n",
       "      <td>409.01</td>\n",
       "      <td>116.90</td>\n",
       "      <td>132.80</td>\n",
       "    </tr>\n",
       "    <tr>\n",
       "      <th>1</th>\n",
       "      <td>BACHELOR OF AGRICULTURAL TECHNOLOGY</td>\n",
       "      <td>College of Agriculture</td>\n",
       "      <td>1</td>\n",
       "      <td>74.80</td>\n",
       "      <td>48.40</td>\n",
       "      <td>59.25</td>\n",
       "      <td>10.45</td>\n",
       "      <td>53.29</td>\n",
       "      <td>60.09</td>\n",
       "      <td>306.28</td>\n",
       "      <td>123.20</td>\n",
       "      <td>63.74</td>\n",
       "    </tr>\n",
       "    <tr>\n",
       "      <th>2</th>\n",
       "      <td>BACHELOR OF AGRICULTURAL TECHNOLOGY</td>\n",
       "      <td>College of Agriculture</td>\n",
       "      <td>0</td>\n",
       "      <td>84.91</td>\n",
       "      <td>48.40</td>\n",
       "      <td>51.68</td>\n",
       "      <td>34.54</td>\n",
       "      <td>33.69</td>\n",
       "      <td>68.07</td>\n",
       "      <td>321.29</td>\n",
       "      <td>133.31</td>\n",
       "      <td>68.23</td>\n",
       "    </tr>\n",
       "    <tr>\n",
       "      <th>3</th>\n",
       "      <td>BACHELOR OF AGRICULTURAL TECHNOLOGY</td>\n",
       "      <td>College of Agriculture</td>\n",
       "      <td>1</td>\n",
       "      <td>58.56</td>\n",
       "      <td>71.99</td>\n",
       "      <td>59.25</td>\n",
       "      <td>24.91</td>\n",
       "      <td>63.10</td>\n",
       "      <td>61.37</td>\n",
       "      <td>339.18</td>\n",
       "      <td>130.55</td>\n",
       "      <td>88.01</td>\n",
       "    </tr>\n",
       "    <tr>\n",
       "      <th>4</th>\n",
       "      <td>BACHELOR OF AGRICULTURAL TECHNOLOGY</td>\n",
       "      <td>College of Agriculture</td>\n",
       "      <td>0</td>\n",
       "      <td>61.05</td>\n",
       "      <td>35.70</td>\n",
       "      <td>59.25</td>\n",
       "      <td>70.61</td>\n",
       "      <td>63.10</td>\n",
       "      <td>61.37</td>\n",
       "      <td>351.08</td>\n",
       "      <td>96.75</td>\n",
       "      <td>133.71</td>\n",
       "    </tr>\n",
       "    <tr>\n",
       "      <th>...</th>\n",
       "      <td>...</td>\n",
       "      <td>...</td>\n",
       "      <td>...</td>\n",
       "      <td>...</td>\n",
       "      <td>...</td>\n",
       "      <td>...</td>\n",
       "      <td>...</td>\n",
       "      <td>...</td>\n",
       "      <td>...</td>\n",
       "      <td>...</td>\n",
       "      <td>...</td>\n",
       "      <td>...</td>\n",
       "    </tr>\n",
       "    <tr>\n",
       "      <th>6228</th>\n",
       "      <td>BACHELOR OF SPECIAL NEED EDUCATION</td>\n",
       "      <td>CTE</td>\n",
       "      <td>1</td>\n",
       "      <td>90.77</td>\n",
       "      <td>92.88</td>\n",
       "      <td>96.28</td>\n",
       "      <td>93.38</td>\n",
       "      <td>87.72</td>\n",
       "      <td>95.42</td>\n",
       "      <td>556.45</td>\n",
       "      <td>183.65</td>\n",
       "      <td>181.10</td>\n",
       "    </tr>\n",
       "    <tr>\n",
       "      <th>6229</th>\n",
       "      <td>BACHELOR OF SPECIAL NEED EDUCATION</td>\n",
       "      <td>CTE</td>\n",
       "      <td>1</td>\n",
       "      <td>72.78</td>\n",
       "      <td>77.12</td>\n",
       "      <td>18.75</td>\n",
       "      <td>75.28</td>\n",
       "      <td>72.90</td>\n",
       "      <td>70.30</td>\n",
       "      <td>387.13</td>\n",
       "      <td>149.90</td>\n",
       "      <td>148.18</td>\n",
       "    </tr>\n",
       "    <tr>\n",
       "      <th>6230</th>\n",
       "      <td>BACHELOR OF SPECIAL NEED EDUCATION</td>\n",
       "      <td>CTE</td>\n",
       "      <td>1</td>\n",
       "      <td>88.66</td>\n",
       "      <td>77.12</td>\n",
       "      <td>59.25</td>\n",
       "      <td>79.96</td>\n",
       "      <td>63.10</td>\n",
       "      <td>84.19</td>\n",
       "      <td>452.28</td>\n",
       "      <td>165.78</td>\n",
       "      <td>143.06</td>\n",
       "    </tr>\n",
       "    <tr>\n",
       "      <th>6231</th>\n",
       "      <td>BACHELOR OF SPECIAL NEED EDUCATION</td>\n",
       "      <td>CTE</td>\n",
       "      <td>1</td>\n",
       "      <td>84.91</td>\n",
       "      <td>54.75</td>\n",
       "      <td>85.06</td>\n",
       "      <td>53.82</td>\n",
       "      <td>53.29</td>\n",
       "      <td>78.81</td>\n",
       "      <td>410.64</td>\n",
       "      <td>139.66</td>\n",
       "      <td>107.11</td>\n",
       "    </tr>\n",
       "    <tr>\n",
       "      <th>6232</th>\n",
       "      <td>BACHELOR OF SPECIAL NEED EDUCATION</td>\n",
       "      <td>CTE</td>\n",
       "      <td>1</td>\n",
       "      <td>87.60</td>\n",
       "      <td>82.26</td>\n",
       "      <td>59.25</td>\n",
       "      <td>75.28</td>\n",
       "      <td>53.29</td>\n",
       "      <td>82.81</td>\n",
       "      <td>440.49</td>\n",
       "      <td>169.86</td>\n",
       "      <td>128.57</td>\n",
       "    </tr>\n",
       "  </tbody>\n",
       "</table>\n",
       "<p>5245 rows × 12 columns</p>\n",
       "</div>"
      ],
      "text/plain": [
       "                                   Course                 College  Graduated  \\\n",
       "0     BACHELOR OF AGRICULTURAL TECHNOLOGY  College of Agriculture          1   \n",
       "1     BACHELOR OF AGRICULTURAL TECHNOLOGY  College of Agriculture          1   \n",
       "2     BACHELOR OF AGRICULTURAL TECHNOLOGY  College of Agriculture          0   \n",
       "3     BACHELOR OF AGRICULTURAL TECHNOLOGY  College of Agriculture          1   \n",
       "4     BACHELOR OF AGRICULTURAL TECHNOLOGY  College of Agriculture          0   \n",
       "...                                   ...                     ...        ...   \n",
       "6228   BACHELOR OF SPECIAL NEED EDUCATION                     CTE          1   \n",
       "6229   BACHELOR OF SPECIAL NEED EDUCATION                     CTE          1   \n",
       "6230   BACHELOR OF SPECIAL NEED EDUCATION                     CTE          1   \n",
       "6231   BACHELOR OF SPECIAL NEED EDUCATION                     CTE          1   \n",
       "6232   BACHELOR OF SPECIAL NEED EDUCATION                     CTE          1   \n",
       "\n",
       "        Pr1    Pr2    Pr3    Pr4    Pr5   Oapr     Sum  English/Reading  \\\n",
       "0     68.50  48.40  85.06  89.31  43.49  74.25  409.01           116.90   \n",
       "1     74.80  48.40  59.25  10.45  53.29  60.09  306.28           123.20   \n",
       "2     84.91  48.40  51.68  34.54  33.69  68.07  321.29           133.31   \n",
       "3     58.56  71.99  59.25  24.91  63.10  61.37  339.18           130.55   \n",
       "4     61.05  35.70  59.25  70.61  63.10  61.37  351.08            96.75   \n",
       "...     ...    ...    ...    ...    ...    ...     ...              ...   \n",
       "6228  90.77  92.88  96.28  93.38  87.72  95.42  556.45           183.65   \n",
       "6229  72.78  77.12  18.75  75.28  72.90  70.30  387.13           149.90   \n",
       "6230  88.66  77.12  59.25  79.96  63.10  84.19  452.28           165.78   \n",
       "6231  84.91  54.75  85.06  53.82  53.29  78.81  410.64           139.66   \n",
       "6232  87.60  82.26  59.25  75.28  53.29  82.81  440.49           169.86   \n",
       "\n",
       "      Math/Logic  \n",
       "0         132.80  \n",
       "1          63.74  \n",
       "2          68.23  \n",
       "3          88.01  \n",
       "4         133.71  \n",
       "...          ...  \n",
       "6228      181.10  \n",
       "6229      148.18  \n",
       "6230      143.06  \n",
       "6231      107.11  \n",
       "6232      128.57  \n",
       "\n",
       "[5245 rows x 12 columns]"
      ]
     },
     "execution_count": 20,
     "metadata": {},
     "output_type": "execute_result"
    }
   ],
   "source": [
    "#Adding the Pr4 which is the Quantitative Skills and the Pr5 which is the Abstract Thinking Skills\n",
    "Pr4_Pr5 = [\n",
    "     'Pr4',\n",
    "     'Pr5'\n",
    "]\n",
    "Pr4_Pr5 = data2[Pr4_Pr5]\n",
    "row_sums = Pr4_Pr5.sum(axis=1)\n",
    "data2['Math/Logic'] = row_sums\n",
    "data2"
   ]
  },
  {
   "cell_type": "code",
   "execution_count": 21,
   "id": "c2a08b58",
   "metadata": {},
   "outputs": [
    {
     "name": "stderr",
     "output_type": "stream",
     "text": [
      "C:\\Users\\Jessa Francisco\\AppData\\Local\\Temp\\ipykernel_4844\\977496016.py:10: SettingWithCopyWarning: \n",
      "A value is trying to be set on a copy of a slice from a DataFrame.\n",
      "Try using .loc[row_indexer,col_indexer] = value instead\n",
      "\n",
      "See the caveats in the documentation: https://pandas.pydata.org/pandas-docs/stable/user_guide/indexing.html#returning-a-view-versus-a-copy\n",
      "  data2['PR'] = row_sums\n"
     ]
    },
    {
     "data": {
      "text/html": [
       "<div>\n",
       "<style scoped>\n",
       "    .dataframe tbody tr th:only-of-type {\n",
       "        vertical-align: middle;\n",
       "    }\n",
       "\n",
       "    .dataframe tbody tr th {\n",
       "        vertical-align: top;\n",
       "    }\n",
       "\n",
       "    .dataframe thead th {\n",
       "        text-align: right;\n",
       "    }\n",
       "</style>\n",
       "<table border=\"1\" class=\"dataframe\">\n",
       "  <thead>\n",
       "    <tr style=\"text-align: right;\">\n",
       "      <th></th>\n",
       "      <th>Course</th>\n",
       "      <th>College</th>\n",
       "      <th>Graduated</th>\n",
       "      <th>Pr1</th>\n",
       "      <th>Pr2</th>\n",
       "      <th>Pr3</th>\n",
       "      <th>Pr4</th>\n",
       "      <th>Pr5</th>\n",
       "      <th>Oapr</th>\n",
       "      <th>Sum</th>\n",
       "      <th>English/Reading</th>\n",
       "      <th>Math/Logic</th>\n",
       "      <th>PR</th>\n",
       "    </tr>\n",
       "  </thead>\n",
       "  <tbody>\n",
       "    <tr>\n",
       "      <th>0</th>\n",
       "      <td>BACHELOR OF AGRICULTURAL TECHNOLOGY</td>\n",
       "      <td>College of Agriculture</td>\n",
       "      <td>1</td>\n",
       "      <td>68.50</td>\n",
       "      <td>48.40</td>\n",
       "      <td>85.06</td>\n",
       "      <td>89.31</td>\n",
       "      <td>43.49</td>\n",
       "      <td>74.25</td>\n",
       "      <td>409.01</td>\n",
       "      <td>116.90</td>\n",
       "      <td>132.80</td>\n",
       "      <td>334.76</td>\n",
       "    </tr>\n",
       "    <tr>\n",
       "      <th>1</th>\n",
       "      <td>BACHELOR OF AGRICULTURAL TECHNOLOGY</td>\n",
       "      <td>College of Agriculture</td>\n",
       "      <td>1</td>\n",
       "      <td>74.80</td>\n",
       "      <td>48.40</td>\n",
       "      <td>59.25</td>\n",
       "      <td>10.45</td>\n",
       "      <td>53.29</td>\n",
       "      <td>60.09</td>\n",
       "      <td>306.28</td>\n",
       "      <td>123.20</td>\n",
       "      <td>63.74</td>\n",
       "      <td>246.19</td>\n",
       "    </tr>\n",
       "    <tr>\n",
       "      <th>2</th>\n",
       "      <td>BACHELOR OF AGRICULTURAL TECHNOLOGY</td>\n",
       "      <td>College of Agriculture</td>\n",
       "      <td>0</td>\n",
       "      <td>84.91</td>\n",
       "      <td>48.40</td>\n",
       "      <td>51.68</td>\n",
       "      <td>34.54</td>\n",
       "      <td>33.69</td>\n",
       "      <td>68.07</td>\n",
       "      <td>321.29</td>\n",
       "      <td>133.31</td>\n",
       "      <td>68.23</td>\n",
       "      <td>253.22</td>\n",
       "    </tr>\n",
       "    <tr>\n",
       "      <th>3</th>\n",
       "      <td>BACHELOR OF AGRICULTURAL TECHNOLOGY</td>\n",
       "      <td>College of Agriculture</td>\n",
       "      <td>1</td>\n",
       "      <td>58.56</td>\n",
       "      <td>71.99</td>\n",
       "      <td>59.25</td>\n",
       "      <td>24.91</td>\n",
       "      <td>63.10</td>\n",
       "      <td>61.37</td>\n",
       "      <td>339.18</td>\n",
       "      <td>130.55</td>\n",
       "      <td>88.01</td>\n",
       "      <td>277.81</td>\n",
       "    </tr>\n",
       "    <tr>\n",
       "      <th>4</th>\n",
       "      <td>BACHELOR OF AGRICULTURAL TECHNOLOGY</td>\n",
       "      <td>College of Agriculture</td>\n",
       "      <td>0</td>\n",
       "      <td>61.05</td>\n",
       "      <td>35.70</td>\n",
       "      <td>59.25</td>\n",
       "      <td>70.61</td>\n",
       "      <td>63.10</td>\n",
       "      <td>61.37</td>\n",
       "      <td>351.08</td>\n",
       "      <td>96.75</td>\n",
       "      <td>133.71</td>\n",
       "      <td>289.71</td>\n",
       "    </tr>\n",
       "    <tr>\n",
       "      <th>...</th>\n",
       "      <td>...</td>\n",
       "      <td>...</td>\n",
       "      <td>...</td>\n",
       "      <td>...</td>\n",
       "      <td>...</td>\n",
       "      <td>...</td>\n",
       "      <td>...</td>\n",
       "      <td>...</td>\n",
       "      <td>...</td>\n",
       "      <td>...</td>\n",
       "      <td>...</td>\n",
       "      <td>...</td>\n",
       "      <td>...</td>\n",
       "    </tr>\n",
       "    <tr>\n",
       "      <th>6228</th>\n",
       "      <td>BACHELOR OF SPECIAL NEED EDUCATION</td>\n",
       "      <td>CTE</td>\n",
       "      <td>1</td>\n",
       "      <td>90.77</td>\n",
       "      <td>92.88</td>\n",
       "      <td>96.28</td>\n",
       "      <td>93.38</td>\n",
       "      <td>87.72</td>\n",
       "      <td>95.42</td>\n",
       "      <td>556.45</td>\n",
       "      <td>183.65</td>\n",
       "      <td>181.10</td>\n",
       "      <td>461.03</td>\n",
       "    </tr>\n",
       "    <tr>\n",
       "      <th>6229</th>\n",
       "      <td>BACHELOR OF SPECIAL NEED EDUCATION</td>\n",
       "      <td>CTE</td>\n",
       "      <td>1</td>\n",
       "      <td>72.78</td>\n",
       "      <td>77.12</td>\n",
       "      <td>18.75</td>\n",
       "      <td>75.28</td>\n",
       "      <td>72.90</td>\n",
       "      <td>70.30</td>\n",
       "      <td>387.13</td>\n",
       "      <td>149.90</td>\n",
       "      <td>148.18</td>\n",
       "      <td>316.83</td>\n",
       "    </tr>\n",
       "    <tr>\n",
       "      <th>6230</th>\n",
       "      <td>BACHELOR OF SPECIAL NEED EDUCATION</td>\n",
       "      <td>CTE</td>\n",
       "      <td>1</td>\n",
       "      <td>88.66</td>\n",
       "      <td>77.12</td>\n",
       "      <td>59.25</td>\n",
       "      <td>79.96</td>\n",
       "      <td>63.10</td>\n",
       "      <td>84.19</td>\n",
       "      <td>452.28</td>\n",
       "      <td>165.78</td>\n",
       "      <td>143.06</td>\n",
       "      <td>368.09</td>\n",
       "    </tr>\n",
       "    <tr>\n",
       "      <th>6231</th>\n",
       "      <td>BACHELOR OF SPECIAL NEED EDUCATION</td>\n",
       "      <td>CTE</td>\n",
       "      <td>1</td>\n",
       "      <td>84.91</td>\n",
       "      <td>54.75</td>\n",
       "      <td>85.06</td>\n",
       "      <td>53.82</td>\n",
       "      <td>53.29</td>\n",
       "      <td>78.81</td>\n",
       "      <td>410.64</td>\n",
       "      <td>139.66</td>\n",
       "      <td>107.11</td>\n",
       "      <td>331.83</td>\n",
       "    </tr>\n",
       "    <tr>\n",
       "      <th>6232</th>\n",
       "      <td>BACHELOR OF SPECIAL NEED EDUCATION</td>\n",
       "      <td>CTE</td>\n",
       "      <td>1</td>\n",
       "      <td>87.60</td>\n",
       "      <td>82.26</td>\n",
       "      <td>59.25</td>\n",
       "      <td>75.28</td>\n",
       "      <td>53.29</td>\n",
       "      <td>82.81</td>\n",
       "      <td>440.49</td>\n",
       "      <td>169.86</td>\n",
       "      <td>128.57</td>\n",
       "      <td>357.68</td>\n",
       "    </tr>\n",
       "  </tbody>\n",
       "</table>\n",
       "<p>5245 rows × 13 columns</p>\n",
       "</div>"
      ],
      "text/plain": [
       "                                   Course                 College  Graduated  \\\n",
       "0     BACHELOR OF AGRICULTURAL TECHNOLOGY  College of Agriculture          1   \n",
       "1     BACHELOR OF AGRICULTURAL TECHNOLOGY  College of Agriculture          1   \n",
       "2     BACHELOR OF AGRICULTURAL TECHNOLOGY  College of Agriculture          0   \n",
       "3     BACHELOR OF AGRICULTURAL TECHNOLOGY  College of Agriculture          1   \n",
       "4     BACHELOR OF AGRICULTURAL TECHNOLOGY  College of Agriculture          0   \n",
       "...                                   ...                     ...        ...   \n",
       "6228   BACHELOR OF SPECIAL NEED EDUCATION                     CTE          1   \n",
       "6229   BACHELOR OF SPECIAL NEED EDUCATION                     CTE          1   \n",
       "6230   BACHELOR OF SPECIAL NEED EDUCATION                     CTE          1   \n",
       "6231   BACHELOR OF SPECIAL NEED EDUCATION                     CTE          1   \n",
       "6232   BACHELOR OF SPECIAL NEED EDUCATION                     CTE          1   \n",
       "\n",
       "        Pr1    Pr2    Pr3    Pr4    Pr5   Oapr     Sum  English/Reading  \\\n",
       "0     68.50  48.40  85.06  89.31  43.49  74.25  409.01           116.90   \n",
       "1     74.80  48.40  59.25  10.45  53.29  60.09  306.28           123.20   \n",
       "2     84.91  48.40  51.68  34.54  33.69  68.07  321.29           133.31   \n",
       "3     58.56  71.99  59.25  24.91  63.10  61.37  339.18           130.55   \n",
       "4     61.05  35.70  59.25  70.61  63.10  61.37  351.08            96.75   \n",
       "...     ...    ...    ...    ...    ...    ...     ...              ...   \n",
       "6228  90.77  92.88  96.28  93.38  87.72  95.42  556.45           183.65   \n",
       "6229  72.78  77.12  18.75  75.28  72.90  70.30  387.13           149.90   \n",
       "6230  88.66  77.12  59.25  79.96  63.10  84.19  452.28           165.78   \n",
       "6231  84.91  54.75  85.06  53.82  53.29  78.81  410.64           139.66   \n",
       "6232  87.60  82.26  59.25  75.28  53.29  82.81  440.49           169.86   \n",
       "\n",
       "      Math/Logic      PR  \n",
       "0         132.80  334.76  \n",
       "1          63.74  246.19  \n",
       "2          68.23  253.22  \n",
       "3          88.01  277.81  \n",
       "4         133.71  289.71  \n",
       "...          ...     ...  \n",
       "6228      181.10  461.03  \n",
       "6229      148.18  316.83  \n",
       "6230      143.06  368.09  \n",
       "6231      107.11  331.83  \n",
       "6232      128.57  357.68  \n",
       "\n",
       "[5245 rows x 13 columns]"
      ]
     },
     "execution_count": 21,
     "metadata": {},
     "output_type": "execute_result"
    }
   ],
   "source": [
    "pr = [\n",
    "     'Pr1',\n",
    "     'Pr2',\n",
    "     'Pr3',\n",
    "     'Pr4',\n",
    "     'Pr5'\n",
    "]\n",
    "pr = data2[pr]\n",
    "row_sums = pr.sum(axis=1)\n",
    "data2['PR'] = row_sums\n",
    "data2"
   ]
  },
  {
   "cell_type": "code",
   "execution_count": 22,
   "id": "c35067fe",
   "metadata": {},
   "outputs": [
    {
     "name": "stderr",
     "output_type": "stream",
     "text": [
      "C:\\Users\\Jessa Francisco\\AppData\\Local\\Temp\\ipykernel_4844\\846098561.py:1: SettingWithCopyWarning: \n",
      "A value is trying to be set on a copy of a slice from a DataFrame.\n",
      "Try using .loc[row_indexer,col_indexer] = value instead\n",
      "\n",
      "See the caveats in the documentation: https://pandas.pydata.org/pandas-docs/stable/user_guide/indexing.html#returning-a-view-versus-a-copy\n",
      "  data2['Numerical_Course'], uniques = pd.factorize(data2['Course'])\n",
      "C:\\Users\\Jessa Francisco\\AppData\\Local\\Temp\\ipykernel_4844\\846098561.py:2: SettingWithCopyWarning: \n",
      "A value is trying to be set on a copy of a slice from a DataFrame.\n",
      "Try using .loc[row_indexer,col_indexer] = value instead\n",
      "\n",
      "See the caveats in the documentation: https://pandas.pydata.org/pandas-docs/stable/user_guide/indexing.html#returning-a-view-versus-a-copy\n",
      "  data2['Numerical_College'], uniques = pd.factorize(data2['College'])\n"
     ]
    }
   ],
   "source": [
    "data2['Numerical_Course'], uniques = pd.factorize(data2['Course'])\n",
    "data2['Numerical_College'], uniques = pd.factorize(data2['College'])"
   ]
  },
  {
   "cell_type": "code",
   "execution_count": 23,
   "id": "9f993cae",
   "metadata": {},
   "outputs": [
    {
     "data": {
      "image/png": "[encoded data removed]",
      "text/plain": [
       "<Figure size 1080x360 with 6 Axes>"
      ]
     },
     "metadata": {},
     "output_type": "display_data"
    }
   ],
   "source": [
    "# set the font size\n",
    "sns.set(font_scale=1.5)\n",
    "\n",
    "# compute the correlation matrices\n",
    "SpearmanCorr_ = data2.corr(method=\"spearman\")[['Graduated']].sort_values(by='Graduated', ascending=False)\n",
    "PearsonCorr_ = data2.corr(method=\"pearson\")[['Graduated']].sort_values(by='Graduated', ascending=False)\n",
    "KendallCorr_ = data2.corr(method=\"kendall\")[['Graduated']].sort_values(by='Graduated', ascending=False)\n",
    "\n",
    "# create the figure and axes\n",
    "fig, axes = plt.subplots(1, 3, figsize=(15,5), constrained_layout=True)\n",
    "\n",
    "# plot the heatmaps with enlarged font size\n",
    "sns.heatmap(SpearmanCorr_, annot=True, annot_kws={\"size\": 12}, ax=axes[0]).set_title(\"spearman\")\n",
    "sns.heatmap(PearsonCorr_, annot=True, annot_kws={\"size\": 12}, ax=axes[1]).set_title(\"person\")\n",
    "sns.heatmap(KendallCorr_, annot=True, annot_kws={\"size\": 12}, ax=axes[2]).set_title(\"kendall\")\n",
    "\n",
    "# display the heatmaps\n",
    "plt.show()"
   ]
  },
  {
   "cell_type": "markdown",
   "id": "d4eb25d9",
   "metadata": {},
   "source": [
    "20 data extracted from the dataset for future validation"
   ]
  },
  {
   "cell_type": "code",
   "execution_count": 24,
   "id": "97ca60ff",
   "metadata": {},
   "outputs": [
    {
     "data": {
      "text/html": [
       "<div>\n",
       "<style scoped>\n",
       "    .dataframe tbody tr th:only-of-type {\n",
       "        vertical-align: middle;\n",
       "    }\n",
       "\n",
       "    .dataframe tbody tr th {\n",
       "        vertical-align: top;\n",
       "    }\n",
       "\n",
       "    .dataframe thead th {\n",
       "        text-align: right;\n",
       "    }\n",
       "</style>\n",
       "<table border=\"1\" class=\"dataframe\">\n",
       "  <thead>\n",
       "    <tr style=\"text-align: right;\">\n",
       "      <th></th>\n",
       "      <th>Unnamed: 0</th>\n",
       "      <th>Course</th>\n",
       "      <th>College</th>\n",
       "      <th>Graduated</th>\n",
       "      <th>Pr1</th>\n",
       "      <th>Pr2</th>\n",
       "      <th>Pr3</th>\n",
       "      <th>Pr4</th>\n",
       "      <th>Pr5</th>\n",
       "      <th>Oapr</th>\n",
       "      <th>Sum</th>\n",
       "      <th>English/Reading</th>\n",
       "      <th>Math/Logic</th>\n",
       "      <th>PR</th>\n",
       "      <th>Numerical_Course</th>\n",
       "      <th>Numerical_College</th>\n",
       "    </tr>\n",
       "  </thead>\n",
       "  <tbody>\n",
       "    <tr>\n",
       "      <th>0</th>\n",
       "      <td>0</td>\n",
       "      <td>BACHELOR OF AGRICULTURAL TECHNOLOGY</td>\n",
       "      <td>College of Agriculture</td>\n",
       "      <td>1</td>\n",
       "      <td>68.50</td>\n",
       "      <td>48.40</td>\n",
       "      <td>85.06</td>\n",
       "      <td>89.31</td>\n",
       "      <td>43.49</td>\n",
       "      <td>74.25</td>\n",
       "      <td>409.01</td>\n",
       "      <td>116.90</td>\n",
       "      <td>132.80</td>\n",
       "      <td>334.76</td>\n",
       "      <td>0</td>\n",
       "      <td>0</td>\n",
       "    </tr>\n",
       "    <tr>\n",
       "      <th>1</th>\n",
       "      <td>1</td>\n",
       "      <td>BACHELOR OF AGRICULTURAL TECHNOLOGY</td>\n",
       "      <td>College of Agriculture</td>\n",
       "      <td>1</td>\n",
       "      <td>74.80</td>\n",
       "      <td>48.40</td>\n",
       "      <td>59.25</td>\n",
       "      <td>10.45</td>\n",
       "      <td>53.29</td>\n",
       "      <td>60.09</td>\n",
       "      <td>306.28</td>\n",
       "      <td>123.20</td>\n",
       "      <td>63.74</td>\n",
       "      <td>246.19</td>\n",
       "      <td>0</td>\n",
       "      <td>0</td>\n",
       "    </tr>\n",
       "    <tr>\n",
       "      <th>2</th>\n",
       "      <td>2</td>\n",
       "      <td>BACHELOR OF AGRICULTURAL TECHNOLOGY</td>\n",
       "      <td>College of Agriculture</td>\n",
       "      <td>0</td>\n",
       "      <td>84.91</td>\n",
       "      <td>48.40</td>\n",
       "      <td>51.68</td>\n",
       "      <td>34.54</td>\n",
       "      <td>33.69</td>\n",
       "      <td>68.07</td>\n",
       "      <td>321.29</td>\n",
       "      <td>133.31</td>\n",
       "      <td>68.23</td>\n",
       "      <td>253.22</td>\n",
       "      <td>0</td>\n",
       "      <td>0</td>\n",
       "    </tr>\n",
       "    <tr>\n",
       "      <th>3</th>\n",
       "      <td>3</td>\n",
       "      <td>BACHELOR OF AGRICULTURAL TECHNOLOGY</td>\n",
       "      <td>College of Agriculture</td>\n",
       "      <td>1</td>\n",
       "      <td>58.56</td>\n",
       "      <td>71.99</td>\n",
       "      <td>59.25</td>\n",
       "      <td>24.91</td>\n",
       "      <td>63.10</td>\n",
       "      <td>61.37</td>\n",
       "      <td>339.18</td>\n",
       "      <td>130.55</td>\n",
       "      <td>88.01</td>\n",
       "      <td>277.81</td>\n",
       "      <td>0</td>\n",
       "      <td>0</td>\n",
       "    </tr>\n",
       "    <tr>\n",
       "      <th>4</th>\n",
       "      <td>6</td>\n",
       "      <td>BS AGRICULTURE</td>\n",
       "      <td>College of Agriculture</td>\n",
       "      <td>1</td>\n",
       "      <td>52.90</td>\n",
       "      <td>77.12</td>\n",
       "      <td>29.96</td>\n",
       "      <td>75.28</td>\n",
       "      <td>53.29</td>\n",
       "      <td>61.37</td>\n",
       "      <td>349.92</td>\n",
       "      <td>130.02</td>\n",
       "      <td>128.57</td>\n",
       "      <td>288.55</td>\n",
       "      <td>1</td>\n",
       "      <td>0</td>\n",
       "    </tr>\n",
       "    <tr>\n",
       "      <th>...</th>\n",
       "      <td>...</td>\n",
       "      <td>...</td>\n",
       "      <td>...</td>\n",
       "      <td>...</td>\n",
       "      <td>...</td>\n",
       "      <td>...</td>\n",
       "      <td>...</td>\n",
       "      <td>...</td>\n",
       "      <td>...</td>\n",
       "      <td>...</td>\n",
       "      <td>...</td>\n",
       "      <td>...</td>\n",
       "      <td>...</td>\n",
       "      <td>...</td>\n",
       "      <td>...</td>\n",
       "      <td>...</td>\n",
       "    </tr>\n",
       "    <tr>\n",
       "      <th>5220</th>\n",
       "      <td>6228</td>\n",
       "      <td>BACHELOR OF SPECIAL NEED EDUCATION</td>\n",
       "      <td>CTE</td>\n",
       "      <td>1</td>\n",
       "      <td>90.77</td>\n",
       "      <td>92.88</td>\n",
       "      <td>96.28</td>\n",
       "      <td>93.38</td>\n",
       "      <td>87.72</td>\n",
       "      <td>95.42</td>\n",
       "      <td>556.45</td>\n",
       "      <td>183.65</td>\n",
       "      <td>181.10</td>\n",
       "      <td>461.03</td>\n",
       "      <td>47</td>\n",
       "      <td>13</td>\n",
       "    </tr>\n",
       "    <tr>\n",
       "      <th>5221</th>\n",
       "      <td>6229</td>\n",
       "      <td>BACHELOR OF SPECIAL NEED EDUCATION</td>\n",
       "      <td>CTE</td>\n",
       "      <td>1</td>\n",
       "      <td>72.78</td>\n",
       "      <td>77.12</td>\n",
       "      <td>18.75</td>\n",
       "      <td>75.28</td>\n",
       "      <td>72.90</td>\n",
       "      <td>70.30</td>\n",
       "      <td>387.13</td>\n",
       "      <td>149.90</td>\n",
       "      <td>148.18</td>\n",
       "      <td>316.83</td>\n",
       "      <td>47</td>\n",
       "      <td>13</td>\n",
       "    </tr>\n",
       "    <tr>\n",
       "      <th>5222</th>\n",
       "      <td>6230</td>\n",
       "      <td>BACHELOR OF SPECIAL NEED EDUCATION</td>\n",
       "      <td>CTE</td>\n",
       "      <td>1</td>\n",
       "      <td>88.66</td>\n",
       "      <td>77.12</td>\n",
       "      <td>59.25</td>\n",
       "      <td>79.96</td>\n",
       "      <td>63.10</td>\n",
       "      <td>84.19</td>\n",
       "      <td>452.28</td>\n",
       "      <td>165.78</td>\n",
       "      <td>143.06</td>\n",
       "      <td>368.09</td>\n",
       "      <td>47</td>\n",
       "      <td>13</td>\n",
       "    </tr>\n",
       "    <tr>\n",
       "      <th>5223</th>\n",
       "      <td>6231</td>\n",
       "      <td>BACHELOR OF SPECIAL NEED EDUCATION</td>\n",
       "      <td>CTE</td>\n",
       "      <td>1</td>\n",
       "      <td>84.91</td>\n",
       "      <td>54.75</td>\n",
       "      <td>85.06</td>\n",
       "      <td>53.82</td>\n",
       "      <td>53.29</td>\n",
       "      <td>78.81</td>\n",
       "      <td>410.64</td>\n",
       "      <td>139.66</td>\n",
       "      <td>107.11</td>\n",
       "      <td>331.83</td>\n",
       "      <td>47</td>\n",
       "      <td>13</td>\n",
       "    </tr>\n",
       "    <tr>\n",
       "      <th>5224</th>\n",
       "      <td>6232</td>\n",
       "      <td>BACHELOR OF SPECIAL NEED EDUCATION</td>\n",
       "      <td>CTE</td>\n",
       "      <td>1</td>\n",
       "      <td>87.60</td>\n",
       "      <td>82.26</td>\n",
       "      <td>59.25</td>\n",
       "      <td>75.28</td>\n",
       "      <td>53.29</td>\n",
       "      <td>82.81</td>\n",
       "      <td>440.49</td>\n",
       "      <td>169.86</td>\n",
       "      <td>128.57</td>\n",
       "      <td>357.68</td>\n",
       "      <td>47</td>\n",
       "      <td>13</td>\n",
       "    </tr>\n",
       "  </tbody>\n",
       "</table>\n",
       "<p>5225 rows × 16 columns</p>\n",
       "</div>"
      ],
      "text/plain": [
       "      Unnamed: 0                               Course                 College  \\\n",
       "0              0  BACHELOR OF AGRICULTURAL TECHNOLOGY  College of Agriculture   \n",
       "1              1  BACHELOR OF AGRICULTURAL TECHNOLOGY  College of Agriculture   \n",
       "2              2  BACHELOR OF AGRICULTURAL TECHNOLOGY  College of Agriculture   \n",
       "3              3  BACHELOR OF AGRICULTURAL TECHNOLOGY  College of Agriculture   \n",
       "4              6                       BS AGRICULTURE  College of Agriculture   \n",
       "...          ...                                  ...                     ...   \n",
       "5220        6228   BACHELOR OF SPECIAL NEED EDUCATION                     CTE   \n",
       "5221        6229   BACHELOR OF SPECIAL NEED EDUCATION                     CTE   \n",
       "5222        6230   BACHELOR OF SPECIAL NEED EDUCATION                     CTE   \n",
       "5223        6231   BACHELOR OF SPECIAL NEED EDUCATION                     CTE   \n",
       "5224        6232   BACHELOR OF SPECIAL NEED EDUCATION                     CTE   \n",
       "\n",
       "      Graduated    Pr1    Pr2    Pr3    Pr4    Pr5   Oapr     Sum  \\\n",
       "0             1  68.50  48.40  85.06  89.31  43.49  74.25  409.01   \n",
       "1             1  74.80  48.40  59.25  10.45  53.29  60.09  306.28   \n",
       "2             0  84.91  48.40  51.68  34.54  33.69  68.07  321.29   \n",
       "3             1  58.56  71.99  59.25  24.91  63.10  61.37  339.18   \n",
       "4             1  52.90  77.12  29.96  75.28  53.29  61.37  349.92   \n",
       "...         ...    ...    ...    ...    ...    ...    ...     ...   \n",
       "5220          1  90.77  92.88  96.28  93.38  87.72  95.42  556.45   \n",
       "5221          1  72.78  77.12  18.75  75.28  72.90  70.30  387.13   \n",
       "5222          1  88.66  77.12  59.25  79.96  63.10  84.19  452.28   \n",
       "5223          1  84.91  54.75  85.06  53.82  53.29  78.81  410.64   \n",
       "5224          1  87.60  82.26  59.25  75.28  53.29  82.81  440.49   \n",
       "\n",
       "      English/Reading  Math/Logic      PR  Numerical_Course  Numerical_College  \n",
       "0              116.90      132.80  334.76                 0                  0  \n",
       "1              123.20       63.74  246.19                 0                  0  \n",
       "2              133.31       68.23  253.22                 0                  0  \n",
       "3              130.55       88.01  277.81                 0                  0  \n",
       "4              130.02      128.57  288.55                 1                  0  \n",
       "...               ...         ...     ...               ...                ...  \n",
       "5220           183.65      181.10  461.03                47                 13  \n",
       "5221           149.90      148.18  316.83                47                 13  \n",
       "5222           165.78      143.06  368.09                47                 13  \n",
       "5223           139.66      107.11  331.83                47                 13  \n",
       "5224           169.86      128.57  357.68                47                 13  \n",
       "\n",
       "[5225 rows x 16 columns]"
      ]
     },
     "execution_count": 24,
     "metadata": {},
     "output_type": "execute_result"
    }
   ],
   "source": [
    "data2 = pd.read_csv('val_data.csv')\n",
    "data2"
   ]
  },
  {
   "cell_type": "code",
   "execution_count": 25,
   "id": "af49f1e6",
   "metadata": {},
   "outputs": [],
   "source": [
    "new_data= data2.drop(data2[(data2['Course'] == 'BACHELOR OF AGRICULTURAL TECHNOLOGY')].index)"
   ]
  },
  {
   "cell_type": "code",
   "execution_count": 26,
   "id": "cc34a077",
   "metadata": {},
   "outputs": [],
   "source": [
    "# from sklearn.model_selection import train_test_split\n",
    "data2_train,data2_test = train_test_split(new_data, test_size=0.2, random_state=0)"
   ]
  },
  {
   "cell_type": "code",
   "execution_count": 27,
   "id": "3e6fd7da",
   "metadata": {},
   "outputs": [
    {
     "name": "stdout",
     "output_type": "stream",
     "text": [
      "Training:  (4176, 16)\n",
      "Testing:  (1044, 16)\n"
     ]
    }
   ],
   "source": [
    "print('Training: ', data2_train.shape)\n",
    "print('Testing: ', data2_test.shape)"
   ]
  },
  {
   "cell_type": "code",
   "execution_count": 28,
   "id": "4ba60db1",
   "metadata": {},
   "outputs": [],
   "source": [
    "feature = [\n",
    "     'Pr1',\n",
    "     'Pr2',\n",
    "     'Pr3',\n",
    "     'Pr4',\n",
    "     'Pr5',\n",
    "     'Oapr'\n",
    "    \n",
    "]\n",
    "target ='College'"
   ]
  },
  {
   "cell_type": "code",
   "execution_count": 29,
   "id": "648b9482",
   "metadata": {},
   "outputs": [],
   "source": [
    "x_train = data2_train[feature]\n",
    "y_train = data2_train[target]\n",
    "x_test = data2_test[feature]\n",
    "y_test = data2_test[target]"
   ]
  },
  {
   "cell_type": "markdown",
   "id": "0206f1f6",
   "metadata": {},
   "source": [
    "# Model 1"
   ]
  },
  {
   "cell_type": "markdown",
   "id": "97acceaf",
   "metadata": {},
   "source": [
    "### Random Forest"
   ]
  },
  {
   "cell_type": "code",
   "execution_count": 30,
   "id": "a7c04e41",
   "metadata": {},
   "outputs": [
    {
     "name": "stdout",
     "output_type": "stream",
     "text": [
      "Accuracy: 0.2021072796934866\n"
     ]
    }
   ],
   "source": [
    "#Random Forest\n",
    "from sklearn.ensemble import RandomForestClassifier\n",
    "model_rfc = RandomForestClassifier()\n",
    "\n",
    "# Train the model\n",
    "model_rfc.fit(x_train, y_train)\n",
    "\n",
    "# Predict using the trained model\n",
    "pred_rfc = model_rfc.predict(x_test)\n",
    "accuracy = accuracy_score(y_test, pred_rfc)\n",
    "print(\"Accuracy:\", accuracy)"
   ]
  },
  {
   "cell_type": "code",
   "execution_count": 31,
   "id": "f6eb1150",
   "metadata": {},
   "outputs": [
    {
     "name": "stdout",
     "output_type": "stream",
     "text": [
      "Log loss:  4.497012077774051\n"
     ]
    }
   ],
   "source": [
    "from sklearn.metrics import log_loss\n",
    "\n",
    "# Predict the class probabilities for new samples\n",
    "y_pred = model_rfc.predict_proba(x_test)\n",
    "\n",
    "# Calculate the log loss\n",
    "log_loss_rfc = log_loss(y_test, y_pred)\n",
    "\n",
    "print(\"Log loss: \", log_loss_rfc)"
   ]
  },
  {
   "cell_type": "code",
   "execution_count": 32,
   "id": "9a554f94",
   "metadata": {},
   "outputs": [
    {
     "data": {
      "text/html": [
       "<div>\n",
       "<style scoped>\n",
       "    .dataframe tbody tr th:only-of-type {\n",
       "        vertical-align: middle;\n",
       "    }\n",
       "\n",
       "    .dataframe tbody tr th {\n",
       "        vertical-align: top;\n",
       "    }\n",
       "\n",
       "    .dataframe thead th {\n",
       "        text-align: right;\n",
       "    }\n",
       "</style>\n",
       "<table border=\"1\" class=\"dataframe\">\n",
       "  <thead>\n",
       "    <tr style=\"text-align: right;\">\n",
       "      <th></th>\n",
       "      <th>Accuracy</th>\n",
       "      <th>AUC</th>\n",
       "    </tr>\n",
       "  </thead>\n",
       "  <tbody>\n",
       "    <tr>\n",
       "      <th>Prediction</th>\n",
       "      <td>0.202107</td>\n",
       "      <td>-</td>\n",
       "    </tr>\n",
       "    <tr>\n",
       "      <th>K-fold</th>\n",
       "      <td>0.192529</td>\n",
       "      <td>0.610907</td>\n",
       "    </tr>\n",
       "  </tbody>\n",
       "</table>\n",
       "</div>"
      ],
      "text/plain": [
       "            Accuracy       AUC\n",
       "Prediction  0.202107         -\n",
       "K-fold      0.192529  0.610907"
      ]
     },
     "execution_count": 32,
     "metadata": {},
     "output_type": "execute_result"
    }
   ],
   "source": [
    "#KFOLD \n",
    "\n",
    "pred_rfc = model_rfc.predict(x_test)\n",
    "\n",
    "cv = KFold(n_splits=2, random_state=0, shuffle=True)\n",
    "#evaluate model\n",
    "auc_rfc = cross_val_score(model_rfc, x_train, y_train, scoring='roc_auc_ovr', cv=cv, n_jobs=-1)\n",
    "accuracy_rfc = cross_val_score(model_rfc, x_train, y_train, scoring='accuracy', cv=cv, n_jobs=-1)\n",
    "pd.DataFrame([[accuracy_score(y_test, pred_rfc), '-'],[np.mean(accuracy_rfc), np.mean(auc_rfc)]], columns = ['Accuracy', 'AUC'], index = ['Prediction', 'K-fold'])"
   ]
  },
  {
   "cell_type": "code",
   "execution_count": 33,
   "id": "93857eef",
   "metadata": {},
   "outputs": [
    {
     "name": "stdout",
     "output_type": "stream",
     "text": [
      "Precision:  0.17453197074594134\n",
      "Recall:  0.2021072796934866\n",
      "F1:  0.17985975590234704\n"
     ]
    }
   ],
   "source": [
    "#calculating precision, recall, and f1 score\n",
    "precision_rfc = precision_score(y_test, pred_rfc,average='weighted')\n",
    "recall_rfc = recall_score(y_test, pred_rfc,average='weighted')\n",
    "f1_rfc = f1_score(y_test, pred_rfc,average='weighted')\n",
    "print('Precision: ',precision_rfc)\n",
    "print('Recall: ',recall_rfc)\n",
    "print('F1: ',f1_rfc)"
   ]
  },
  {
   "cell_type": "markdown",
   "id": "ddda8b09",
   "metadata": {},
   "source": [
    "### KNN"
   ]
  },
  {
   "cell_type": "code",
   "execution_count": 34,
   "id": "7d80a6a5",
   "metadata": {},
   "outputs": [
    {
     "name": "stdout",
     "output_type": "stream",
     "text": [
      "Accuracy: 0.15613026819923373\n"
     ]
    }
   ],
   "source": [
    "# KNN\n",
    "from sklearn.neighbors import KNeighborsClassifier\n",
    "\n",
    "model_knn = KNeighborsClassifier()\n",
    "\n",
    "# Train the model\n",
    "model_knn.fit(x_train, y_train)\n",
    "\n",
    "# Predict using the trained model\n",
    "pred_knn = model_knn.predict(x_test)\n",
    "accuracy = accuracy_score(y_test, pred_knn)\n",
    "print(\"Accuracy:\", accuracy)"
   ]
  },
  {
   "cell_type": "code",
   "execution_count": 35,
   "id": "56c46924",
   "metadata": {},
   "outputs": [
    {
     "name": "stdout",
     "output_type": "stream",
     "text": [
      "Log loss:  19.812534888585972\n"
     ]
    }
   ],
   "source": [
    "from sklearn.metrics import log_loss\n",
    "\n",
    "# Predict the class probabilities for new samples\n",
    "y_pred = model_knn.predict_proba(x_test)\n",
    "\n",
    "# Calculate the log loss\n",
    "log_loss_knn = log_loss(y_test, y_pred)\n",
    "\n",
    "print(\"Log loss: \", log_loss_knn)"
   ]
  },
  {
   "cell_type": "code",
   "execution_count": 36,
   "id": "a50498e1",
   "metadata": {},
   "outputs": [
    {
     "data": {
      "text/html": [
       "<div>\n",
       "<style scoped>\n",
       "    .dataframe tbody tr th:only-of-type {\n",
       "        vertical-align: middle;\n",
       "    }\n",
       "\n",
       "    .dataframe tbody tr th {\n",
       "        vertical-align: top;\n",
       "    }\n",
       "\n",
       "    .dataframe thead th {\n",
       "        text-align: right;\n",
       "    }\n",
       "</style>\n",
       "<table border=\"1\" class=\"dataframe\">\n",
       "  <thead>\n",
       "    <tr style=\"text-align: right;\">\n",
       "      <th></th>\n",
       "      <th>Accuracy</th>\n",
       "      <th>AUC</th>\n",
       "    </tr>\n",
       "  </thead>\n",
       "  <tbody>\n",
       "    <tr>\n",
       "      <th>Prediction</th>\n",
       "      <td>0.156130</td>\n",
       "      <td>-</td>\n",
       "    </tr>\n",
       "    <tr>\n",
       "      <th>K-fold</th>\n",
       "      <td>0.167385</td>\n",
       "      <td>0.55413</td>\n",
       "    </tr>\n",
       "  </tbody>\n",
       "</table>\n",
       "</div>"
      ],
      "text/plain": [
       "            Accuracy      AUC\n",
       "Prediction  0.156130        -\n",
       "K-fold      0.167385  0.55413"
      ]
     },
     "execution_count": 36,
     "metadata": {},
     "output_type": "execute_result"
    }
   ],
   "source": [
    "#KFOLD \n",
    "pred_knn = model_knn.predict(x_test)\n",
    "\n",
    "cv = KFold(n_splits=2, random_state=0, shuffle=True)\n",
    "#evaluate model\n",
    "auc_knn = cross_val_score(model_knn, x_train, y_train, scoring='roc_auc_ovr', cv=cv, n_jobs=-1)\n",
    "accuracy_knn = cross_val_score(model_knn, x_train, y_train, scoring='accuracy', cv=cv, n_jobs=-1)\n",
    "pd.DataFrame([[accuracy_score(y_test, pred_knn), '-'],[np.mean(accuracy_knn), np.mean(auc_knn)]], columns = ['Accuracy', 'AUC'], index = ['Prediction', 'K-fold'])"
   ]
  },
  {
   "cell_type": "code",
   "execution_count": 37,
   "id": "09619756",
   "metadata": {},
   "outputs": [
    {
     "name": "stdout",
     "output_type": "stream",
     "text": [
      "Precision:  0.1475873656476639\n",
      "Recall:  0.15613026819923373\n",
      "F1:  0.14868691064156492\n"
     ]
    }
   ],
   "source": [
    "#calculating precision, recall, and f1 score\n",
    "precision_knn = precision_score(y_test, pred_knn,average='weighted')\n",
    "recall_knn = recall_score(y_test, pred_knn,average='weighted')\n",
    "f1_knn = f1_score(y_test, pred_knn,average='weighted')\n",
    "print('Precision: ',precision_knn)\n",
    "print('Recall: ',recall_knn)\n",
    "print('F1: ',f1_knn)"
   ]
  },
  {
   "cell_type": "markdown",
   "id": "ac147ea3",
   "metadata": {},
   "source": [
    "### Naive Bayes"
   ]
  },
  {
   "cell_type": "code",
   "execution_count": 38,
   "id": "31171bca",
   "metadata": {},
   "outputs": [
    {
     "name": "stdout",
     "output_type": "stream",
     "text": [
      "Accuracy: 0.23659003831417624\n"
     ]
    }
   ],
   "source": [
    "# Naive Bayes\n",
    "from sklearn.naive_bayes import GaussianNB\n",
    "model_naive = GaussianNB()\n",
    "\n",
    "# Train the model\n",
    "model_naive.fit(x_train, y_train)\n",
    "\n",
    "# Predict using the trained model\n",
    "pred_naive = model_naive.predict(x_test)\n",
    "accuracy = accuracy_score(y_test, pred_naive)\n",
    "print(\"Accuracy:\", accuracy)"
   ]
  },
  {
   "cell_type": "code",
   "execution_count": 39,
   "id": "9f150ba8",
   "metadata": {},
   "outputs": [
    {
     "name": "stdout",
     "output_type": "stream",
     "text": [
      "Log loss:  2.6483939077794454\n"
     ]
    }
   ],
   "source": [
    "from sklearn.metrics import log_loss\n",
    "\n",
    "# Predict the class probabilities for new samples\n",
    "y_pred = model_naive.predict_proba(x_test)\n",
    "\n",
    "# Calculate the log loss\n",
    "log_loss_naive = log_loss(y_test, y_pred)\n",
    "\n",
    "print(\"Log loss: \", log_loss_naive)"
   ]
  },
  {
   "cell_type": "code",
   "execution_count": 40,
   "id": "4690fd83",
   "metadata": {},
   "outputs": [
    {
     "data": {
      "text/html": [
       "<div>\n",
       "<style scoped>\n",
       "    .dataframe tbody tr th:only-of-type {\n",
       "        vertical-align: middle;\n",
       "    }\n",
       "\n",
       "    .dataframe tbody tr th {\n",
       "        vertical-align: top;\n",
       "    }\n",
       "\n",
       "    .dataframe thead th {\n",
       "        text-align: right;\n",
       "    }\n",
       "</style>\n",
       "<table border=\"1\" class=\"dataframe\">\n",
       "  <thead>\n",
       "    <tr style=\"text-align: right;\">\n",
       "      <th></th>\n",
       "      <th>Accuracy</th>\n",
       "      <th>AUC</th>\n",
       "    </tr>\n",
       "  </thead>\n",
       "  <tbody>\n",
       "    <tr>\n",
       "      <th>Prediction</th>\n",
       "      <td>0.23659</td>\n",
       "      <td>-</td>\n",
       "    </tr>\n",
       "    <tr>\n",
       "      <th>K-fold</th>\n",
       "      <td>0.23228</td>\n",
       "      <td>0.674982</td>\n",
       "    </tr>\n",
       "  </tbody>\n",
       "</table>\n",
       "</div>"
      ],
      "text/plain": [
       "            Accuracy       AUC\n",
       "Prediction   0.23659         -\n",
       "K-fold       0.23228  0.674982"
      ]
     },
     "execution_count": 40,
     "metadata": {},
     "output_type": "execute_result"
    }
   ],
   "source": [
    "#KFOLD \n",
    "pred_naive = model_naive.predict(x_test)\n",
    "\n",
    "cv = KFold(n_splits=2, random_state=0, shuffle=True)\n",
    "#evaluate model\n",
    "auc_naive = cross_val_score(model_naive, x_train, y_train, scoring='roc_auc_ovr', cv=cv, n_jobs=-1)\n",
    "accuracy_naive = cross_val_score(model_naive, x_train, y_train, scoring='accuracy', cv=cv, n_jobs=-1)\n",
    "pd.DataFrame([[accuracy_score(y_test, pred_naive), '-'],[np.mean(accuracy_naive), np.mean(auc_naive)]], columns = ['Accuracy', 'AUC'], index = ['Prediction', 'K-fold'])"
   ]
  },
  {
   "cell_type": "code",
   "execution_count": 41,
   "id": "8475dbcf",
   "metadata": {},
   "outputs": [
    {
     "name": "stdout",
     "output_type": "stream",
     "text": [
      "Precision:  0.12477440029083467\n",
      "Recall:  0.23659003831417624\n",
      "F1:  0.14790867017105946\n"
     ]
    },
    {
     "name": "stderr",
     "output_type": "stream",
     "text": [
      "C:\\Users\\Jessa Francisco\\anaconda3\\lib\\site-packages\\sklearn\\metrics\\_classification.py:1344: UndefinedMetricWarning: Precision is ill-defined and being set to 0.0 in labels with no predicted samples. Use `zero_division` parameter to control this behavior.\n",
      "  _warn_prf(average, modifier, msg_start, len(result))\n"
     ]
    }
   ],
   "source": [
    "#calculating precision, recall, and f1 score\n",
    "precision_naive = precision_score(y_test, pred_naive,average='weighted')\n",
    "recall_naive = recall_score(y_test, pred_naive,average='weighted')\n",
    "f1_naive = f1_score(y_test, pred_naive,average='weighted')\n",
    "print('Precision: ',precision_naive)\n",
    "print('Recall: ',recall_naive)\n",
    "print('F1: ',f1_naive)"
   ]
  },
  {
   "cell_type": "markdown",
   "id": "2e53f96c",
   "metadata": {},
   "source": [
    "### SVM"
   ]
  },
  {
   "cell_type": "code",
   "execution_count": 42,
   "id": "cdb29f50",
   "metadata": {},
   "outputs": [
    {
     "name": "stdout",
     "output_type": "stream",
     "text": [
      "Accuracy: 0.25862068965517243\n"
     ]
    }
   ],
   "source": [
    "# SVM\n",
    "from sklearn.svm import SVC\n",
    "\n",
    "# Create an SVM model\n",
    "model_svm = SVC(probability=True)\n",
    "\n",
    "# Train the model\n",
    "model_svm.fit(x_train, y_train)\n",
    "\n",
    "# Predict using the trained model\n",
    "pred_svm = model_svm.predict(x_test)\n",
    "accuracy = accuracy_score(y_test, pred_svm)\n",
    "print(\"Accuracy:\", accuracy)"
   ]
  },
  {
   "cell_type": "code",
   "execution_count": 43,
   "id": "e51b2e7e",
   "metadata": {},
   "outputs": [
    {
     "name": "stdout",
     "output_type": "stream",
     "text": [
      "Log loss:  2.262445319272478\n"
     ]
    }
   ],
   "source": [
    "from sklearn.metrics import log_loss\n",
    "\n",
    "# Predict the class probabilities for new samples\n",
    "y_pred = model_svm.predict_proba(x_test)\n",
    "\n",
    "# Calculate the log loss\n",
    "log_loss_svm = log_loss(y_test, y_pred)\n",
    "\n",
    "print(\"Log loss: \", log_loss_svm)"
   ]
  },
  {
   "cell_type": "code",
   "execution_count": 44,
   "id": "f1f8a853",
   "metadata": {},
   "outputs": [
    {
     "data": {
      "text/html": [
       "<div>\n",
       "<style scoped>\n",
       "    .dataframe tbody tr th:only-of-type {\n",
       "        vertical-align: middle;\n",
       "    }\n",
       "\n",
       "    .dataframe tbody tr th {\n",
       "        vertical-align: top;\n",
       "    }\n",
       "\n",
       "    .dataframe thead th {\n",
       "        text-align: right;\n",
       "    }\n",
       "</style>\n",
       "<table border=\"1\" class=\"dataframe\">\n",
       "  <thead>\n",
       "    <tr style=\"text-align: right;\">\n",
       "      <th></th>\n",
       "      <th>Accuracy</th>\n",
       "      <th>AUC</th>\n",
       "    </tr>\n",
       "  </thead>\n",
       "  <tbody>\n",
       "    <tr>\n",
       "      <th>Prediction</th>\n",
       "      <td>0.258621</td>\n",
       "      <td>-</td>\n",
       "    </tr>\n",
       "    <tr>\n",
       "      <th>K-fold</th>\n",
       "      <td>0.256705</td>\n",
       "      <td>0.663227</td>\n",
       "    </tr>\n",
       "  </tbody>\n",
       "</table>\n",
       "</div>"
      ],
      "text/plain": [
       "            Accuracy       AUC\n",
       "Prediction  0.258621         -\n",
       "K-fold      0.256705  0.663227"
      ]
     },
     "execution_count": 44,
     "metadata": {},
     "output_type": "execute_result"
    }
   ],
   "source": [
    "#KFOLD \n",
    "pred_svm = model_svm.predict(x_test)\n",
    "\n",
    "cv = KFold(n_splits=2, random_state=0, shuffle=True)\n",
    "#evaluate model\n",
    "auc_svm = cross_val_score(model_svm, x_train, y_train, scoring='roc_auc_ovr', cv=cv, n_jobs=-1)\n",
    "accuracy_svm = cross_val_score(model_svm, x_train, y_train, scoring='accuracy', cv=cv, n_jobs=-1)\n",
    "pd.DataFrame([[accuracy_score(y_test, pred_svm), '-'],[np.mean(accuracy_svm), np.mean(auc_svm)]], columns = ['Accuracy', 'AUC'], index = ['Prediction', 'K-fold'])"
   ]
  },
  {
   "cell_type": "code",
   "execution_count": 45,
   "id": "a4402082",
   "metadata": {},
   "outputs": [
    {
     "name": "stdout",
     "output_type": "stream",
     "text": [
      "Precision:  0.15577060677707372\n",
      "Recall:  0.25862068965517243\n",
      "F1:  0.16687963024435074\n"
     ]
    },
    {
     "name": "stderr",
     "output_type": "stream",
     "text": [
      "C:\\Users\\Jessa Francisco\\anaconda3\\lib\\site-packages\\sklearn\\metrics\\_classification.py:1344: UndefinedMetricWarning: Precision is ill-defined and being set to 0.0 in labels with no predicted samples. Use `zero_division` parameter to control this behavior.\n",
      "  _warn_prf(average, modifier, msg_start, len(result))\n"
     ]
    }
   ],
   "source": [
    "#calculating precision, recall, and f1 score\n",
    "precision_svm = precision_score(y_test, pred_svm,average='weighted')\n",
    "recall_svm = recall_score(y_test, pred_svm,average='weighted')\n",
    "f1_svm = f1_score(y_test, pred_svm,average='weighted')\n",
    "print('Precision: ',precision_svm)\n",
    "print('Recall: ',recall_svm)\n",
    "print('F1: ',f1_svm)"
   ]
  },
  {
   "cell_type": "markdown",
   "id": "55ede791",
   "metadata": {},
   "source": [
    "### Decision Tree"
   ]
  },
  {
   "cell_type": "code",
   "execution_count": 46,
   "id": "164935a2",
   "metadata": {},
   "outputs": [
    {
     "name": "stdout",
     "output_type": "stream",
     "text": [
      "Accuracy: 0.1532567049808429\n"
     ]
    }
   ],
   "source": [
    "# Desicion Tree\n",
    "from sklearn.tree import DecisionTreeClassifier\n",
    "\n",
    "model_tree = DecisionTreeClassifier()\n",
    "# Train the model\n",
    "model_tree.fit(x_train , y_train)\n",
    "\n",
    "# Predict using the trained model\n",
    "pred_tree = model_tree.predict(x_test)\n",
    "accuracy = accuracy_score(y_test, pred_tree)\n",
    "print(\"Accuracy:\", accuracy)"
   ]
  },
  {
   "cell_type": "code",
   "execution_count": 47,
   "id": "3d9332f9",
   "metadata": {},
   "outputs": [
    {
     "name": "stdout",
     "output_type": "stream",
     "text": [
      "Log loss:  30.520385769310465\n"
     ]
    }
   ],
   "source": [
    "from sklearn.metrics import log_loss\n",
    "\n",
    "# Predict the class probabilities for new samples\n",
    "y_pred = model_tree.predict_proba(x_test)\n",
    "\n",
    "# Calculate the log loss\n",
    "log_loss_tree = log_loss(y_test, y_pred)\n",
    "\n",
    "print(\"Log loss: \", log_loss_tree)"
   ]
  },
  {
   "cell_type": "code",
   "execution_count": 48,
   "id": "b008b4ba",
   "metadata": {},
   "outputs": [
    {
     "data": {
      "text/html": [
       "<div>\n",
       "<style scoped>\n",
       "    .dataframe tbody tr th:only-of-type {\n",
       "        vertical-align: middle;\n",
       "    }\n",
       "\n",
       "    .dataframe tbody tr th {\n",
       "        vertical-align: top;\n",
       "    }\n",
       "\n",
       "    .dataframe thead th {\n",
       "        text-align: right;\n",
       "    }\n",
       "</style>\n",
       "<table border=\"1\" class=\"dataframe\">\n",
       "  <thead>\n",
       "    <tr style=\"text-align: right;\">\n",
       "      <th></th>\n",
       "      <th>Accuracy</th>\n",
       "      <th>AUC</th>\n",
       "    </tr>\n",
       "  </thead>\n",
       "  <tbody>\n",
       "    <tr>\n",
       "      <th>Prediction</th>\n",
       "      <td>0.153257</td>\n",
       "      <td>-</td>\n",
       "    </tr>\n",
       "    <tr>\n",
       "      <th>K-fold</th>\n",
       "      <td>0.148228</td>\n",
       "      <td>0.513402</td>\n",
       "    </tr>\n",
       "  </tbody>\n",
       "</table>\n",
       "</div>"
      ],
      "text/plain": [
       "            Accuracy       AUC\n",
       "Prediction  0.153257         -\n",
       "K-fold      0.148228  0.513402"
      ]
     },
     "execution_count": 48,
     "metadata": {},
     "output_type": "execute_result"
    }
   ],
   "source": [
    "#KFOLD \n",
    "pred_tree = model_tree.predict(x_test)\n",
    "\n",
    "cv = KFold(n_splits=2, random_state=0, shuffle=True)\n",
    "#evaluate model\n",
    "auc_tree = cross_val_score(model_tree, x_train, y_train, scoring='roc_auc_ovr', cv=cv, n_jobs=-1)\n",
    "accuracy_tree = cross_val_score(model_tree, x_train, y_train, scoring='accuracy', cv=cv, n_jobs=-1)\n",
    "pd.DataFrame([[accuracy_score(y_test, pred_tree), '-'],[np.mean(accuracy_tree), np.mean(auc_tree)]], columns = ['Accuracy', 'AUC'], index = ['Prediction', 'K-fold'])"
   ]
  },
  {
   "cell_type": "code",
   "execution_count": 49,
   "id": "6d390088",
   "metadata": {},
   "outputs": [
    {
     "name": "stdout",
     "output_type": "stream",
     "text": [
      "Precision:  0.15444552891077168\n",
      "Recall:  0.1532567049808429\n",
      "F1:  0.15287078959478884\n"
     ]
    }
   ],
   "source": [
    "#calculating precision, recall, and f1 score\n",
    "precision_tree = precision_score(y_test, pred_tree,average='weighted')\n",
    "recall_tree = recall_score(y_test, pred_tree,average='weighted')\n",
    "f1_tree = f1_score(y_test, pred_tree,average='weighted')\n",
    "print('Precision: ',precision_tree)\n",
    "print('Recall: ',recall_tree)\n",
    "print('F1: ',f1_tree)"
   ]
  },
  {
   "cell_type": "code",
   "execution_count": 50,
   "id": "efb52de7",
   "metadata": {},
   "outputs": [
    {
     "name": "stdout",
     "output_type": "stream",
     "text": [
      "FEATURES [Pr1, Pr2, Pr3, Pr4, Pr5, OAPR]\n",
      "Train:\n",
      "\tRandom Forest: 0.9889846743295019\n",
      "\tNaive Bayes: 0.23347701149425287\n",
      "\tSVM: 0.2717911877394636\n",
      "\tDecision Tree: 0.9889846743295019\n",
      "\tKNN: 0.40804597701149425\n",
      "\n",
      "\n",
      "\n",
      "Test:\n",
      "\tRandom Forest: 0.2021072796934866\n",
      "\tNaive Bayes: 0.23659003831417624\n",
      "\tSVM: 0.25862068965517243\n",
      "\tDecision Tree: 0.1532567049808429\n",
      "\tKNN: 0.15613026819923373\n"
     ]
    }
   ],
   "source": [
    "print('FEATURES [Pr1, Pr2, Pr3, Pr4, Pr5, OAPR]')\n",
    "print('Train:')\n",
    "print('\\tRandom Forest:',accuracy_score(y_train, model_rfc.predict(x_train)))\n",
    "print('\\tNaive Bayes:',accuracy_score(y_train, model_naive.predict(x_train)))\n",
    "print('\\tSVM:',accuracy_score(y_train, model_svm.predict(x_train)))\n",
    "print('\\tDecision Tree:',accuracy_score(y_train, model_tree.predict(x_train)))\n",
    "print('\\tKNN:',accuracy_score(y_train, model_knn.predict(x_train)))\n",
    "print('\\n\\n')\n",
    "print('Test:')\n",
    "print('\\tRandom Forest:',accuracy_score(y_test,pred_rfc))\n",
    "print('\\tNaive Bayes:',accuracy_score(y_test,pred_naive))\n",
    "print('\\tSVM:',accuracy_score(y_test,pred_svm))\n",
    "print('\\tDecision Tree:',accuracy_score(y_test,pred_tree))\n",
    "print('\\tKNN:',accuracy_score(y_test,pred_knn))"
   ]
  },
  {
   "cell_type": "code",
   "execution_count": 51,
   "id": "4c8496e9",
   "metadata": {},
   "outputs": [
    {
     "data": {
      "text/html": [
       "<div>\n",
       "<style scoped>\n",
       "    .dataframe tbody tr th:only-of-type {\n",
       "        vertical-align: middle;\n",
       "    }\n",
       "\n",
       "    .dataframe tbody tr th {\n",
       "        vertical-align: top;\n",
       "    }\n",
       "\n",
       "    .dataframe thead th {\n",
       "        text-align: right;\n",
       "    }\n",
       "</style>\n",
       "<table border=\"1\" class=\"dataframe\">\n",
       "  <thead>\n",
       "    <tr style=\"text-align: right;\">\n",
       "      <th></th>\n",
       "      <th>Model</th>\n",
       "      <th>Accuracy</th>\n",
       "      <th>AUC</th>\n",
       "      <th>Log loss</th>\n",
       "      <th>Precision</th>\n",
       "      <th>Recall</th>\n",
       "      <th>F1 Score</th>\n",
       "    </tr>\n",
       "  </thead>\n",
       "  <tbody>\n",
       "    <tr>\n",
       "      <th>0</th>\n",
       "      <td>Random Forest</td>\n",
       "      <td>0.202107</td>\n",
       "      <td>0.610907</td>\n",
       "      <td>4.497012</td>\n",
       "      <td>0.174532</td>\n",
       "      <td>0.202107</td>\n",
       "      <td>0.179860</td>\n",
       "    </tr>\n",
       "    <tr>\n",
       "      <th>1</th>\n",
       "      <td>Naive Bayes</td>\n",
       "      <td>0.236590</td>\n",
       "      <td>0.674982</td>\n",
       "      <td>2.648394</td>\n",
       "      <td>0.124774</td>\n",
       "      <td>0.236590</td>\n",
       "      <td>0.147909</td>\n",
       "    </tr>\n",
       "    <tr>\n",
       "      <th>2</th>\n",
       "      <td>SVM</td>\n",
       "      <td>0.258621</td>\n",
       "      <td>0.663227</td>\n",
       "      <td>2.262445</td>\n",
       "      <td>0.155771</td>\n",
       "      <td>0.258621</td>\n",
       "      <td>0.166880</td>\n",
       "    </tr>\n",
       "    <tr>\n",
       "      <th>3</th>\n",
       "      <td>KNN</td>\n",
       "      <td>0.156130</td>\n",
       "      <td>0.554130</td>\n",
       "      <td>19.812535</td>\n",
       "      <td>0.147587</td>\n",
       "      <td>0.156130</td>\n",
       "      <td>0.148687</td>\n",
       "    </tr>\n",
       "    <tr>\n",
       "      <th>4</th>\n",
       "      <td>Decision Tree</td>\n",
       "      <td>0.153257</td>\n",
       "      <td>0.513402</td>\n",
       "      <td>30.520386</td>\n",
       "      <td>0.154446</td>\n",
       "      <td>0.153257</td>\n",
       "      <td>0.152871</td>\n",
       "    </tr>\n",
       "  </tbody>\n",
       "</table>\n",
       "</div>"
      ],
      "text/plain": [
       "           Model  Accuracy       AUC   Log loss  Precision    Recall  F1 Score\n",
       "0  Random Forest  0.202107  0.610907   4.497012   0.174532  0.202107  0.179860\n",
       "1    Naive Bayes  0.236590  0.674982   2.648394   0.124774  0.236590  0.147909\n",
       "2            SVM  0.258621  0.663227   2.262445   0.155771  0.258621  0.166880\n",
       "3            KNN  0.156130  0.554130  19.812535   0.147587  0.156130  0.148687\n",
       "4  Decision Tree  0.153257  0.513402  30.520386   0.154446  0.153257  0.152871"
      ]
     },
     "execution_count": 51,
     "metadata": {},
     "output_type": "execute_result"
    }
   ],
   "source": [
    "df = {\n",
    "    'Model': ['Random Forest', 'Naive Bayes', 'SVM', 'KNN', 'Decision Tree'],\n",
    "    'Accuracy': [accuracy_score(y_test,pred_rfc), accuracy_score(y_test,pred_naive), accuracy_score(y_test,pred_svm), accuracy_score(y_test,pred_knn),accuracy_score(y_test,pred_tree)],\n",
    "    'AUC': [np.mean(auc_rfc), np.mean(auc_naive), np.mean(auc_svm), np.mean(auc_knn),np.mean(auc_tree)],\n",
    "    'Log loss': [log_loss_rfc, log_loss_naive, log_loss_svm, log_loss_knn,log_loss_tree],\n",
    "    'Precision': [precision_rfc, precision_naive, precision_svm, precision_knn,precision_tree],\n",
    "    'Recall': [recall_rfc, recall_naive, recall_svm, recall_knn,recall_tree],\n",
    "    'F1 Score': [f1_rfc, f1_naive, f1_svm, f1_knn,f1_tree],\n",
    "\n",
    "}\n",
    "\n",
    "df = pd.DataFrame(df)\n",
    "df\n"
   ]
  },
  {
   "cell_type": "markdown",
   "id": "104811d5",
   "metadata": {},
   "source": [
    "# Hyperparameter Tuning "
   ]
  },
  {
   "cell_type": "code",
   "execution_count": 52,
   "id": "46fda746",
   "metadata": {},
   "outputs": [],
   "source": [
    "feature = [\n",
    "     'Pr1',\n",
    "     'Pr2',\n",
    "     'Pr3',\n",
    "     'Pr4',\n",
    "     'Pr5',\n",
    "     'Oapr'\n",
    "    \n",
    "]\n",
    "target ='College'"
   ]
  },
  {
   "cell_type": "code",
   "execution_count": 53,
   "id": "099abc89",
   "metadata": {},
   "outputs": [],
   "source": [
    "x_train = data2_train[feature]\n",
    "y_train = data2_train[target]\n",
    "x_test = data2_test[feature]\n",
    "y_test = data2_test[target]"
   ]
  },
  {
   "cell_type": "code",
   "execution_count": 54,
   "id": "5ca717b8",
   "metadata": {},
   "outputs": [
    {
     "name": "stdout",
     "output_type": "stream",
     "text": [
      "\n",
      "\n",
      "Parameter: {'n_estimators': 150, 'min_samples_split': 2, 'min_samples_leaf': 4, 'max_depth': 5}\n"
     ]
    }
   ],
   "source": [
    "#Random Forest\n",
    "from sklearn.model_selection import RandomizedSearchCV\n",
    "from sklearn.ensemble import RandomForestClassifier\n",
    "\n",
    "np.random.seed(0)\n",
    "# Define the hyperparameters to search\n",
    "param_dist1 = {'n_estimators': [150,70,90],\n",
    "              'max_depth': [None, 5, 10, 20, 30],\n",
    "              'min_samples_split': [2, 5, 10],\n",
    "              'min_samples_leaf': [1, 2, 4]}\n",
    "\n",
    "# Initialize the model\n",
    "model_random = RandomForestClassifier()\n",
    "\n",
    "# Perform random search\n",
    "random_search = RandomizedSearchCV(model_random, param_distributions=param_dist1, n_iter=20, cv=5)\n",
    "random_search.fit(x_train, y_train)\n",
    "\n",
    "# Print the best hyperparameters\n",
    "print(\"\\n\\nParameter:\",random_search.best_params_)\n"
   ]
  },
  {
   "cell_type": "code",
   "execution_count": 55,
   "id": "708fd6c2",
   "metadata": {},
   "outputs": [
    {
     "name": "stdout",
     "output_type": "stream",
     "text": [
      "\n",
      "\n",
      "Parameter:  {'var_smoothing': 1e-10}\n"
     ]
    }
   ],
   "source": [
    "#Naive Bayes\n",
    "from sklearn.model_selection import GridSearchCV\n",
    "from sklearn.naive_bayes import GaussianNB\n",
    "\n",
    "# Define the hyperparameters to search\n",
    "param_grid = {'var_smoothing': [1e-10, 1e-9, 1e-8, 1e-7, 1e-6]}\n",
    "\n",
    "# Initialize the model\n",
    "model_naive = GaussianNB()\n",
    "\n",
    "# Perform grid search\n",
    "grid = GridSearchCV(model_naive, param_grid, cv=5)\n",
    "grid.fit(x_train, y_train)\n",
    "\n",
    "# Print the best hyperparameters\n",
    "print(\"\\n\\nParameter: \",grid.best_params_)"
   ]
  },
  {
   "cell_type": "code",
   "execution_count": 56,
   "id": "78d1f204",
   "metadata": {},
   "outputs": [
    {
     "name": "stdout",
     "output_type": "stream",
     "text": [
      "\n",
      "\n",
      "Parameter:  {'C': 1, 'gamma': 0.001}\n"
     ]
    }
   ],
   "source": [
    "#SVM\n",
    "from sklearn.model_selection import GridSearchCV\n",
    "from sklearn.svm import SVC\n",
    "\n",
    "# Define the hyperparameters to search\n",
    "param_grid = {'C': [1, 10, 100, 1000],\n",
    "              'gamma': [0.001, 0.01, 0.1, 1]}\n",
    "\n",
    "# Initialize the model\n",
    "model_svm = SVC(kernel='rbf')\n",
    "\n",
    "# Perform grid search\n",
    "grid = GridSearchCV(model_svm, param_grid, cv=5)\n",
    "grid.fit(x_train, y_train)\n",
    "\n",
    "# Print the best hyperparameters\n",
    "print(\"\\n\\nParameter: \",grid.best_params_)"
   ]
  },
  {
   "cell_type": "code",
   "execution_count": 57,
   "id": "d677d476",
   "metadata": {},
   "outputs": [
    {
     "name": "stdout",
     "output_type": "stream",
     "text": [
      "\n",
      "\n",
      "Parameter:  {'n_neighbors': 9, 'weights': 'distance'}\n"
     ]
    }
   ],
   "source": [
    "#KNN\n",
    "from sklearn.model_selection import GridSearchCV\n",
    "from sklearn.neighbors import KNeighborsClassifier\n",
    "\n",
    "\n",
    "# Define the hyperparameters to search\n",
    "param_grid = {'n_neighbors': [1, 3, 5, 7, 9],\n",
    "              'weights': ['uniform', 'distance']}\n",
    "\n",
    "# Initialize the model\n",
    "model_knn = KNeighborsClassifier()\n",
    "\n",
    "# Perform grid search\n",
    "grid = GridSearchCV(model_knn, param_grid, cv=5)\n",
    "grid.fit(x_train, y_train)\n",
    "\n",
    "# Print the best hyperparameters\n",
    "print(\"\\n\\nParameter: \",grid.best_params_)"
   ]
  },
  {
   "cell_type": "code",
   "execution_count": 58,
   "id": "f4e288bb",
   "metadata": {},
   "outputs": [
    {
     "name": "stdout",
     "output_type": "stream",
     "text": [
      "\n",
      "\n",
      "Parameter:  {'max_depth': 3, 'min_samples_split': 2}\n"
     ]
    }
   ],
   "source": [
    "#Decision Tree\n",
    "from sklearn.model_selection import GridSearchCV\n",
    "from sklearn.tree import DecisionTreeClassifier\n",
    "\n",
    "# Define the hyperparameters to search\n",
    "param_grid = {'max_depth': [1, 3, 5, 7, 9],\n",
    "              'min_samples_split': [2, 4, 6, 8, 10]}\n",
    "\n",
    "# Initialize the model\n",
    "model_tree = DecisionTreeClassifier()\n",
    "\n",
    "# Perform grid search\n",
    "grid = GridSearchCV(model_tree, param_grid, cv=5)\n",
    "grid.fit(x_train, y_train)\n",
    "\n",
    "# Print the best hyperparameters\n",
    "print(\"\\n\\nParameter: \",grid.best_params_)\n"
   ]
  },
  {
   "cell_type": "markdown",
   "id": "2eb80b07",
   "metadata": {},
   "source": [
    "## Model 1 with the Parameter"
   ]
  },
  {
   "cell_type": "markdown",
   "id": "53ea9384",
   "metadata": {},
   "source": [
    "### Random Forest"
   ]
  },
  {
   "cell_type": "code",
   "execution_count": 59,
   "id": "0754ba76",
   "metadata": {},
   "outputs": [
    {
     "name": "stdout",
     "output_type": "stream",
     "text": [
      "Accuracy: 0.2681992337164751\n"
     ]
    }
   ],
   "source": [
    "#Random Forest\n",
    "from sklearn.ensemble import RandomForestClassifier\n",
    "model_rfc = RandomForestClassifier(random_state = 0,n_estimators = 150, min_samples_split= 2, min_samples_leaf= 4, max_depth= 5)\n",
    "\n",
    "# Train the model\n",
    "model_rfc.fit(x_train, y_train)\n",
    "\n",
    "# Predict using the trained model\n",
    "pred_rfc = model_rfc.predict(x_test)\n",
    "accuracy = accuracy_score(y_test, pred_rfc)\n",
    "print(\"Accuracy:\", accuracy)"
   ]
  },
  {
   "cell_type": "code",
   "execution_count": 60,
   "id": "51c039a4",
   "metadata": {},
   "outputs": [
    {
     "name": "stdout",
     "output_type": "stream",
     "text": [
      "Log loss:  2.2285608608151697\n"
     ]
    }
   ],
   "source": [
    "from sklearn.metrics import log_loss\n",
    "\n",
    "# Predict the class probabilities for new samples\n",
    "y_pred = model_rfc.predict_proba(x_test)\n",
    "\n",
    "# Calculate the log loss\n",
    "log_loss_rfc = log_loss(y_test, y_pred)\n",
    "\n",
    "print(\"Log loss: \", log_loss_rfc)"
   ]
  },
  {
   "cell_type": "code",
   "execution_count": 61,
   "id": "032f3290",
   "metadata": {},
   "outputs": [
    {
     "data": {
      "text/html": [
       "<div>\n",
       "<style scoped>\n",
       "    .dataframe tbody tr th:only-of-type {\n",
       "        vertical-align: middle;\n",
       "    }\n",
       "\n",
       "    .dataframe tbody tr th {\n",
       "        vertical-align: top;\n",
       "    }\n",
       "\n",
       "    .dataframe thead th {\n",
       "        text-align: right;\n",
       "    }\n",
       "</style>\n",
       "<table border=\"1\" class=\"dataframe\">\n",
       "  <thead>\n",
       "    <tr style=\"text-align: right;\">\n",
       "      <th></th>\n",
       "      <th>Accuracy</th>\n",
       "      <th>AUC</th>\n",
       "    </tr>\n",
       "  </thead>\n",
       "  <tbody>\n",
       "    <tr>\n",
       "      <th>Prediction</th>\n",
       "      <td>0.268199</td>\n",
       "      <td>-</td>\n",
       "    </tr>\n",
       "    <tr>\n",
       "      <th>K-fold</th>\n",
       "      <td>0.261494</td>\n",
       "      <td>0.676201</td>\n",
       "    </tr>\n",
       "  </tbody>\n",
       "</table>\n",
       "</div>"
      ],
      "text/plain": [
       "            Accuracy       AUC\n",
       "Prediction  0.268199         -\n",
       "K-fold      0.261494  0.676201"
      ]
     },
     "execution_count": 61,
     "metadata": {},
     "output_type": "execute_result"
    }
   ],
   "source": [
    "#KFOLD \n",
    "\n",
    "pred_rfc = model_rfc.predict(x_test)\n",
    "\n",
    "cv = KFold(n_splits=2, random_state=0, shuffle=True)\n",
    "#evaluate model\n",
    "auc_rfc = cross_val_score(model_rfc, x_train, y_train, scoring='roc_auc_ovr', cv=cv, n_jobs=-1)\n",
    "accuracy_rfc = cross_val_score(model_rfc, x_train, y_train, scoring='accuracy', cv=cv, n_jobs=-1)\n",
    "pd.DataFrame([[accuracy_score(y_test, pred_rfc), '-'],[np.mean(accuracy_rfc), np.mean(auc_rfc)]], columns = ['Accuracy', 'AUC'], index = ['Prediction', 'K-fold'])"
   ]
  },
  {
   "cell_type": "code",
   "execution_count": 62,
   "id": "393de43d",
   "metadata": {},
   "outputs": [
    {
     "name": "stdout",
     "output_type": "stream",
     "text": [
      "Precision:  0.16185068059103697\n",
      "Recall:  0.2681992337164751\n",
      "F1:  0.17758755718525834\n"
     ]
    },
    {
     "name": "stderr",
     "output_type": "stream",
     "text": [
      "C:\\Users\\Jessa Francisco\\anaconda3\\lib\\site-packages\\sklearn\\metrics\\_classification.py:1344: UndefinedMetricWarning: Precision is ill-defined and being set to 0.0 in labels with no predicted samples. Use `zero_division` parameter to control this behavior.\n",
      "  _warn_prf(average, modifier, msg_start, len(result))\n"
     ]
    }
   ],
   "source": [
    "#calculating precision, recall, and f1 score\n",
    "precision_rfc = precision_score(y_test, pred_rfc,average='weighted')\n",
    "recall_rfc = recall_score(y_test, pred_rfc,average='weighted')\n",
    "f1_rfc = f1_score(y_test, pred_rfc,average='weighted')\n",
    "print('Precision: ',precision_rfc)\n",
    "print('Recall: ',recall_rfc)\n",
    "print('F1: ',f1_rfc)"
   ]
  },
  {
   "cell_type": "markdown",
   "id": "2b68c703",
   "metadata": {},
   "source": [
    "### KNN"
   ]
  },
  {
   "cell_type": "code",
   "execution_count": 63,
   "id": "53274e9e",
   "metadata": {},
   "outputs": [
    {
     "name": "stdout",
     "output_type": "stream",
     "text": [
      "Accuracy: 0.18869731800766285\n"
     ]
    }
   ],
   "source": [
    "# KNN\n",
    "from sklearn.neighbors import KNeighborsClassifier\n",
    "\n",
    "model_knn = KNeighborsClassifier(n_neighbors= 9, weights='distance')\n",
    "\n",
    "# Train the model\n",
    "model_knn.fit(x_train, y_train)\n",
    "\n",
    "# Predict using the trained model\n",
    "pred_knn = model_knn.predict(x_test)\n",
    "accuracy = accuracy_score(y_test, pred_knn)\n",
    "print(\"Accuracy:\", accuracy)"
   ]
  },
  {
   "cell_type": "code",
   "execution_count": 64,
   "id": "27d72c45",
   "metadata": {},
   "outputs": [
    {
     "name": "stdout",
     "output_type": "stream",
     "text": [
      "Log loss:  14.538339004220692\n"
     ]
    }
   ],
   "source": [
    "from sklearn.metrics import log_loss\n",
    "\n",
    "# Predict the class probabilities for new samples\n",
    "y_pred = model_knn.predict_proba(x_test)\n",
    "\n",
    "# Calculate the log loss\n",
    "log_loss_knn = log_loss(y_test, y_pred)\n",
    "\n",
    "print(\"Log loss: \", log_loss_knn)"
   ]
  },
  {
   "cell_type": "code",
   "execution_count": 65,
   "id": "75a27bd1",
   "metadata": {},
   "outputs": [
    {
     "data": {
      "text/html": [
       "<div>\n",
       "<style scoped>\n",
       "    .dataframe tbody tr th:only-of-type {\n",
       "        vertical-align: middle;\n",
       "    }\n",
       "\n",
       "    .dataframe tbody tr th {\n",
       "        vertical-align: top;\n",
       "    }\n",
       "\n",
       "    .dataframe thead th {\n",
       "        text-align: right;\n",
       "    }\n",
       "</style>\n",
       "<table border=\"1\" class=\"dataframe\">\n",
       "  <thead>\n",
       "    <tr style=\"text-align: right;\">\n",
       "      <th></th>\n",
       "      <th>Accuracy</th>\n",
       "      <th>AUC</th>\n",
       "    </tr>\n",
       "  </thead>\n",
       "  <tbody>\n",
       "    <tr>\n",
       "      <th>Prediction</th>\n",
       "      <td>0.188697</td>\n",
       "      <td>-</td>\n",
       "    </tr>\n",
       "    <tr>\n",
       "      <th>K-fold</th>\n",
       "      <td>0.190374</td>\n",
       "      <td>0.578784</td>\n",
       "    </tr>\n",
       "  </tbody>\n",
       "</table>\n",
       "</div>"
      ],
      "text/plain": [
       "            Accuracy       AUC\n",
       "Prediction  0.188697         -\n",
       "K-fold      0.190374  0.578784"
      ]
     },
     "execution_count": 65,
     "metadata": {},
     "output_type": "execute_result"
    }
   ],
   "source": [
    "#KFOLD \n",
    "pred_knn = model_knn.predict(x_test)\n",
    "\n",
    "cv = KFold(n_splits=2, random_state=0, shuffle=True)\n",
    "#evaluate model\n",
    "auc_knn = cross_val_score(model_knn, x_train, y_train, scoring='roc_auc_ovr', cv=cv, n_jobs=-1)\n",
    "accuracy_knn = cross_val_score(model_knn, x_train, y_train, scoring='accuracy', cv=cv, n_jobs=-1)\n",
    "pd.DataFrame([[accuracy_score(y_test, pred_knn), '-'],[np.mean(accuracy_knn), np.mean(auc_knn)]], columns = ['Accuracy', 'AUC'], index = ['Prediction', 'K-fold'])"
   ]
  },
  {
   "cell_type": "code",
   "execution_count": 66,
   "id": "7f83ccfa",
   "metadata": {},
   "outputs": [
    {
     "name": "stdout",
     "output_type": "stream",
     "text": [
      "Precision:  0.17385336882575006\n",
      "Recall:  0.18869731800766285\n",
      "F1:  0.17396758202089277\n"
     ]
    }
   ],
   "source": [
    "#calculating precision, recall, and f1 score\n",
    "precision_knn = precision_score(y_test, pred_knn,average='weighted')\n",
    "recall_knn = recall_score(y_test, pred_knn,average='weighted')\n",
    "f1_knn = f1_score(y_test, pred_knn,average='weighted')\n",
    "print('Precision: ',precision_knn)\n",
    "print('Recall: ',recall_knn)\n",
    "print('F1: ',f1_knn)"
   ]
  },
  {
   "cell_type": "markdown",
   "id": "008d33a0",
   "metadata": {},
   "source": [
    "### Naive Bayes"
   ]
  },
  {
   "cell_type": "code",
   "execution_count": 67,
   "id": "147a9096",
   "metadata": {},
   "outputs": [
    {
     "name": "stdout",
     "output_type": "stream",
     "text": [
      "Accuracy: 0.23659003831417624\n"
     ]
    }
   ],
   "source": [
    "# Naive Bayes\n",
    "from sklearn.naive_bayes import GaussianNB\n",
    "model_naive = GaussianNB(var_smoothing= 1e-10)\n",
    "\n",
    "# Train the model\n",
    "model_naive.fit(x_train, y_train)\n",
    "\n",
    "# Predict using the trained model\n",
    "pred_naive = model_naive.predict(x_test)\n",
    "accuracy = accuracy_score(y_test, pred_naive)\n",
    "print(\"Accuracy:\", accuracy)"
   ]
  },
  {
   "cell_type": "code",
   "execution_count": 68,
   "id": "642f42ef",
   "metadata": {},
   "outputs": [
    {
     "name": "stdout",
     "output_type": "stream",
     "text": [
      "Log loss:  2.6483939106317473\n"
     ]
    }
   ],
   "source": [
    "from sklearn.metrics import log_loss\n",
    "\n",
    "# Predict the class probabilities for new samples\n",
    "y_pred = model_naive.predict_proba(x_test)\n",
    "\n",
    "# Calculate the log loss\n",
    "log_loss_naive = log_loss(y_test, y_pred)\n",
    "\n",
    "print(\"Log loss: \", log_loss_naive)"
   ]
  },
  {
   "cell_type": "code",
   "execution_count": 69,
   "id": "a3dd781e",
   "metadata": {},
   "outputs": [
    {
     "data": {
      "text/html": [
       "<div>\n",
       "<style scoped>\n",
       "    .dataframe tbody tr th:only-of-type {\n",
       "        vertical-align: middle;\n",
       "    }\n",
       "\n",
       "    .dataframe tbody tr th {\n",
       "        vertical-align: top;\n",
       "    }\n",
       "\n",
       "    .dataframe thead th {\n",
       "        text-align: right;\n",
       "    }\n",
       "</style>\n",
       "<table border=\"1\" class=\"dataframe\">\n",
       "  <thead>\n",
       "    <tr style=\"text-align: right;\">\n",
       "      <th></th>\n",
       "      <th>Accuracy</th>\n",
       "      <th>AUC</th>\n",
       "    </tr>\n",
       "  </thead>\n",
       "  <tbody>\n",
       "    <tr>\n",
       "      <th>Prediction</th>\n",
       "      <td>0.23659</td>\n",
       "      <td>-</td>\n",
       "    </tr>\n",
       "    <tr>\n",
       "      <th>K-fold</th>\n",
       "      <td>0.23228</td>\n",
       "      <td>0.674982</td>\n",
       "    </tr>\n",
       "  </tbody>\n",
       "</table>\n",
       "</div>"
      ],
      "text/plain": [
       "            Accuracy       AUC\n",
       "Prediction   0.23659         -\n",
       "K-fold       0.23228  0.674982"
      ]
     },
     "execution_count": 69,
     "metadata": {},
     "output_type": "execute_result"
    }
   ],
   "source": [
    "#KFOLD \n",
    "pred_naive = model_naive.predict(x_test)\n",
    "\n",
    "cv = KFold(n_splits=2, random_state=0, shuffle=True)\n",
    "#evaluate model\n",
    "auc_naive = cross_val_score(model_naive, x_train, y_train, scoring='roc_auc_ovr', cv=cv, n_jobs=-1)\n",
    "accuracy_naive = cross_val_score(model_naive, x_train, y_train, scoring='accuracy', cv=cv, n_jobs=-1)\n",
    "pd.DataFrame([[accuracy_score(y_test, pred_naive), '-'],[np.mean(accuracy_naive), np.mean(auc_naive)]], columns = ['Accuracy', 'AUC'], index = ['Prediction', 'K-fold'])"
   ]
  },
  {
   "cell_type": "code",
   "execution_count": 70,
   "id": "47100ca9",
   "metadata": {},
   "outputs": [
    {
     "name": "stdout",
     "output_type": "stream",
     "text": [
      "Precision:  0.12477440029083467\n",
      "Recall:  0.23659003831417624\n",
      "F1:  0.14790867017105946\n"
     ]
    },
    {
     "name": "stderr",
     "output_type": "stream",
     "text": [
      "C:\\Users\\Jessa Francisco\\anaconda3\\lib\\site-packages\\sklearn\\metrics\\_classification.py:1344: UndefinedMetricWarning: Precision is ill-defined and being set to 0.0 in labels with no predicted samples. Use `zero_division` parameter to control this behavior.\n",
      "  _warn_prf(average, modifier, msg_start, len(result))\n"
     ]
    }
   ],
   "source": [
    "#calculating precision, recall, and f1 score\n",
    "precision_naive = precision_score(y_test, pred_naive,average='weighted')\n",
    "recall_naive = recall_score(y_test, pred_naive,average='weighted')\n",
    "f1_naive = f1_score(y_test, pred_naive,average='weighted')\n",
    "print('Precision: ',precision_naive)\n",
    "print('Recall: ',recall_naive)\n",
    "print('F1: ',f1_naive)"
   ]
  },
  {
   "cell_type": "markdown",
   "id": "a1dbeadd",
   "metadata": {},
   "source": [
    "### SVM"
   ]
  },
  {
   "cell_type": "code",
   "execution_count": 71,
   "id": "16100b96",
   "metadata": {},
   "outputs": [
    {
     "name": "stdout",
     "output_type": "stream",
     "text": [
      "Accuracy: 0.26053639846743293\n"
     ]
    }
   ],
   "source": [
    "# SVM\n",
    "from sklearn.svm import SVC\n",
    "\n",
    "# Create an SVM model\n",
    "model_svm = SVC(probability=True,C=1, gamma= 0.001)\n",
    "\n",
    "# Train the model\n",
    "model_svm.fit(x_train, y_train)\n",
    "\n",
    "# Predict using the trained model\n",
    "pred_svm = model_svm.predict(x_test)\n",
    "accuracy = accuracy_score(y_test, pred_svm)\n",
    "print(\"Accuracy:\", accuracy)"
   ]
  },
  {
   "cell_type": "code",
   "execution_count": 72,
   "id": "a096aad0",
   "metadata": {},
   "outputs": [
    {
     "name": "stdout",
     "output_type": "stream",
     "text": [
      "Log loss:  2.2714867496637257\n"
     ]
    }
   ],
   "source": [
    "from sklearn.metrics import log_loss\n",
    "\n",
    "# Predict the class probabilities for new samples\n",
    "y_pred = model_svm.predict_proba(x_test)\n",
    "\n",
    "# Calculate the log loss\n",
    "log_loss_svm = log_loss(y_test, y_pred)\n",
    "\n",
    "print(\"Log loss: \", log_loss_svm)"
   ]
  },
  {
   "cell_type": "code",
   "execution_count": 73,
   "id": "9908ada3",
   "metadata": {},
   "outputs": [
    {
     "data": {
      "text/html": [
       "<div>\n",
       "<style scoped>\n",
       "    .dataframe tbody tr th:only-of-type {\n",
       "        vertical-align: middle;\n",
       "    }\n",
       "\n",
       "    .dataframe tbody tr th {\n",
       "        vertical-align: top;\n",
       "    }\n",
       "\n",
       "    .dataframe thead th {\n",
       "        text-align: right;\n",
       "    }\n",
       "</style>\n",
       "<table border=\"1\" class=\"dataframe\">\n",
       "  <thead>\n",
       "    <tr style=\"text-align: right;\">\n",
       "      <th></th>\n",
       "      <th>Accuracy</th>\n",
       "      <th>AUC</th>\n",
       "    </tr>\n",
       "  </thead>\n",
       "  <tbody>\n",
       "    <tr>\n",
       "      <th>Prediction</th>\n",
       "      <td>0.260536</td>\n",
       "      <td>-</td>\n",
       "    </tr>\n",
       "    <tr>\n",
       "      <th>K-fold</th>\n",
       "      <td>0.254789</td>\n",
       "      <td>0.662481</td>\n",
       "    </tr>\n",
       "  </tbody>\n",
       "</table>\n",
       "</div>"
      ],
      "text/plain": [
       "            Accuracy       AUC\n",
       "Prediction  0.260536         -\n",
       "K-fold      0.254789  0.662481"
      ]
     },
     "execution_count": 73,
     "metadata": {},
     "output_type": "execute_result"
    }
   ],
   "source": [
    "#KFOLD \n",
    "pred_svm = model_svm.predict(x_test)\n",
    "\n",
    "cv = KFold(n_splits=2, random_state=0, shuffle=True)\n",
    "#evaluate model\n",
    "auc_svm = cross_val_score(model_svm, x_train, y_train, scoring='roc_auc_ovr', cv=cv, n_jobs=-1)\n",
    "accuracy_svm = cross_val_score(model_svm, x_train, y_train, scoring='accuracy', cv=cv, n_jobs=-1)\n",
    "pd.DataFrame([[accuracy_score(y_test, pred_svm), '-'],[np.mean(accuracy_svm), np.mean(auc_svm)]], columns = ['Accuracy', 'AUC'], index = ['Prediction', 'K-fold'])"
   ]
  },
  {
   "cell_type": "code",
   "execution_count": 74,
   "id": "0e7beafa",
   "metadata": {},
   "outputs": [
    {
     "name": "stdout",
     "output_type": "stream",
     "text": [
      "Precision:  0.14924436530636434\n",
      "Recall:  0.26053639846743293\n",
      "F1:  0.17538146139443234\n"
     ]
    },
    {
     "name": "stderr",
     "output_type": "stream",
     "text": [
      "C:\\Users\\Jessa Francisco\\anaconda3\\lib\\site-packages\\sklearn\\metrics\\_classification.py:1344: UndefinedMetricWarning: Precision is ill-defined and being set to 0.0 in labels with no predicted samples. Use `zero_division` parameter to control this behavior.\n",
      "  _warn_prf(average, modifier, msg_start, len(result))\n"
     ]
    }
   ],
   "source": [
    "#calculating precision, recall, and f1 score\n",
    "precision_svm = precision_score(y_test, pred_svm,average='weighted')\n",
    "recall_svm = recall_score(y_test, pred_svm,average='weighted')\n",
    "f1_svm = f1_score(y_test, pred_svm,average='weighted')\n",
    "print('Precision: ',precision_svm)\n",
    "print('Recall: ',recall_svm)\n",
    "print('F1: ',f1_svm)"
   ]
  },
  {
   "cell_type": "markdown",
   "id": "49c86ff0",
   "metadata": {},
   "source": [
    "### Decision Tree"
   ]
  },
  {
   "cell_type": "code",
   "execution_count": 75,
   "id": "b57fd831",
   "metadata": {},
   "outputs": [
    {
     "name": "stdout",
     "output_type": "stream",
     "text": [
      "Accuracy: 0.26340996168582376\n"
     ]
    }
   ],
   "source": [
    "# Desicion Tree\n",
    "from sklearn.tree import DecisionTreeClassifier\n",
    "\n",
    "model_tree = DecisionTreeClassifier(max_depth= 3, min_samples_split =2)\n",
    "# Train the model\n",
    "model_tree.fit(x_train , y_train)\n",
    "\n",
    "# Predict using the trained model\n",
    "pred_tree = model_tree.predict(x_test)\n",
    "accuracy = accuracy_score(y_test, pred_tree)\n",
    "print(\"Accuracy:\", accuracy)"
   ]
  },
  {
   "cell_type": "code",
   "execution_count": 76,
   "id": "71832453",
   "metadata": {},
   "outputs": [
    {
     "name": "stdout",
     "output_type": "stream",
     "text": [
      "Log loss:  2.3391349748108836\n"
     ]
    }
   ],
   "source": [
    "\n",
    "from sklearn.metrics import log_loss\n",
    "\n",
    "# Predict the class probabilities for new samples\n",
    "y_pred = model_tree.predict_proba(x_test)\n",
    "\n",
    "# Calculate the log loss\n",
    "log_loss_tree = log_loss(y_test, y_pred)\n",
    "\n",
    "print(\"Log loss: \", log_loss_tree)"
   ]
  },
  {
   "cell_type": "code",
   "execution_count": 77,
   "id": "27afebd9",
   "metadata": {},
   "outputs": [
    {
     "data": {
      "text/html": [
       "<div>\n",
       "<style scoped>\n",
       "    .dataframe tbody tr th:only-of-type {\n",
       "        vertical-align: middle;\n",
       "    }\n",
       "\n",
       "    .dataframe tbody tr th {\n",
       "        vertical-align: top;\n",
       "    }\n",
       "\n",
       "    .dataframe thead th {\n",
       "        text-align: right;\n",
       "    }\n",
       "</style>\n",
       "<table border=\"1\" class=\"dataframe\">\n",
       "  <thead>\n",
       "    <tr style=\"text-align: right;\">\n",
       "      <th></th>\n",
       "      <th>Accuracy</th>\n",
       "      <th>AUC</th>\n",
       "    </tr>\n",
       "  </thead>\n",
       "  <tbody>\n",
       "    <tr>\n",
       "      <th>Prediction</th>\n",
       "      <td>0.263410</td>\n",
       "      <td>-</td>\n",
       "    </tr>\n",
       "    <tr>\n",
       "      <th>K-fold</th>\n",
       "      <td>0.251437</td>\n",
       "      <td>0.656584</td>\n",
       "    </tr>\n",
       "  </tbody>\n",
       "</table>\n",
       "</div>"
      ],
      "text/plain": [
       "            Accuracy       AUC\n",
       "Prediction  0.263410         -\n",
       "K-fold      0.251437  0.656584"
      ]
     },
     "execution_count": 77,
     "metadata": {},
     "output_type": "execute_result"
    }
   ],
   "source": [
    "#KFOLD \n",
    "pred_tree = model_tree.predict(x_test)\n",
    "\n",
    "cv = KFold(n_splits=2, random_state=0, shuffle=True)\n",
    "#evaluate model\n",
    "auc_tree = cross_val_score(model_tree, x_train, y_train, scoring='roc_auc_ovr', cv=cv, n_jobs=-1)\n",
    "accuracy_tree = cross_val_score(model_tree, x_train, y_train, scoring='accuracy', cv=cv, n_jobs=-1)\n",
    "pd.DataFrame([[accuracy_score(y_test, pred_tree), '-'],[np.mean(accuracy_tree), np.mean(auc_tree)]], columns = ['Accuracy', 'AUC'], index = ['Prediction', 'K-fold'])"
   ]
  },
  {
   "cell_type": "code",
   "execution_count": 78,
   "id": "1d6247ed",
   "metadata": {},
   "outputs": [
    {
     "name": "stdout",
     "output_type": "stream",
     "text": [
      "Precision:  0.1541671742622991\n",
      "Recall:  0.26340996168582376\n",
      "F1:  0.17281621170095818\n"
     ]
    },
    {
     "name": "stderr",
     "output_type": "stream",
     "text": [
      "C:\\Users\\Jessa Francisco\\anaconda3\\lib\\site-packages\\sklearn\\metrics\\_classification.py:1344: UndefinedMetricWarning: Precision is ill-defined and being set to 0.0 in labels with no predicted samples. Use `zero_division` parameter to control this behavior.\n",
      "  _warn_prf(average, modifier, msg_start, len(result))\n"
     ]
    }
   ],
   "source": [
    "#calculating precision, recall, and f1 score\n",
    "precision_tree = precision_score(y_test, pred_tree,average='weighted')\n",
    "recall_tree = recall_score(y_test, pred_tree,average='weighted')\n",
    "f1_tree = f1_score(y_test, pred_tree,average='weighted')\n",
    "print('Precision: ',precision_tree)\n",
    "print('Recall: ',recall_tree)\n",
    "print('F1: ',f1_tree)"
   ]
  },
  {
   "cell_type": "code",
   "execution_count": 79,
   "id": "3dbab96b",
   "metadata": {},
   "outputs": [
    {
     "name": "stdout",
     "output_type": "stream",
     "text": [
      "FEATURES [Pr1, Pr2, Pr3, Pr4, Pr5, OAPR]\n",
      "Train:\n",
      "\tRandom Forest: 0.29334291187739464\n",
      "\tNaive Bayes: 0.23347701149425287\n",
      "\tSVM: 0.2921455938697318\n",
      "\tDecision Tree: 0.2636494252873563\n",
      "\tKNN: 0.9889846743295019\n",
      "\n",
      "\n",
      "\n",
      "Test:\n",
      "\tRandom Forest: 0.2681992337164751\n",
      "\tNaive Bayes: 0.23659003831417624\n",
      "\tSVM: 0.26053639846743293\n",
      "\tDecision Tree: 0.26340996168582376\n",
      "\tKNN: 0.18869731800766285\n"
     ]
    }
   ],
   "source": [
    "print('FEATURES [Pr1, Pr2, Pr3, Pr4, Pr5, OAPR]')\n",
    "print('Train:')\n",
    "print('\\tRandom Forest:',accuracy_score(y_train, model_rfc.predict(x_train)))\n",
    "print('\\tNaive Bayes:',accuracy_score(y_train, model_naive.predict(x_train)))\n",
    "print('\\tSVM:',accuracy_score(y_train, model_svm.predict(x_train)))\n",
    "print('\\tDecision Tree:',accuracy_score(y_train, model_tree.predict(x_train)))\n",
    "print('\\tKNN:',accuracy_score(y_train, model_knn.predict(x_train)))\n",
    "print('\\n\\n')\n",
    "print('Test:')\n",
    "print('\\tRandom Forest:',accuracy_score(y_test,pred_rfc))\n",
    "print('\\tNaive Bayes:',accuracy_score(y_test,pred_naive))\n",
    "print('\\tSVM:',accuracy_score(y_test,pred_svm))\n",
    "print('\\tDecision Tree:',accuracy_score(y_test,pred_tree))\n",
    "print('\\tKNN:',accuracy_score(y_test,pred_knn))"
   ]
  },
  {
   "cell_type": "code",
   "execution_count": 80,
   "id": "b6931405",
   "metadata": {},
   "outputs": [
    {
     "data": {
      "text/html": [
       "<div>\n",
       "<style scoped>\n",
       "    .dataframe tbody tr th:only-of-type {\n",
       "        vertical-align: middle;\n",
       "    }\n",
       "\n",
       "    .dataframe tbody tr th {\n",
       "        vertical-align: top;\n",
       "    }\n",
       "\n",
       "    .dataframe thead th {\n",
       "        text-align: right;\n",
       "    }\n",
       "</style>\n",
       "<table border=\"1\" class=\"dataframe\">\n",
       "  <thead>\n",
       "    <tr style=\"text-align: right;\">\n",
       "      <th></th>\n",
       "      <th>Model</th>\n",
       "      <th>Accuracy</th>\n",
       "      <th>AUC</th>\n",
       "      <th>Log loss</th>\n",
       "      <th>Precision</th>\n",
       "      <th>Recall</th>\n",
       "      <th>F1 Score</th>\n",
       "    </tr>\n",
       "  </thead>\n",
       "  <tbody>\n",
       "    <tr>\n",
       "      <th>0</th>\n",
       "      <td>Random Forest</td>\n",
       "      <td>0.268199</td>\n",
       "      <td>0.676201</td>\n",
       "      <td>2.228561</td>\n",
       "      <td>0.161851</td>\n",
       "      <td>0.268199</td>\n",
       "      <td>0.177588</td>\n",
       "    </tr>\n",
       "    <tr>\n",
       "      <th>1</th>\n",
       "      <td>Naive Bayes</td>\n",
       "      <td>0.236590</td>\n",
       "      <td>0.674982</td>\n",
       "      <td>2.648394</td>\n",
       "      <td>0.124774</td>\n",
       "      <td>0.236590</td>\n",
       "      <td>0.147909</td>\n",
       "    </tr>\n",
       "    <tr>\n",
       "      <th>2</th>\n",
       "      <td>SVM</td>\n",
       "      <td>0.260536</td>\n",
       "      <td>0.662481</td>\n",
       "      <td>2.271487</td>\n",
       "      <td>0.149244</td>\n",
       "      <td>0.260536</td>\n",
       "      <td>0.175381</td>\n",
       "    </tr>\n",
       "    <tr>\n",
       "      <th>3</th>\n",
       "      <td>KNN</td>\n",
       "      <td>0.188697</td>\n",
       "      <td>0.578784</td>\n",
       "      <td>14.538339</td>\n",
       "      <td>0.173853</td>\n",
       "      <td>0.188697</td>\n",
       "      <td>0.173968</td>\n",
       "    </tr>\n",
       "    <tr>\n",
       "      <th>4</th>\n",
       "      <td>Decision Tree</td>\n",
       "      <td>0.263410</td>\n",
       "      <td>0.656584</td>\n",
       "      <td>2.339135</td>\n",
       "      <td>0.154167</td>\n",
       "      <td>0.263410</td>\n",
       "      <td>0.172816</td>\n",
       "    </tr>\n",
       "  </tbody>\n",
       "</table>\n",
       "</div>"
      ],
      "text/plain": [
       "           Model  Accuracy       AUC   Log loss  Precision    Recall  F1 Score\n",
       "0  Random Forest  0.268199  0.676201   2.228561   0.161851  0.268199  0.177588\n",
       "1    Naive Bayes  0.236590  0.674982   2.648394   0.124774  0.236590  0.147909\n",
       "2            SVM  0.260536  0.662481   2.271487   0.149244  0.260536  0.175381\n",
       "3            KNN  0.188697  0.578784  14.538339   0.173853  0.188697  0.173968\n",
       "4  Decision Tree  0.263410  0.656584   2.339135   0.154167  0.263410  0.172816"
      ]
     },
     "execution_count": 80,
     "metadata": {},
     "output_type": "execute_result"
    }
   ],
   "source": [
    "df = {\n",
    "    'Model': ['Random Forest', 'Naive Bayes', 'SVM', 'KNN', 'Decision Tree'],\n",
    "    'Accuracy': [accuracy_score(y_test,pred_rfc), accuracy_score(y_test,pred_naive), accuracy_score(y_test,pred_svm), accuracy_score(y_test,pred_knn),accuracy_score(y_test,pred_tree)],\n",
    "    'AUC': [np.mean(auc_rfc), np.mean(auc_naive), np.mean(auc_svm), np.mean(auc_knn),np.mean(auc_tree)],\n",
    "    'Log loss': [log_loss_rfc, log_loss_naive, log_loss_svm, log_loss_knn,log_loss_tree],\n",
    "    'Precision': [precision_rfc, precision_naive, precision_svm, precision_knn,precision_tree],\n",
    "    'Recall': [recall_rfc, recall_naive, recall_svm, recall_knn,recall_tree],\n",
    "    'F1 Score': [f1_rfc, f1_naive, f1_svm, f1_knn,f1_tree],\n",
    "\n",
    "}\n",
    "\n",
    "df = pd.DataFrame(df)\n",
    "df\n"
   ]
  },
  {
   "cell_type": "code",
   "execution_count": 81,
   "id": "0702bc85",
   "metadata": {},
   "outputs": [],
   "source": [
    "features = [\n",
    "     'Pr1',\n",
    "     'Pr2',\n",
    "     'Pr3',\n",
    "     'Pr4',\n",
    "     'Pr5',\n",
    "     'Oapr',\n",
    "     'Numerical_Course'\n",
    "]\n",
    "target ='Graduated'"
   ]
  },
  {
   "cell_type": "code",
   "execution_count": 82,
   "id": "6dc9fb9e",
   "metadata": {},
   "outputs": [],
   "source": [
    "x_train = data2_train[features]\n",
    "y_train = data2_train[target]\n",
    "x_test = data2_test[features]\n",
    "y_test = data2_test[target]"
   ]
  },
  {
   "cell_type": "markdown",
   "id": "87159e02",
   "metadata": {},
   "source": [
    "# Hyperparameter Tuning"
   ]
  },
  {
   "cell_type": "code",
   "execution_count": 83,
   "id": "ba67dab8",
   "metadata": {},
   "outputs": [
    {
     "name": "stdout",
     "output_type": "stream",
     "text": [
      "\n",
      "\n",
      "Parameter: {'n_estimators': 150, 'min_samples_split': 2, 'min_samples_leaf': 4, 'max_depth': 30}\n"
     ]
    }
   ],
   "source": [
    "#Random Forest\n",
    "from sklearn.model_selection import RandomizedSearchCV\n",
    "from sklearn.ensemble import RandomForestClassifier\n",
    "\n",
    "np.random.seed(0)\n",
    "# Define the hyperparameters to search\n",
    "param_dist1 = {'n_estimators': [150,70,90],\n",
    "              'max_depth': [None, 5, 10, 20, 30],\n",
    "              'min_samples_split': [2, 5, 10],\n",
    "              'min_samples_leaf': [1, 2, 4]}\n",
    "\n",
    "# Initialize the model\n",
    "model_random = RandomForestClassifier()\n",
    "\n",
    "# Perform random search\n",
    "random_search = RandomizedSearchCV(model_random, param_distributions=param_dist1, n_iter=20, cv=5)\n",
    "random_search.fit(x_train, y_train)\n",
    "\n",
    "# Print the best hyperparameters\n",
    "print(\"\\n\\nParameter:\",random_search.best_params_)\n"
   ]
  },
  {
   "cell_type": "code",
   "execution_count": 84,
   "id": "d38d6cc2",
   "metadata": {},
   "outputs": [
    {
     "name": "stdout",
     "output_type": "stream",
     "text": [
      "\n",
      "\n",
      "Parameter:  {'var_smoothing': 1e-10}\n"
     ]
    }
   ],
   "source": [
    "#Naive Bayes\n",
    "from sklearn.model_selection import GridSearchCV\n",
    "from sklearn.naive_bayes import GaussianNB\n",
    "\n",
    "# Define the hyperparameters to search\n",
    "param_grid = {'var_smoothing': [1e-10, 1e-9, 1e-8, 1e-7, 1e-6]}\n",
    "\n",
    "# Initialize the model\n",
    "model_naive = GaussianNB()\n",
    "\n",
    "# Perform grid search\n",
    "grid = GridSearchCV(model_naive, param_grid, cv=5)\n",
    "grid.fit(x_train, y_train)\n",
    "\n",
    "# Print the best hyperparameters\n",
    "print(\"\\n\\nParameter: \",grid.best_params_)"
   ]
  },
  {
   "cell_type": "code",
   "execution_count": 85,
   "id": "d92acb24",
   "metadata": {},
   "outputs": [
    {
     "name": "stdout",
     "output_type": "stream",
     "text": [
      "\n",
      "\n",
      "Parameter:  {'C': 10, 'gamma': 1}\n"
     ]
    }
   ],
   "source": [
    "#SVM\n",
    "from sklearn.model_selection import GridSearchCV\n",
    "from sklearn.svm import SVC\n",
    "\n",
    "# Define the hyperparameters to search\n",
    "param_grid = {'C': [1, 10, 100, 1000],\n",
    "              'gamma': [0.001, 0.01, 1]}\n",
    "\n",
    "# Initialize the model\n",
    "model_svm = SVC(kernel='rbf')\n",
    "\n",
    "# Perform grid search\n",
    "grid = GridSearchCV(model_svm, param_grid, cv=5)\n",
    "grid.fit(x_train, y_train)\n",
    "\n",
    "# Print the best hyperparameters\n",
    "print(\"\\n\\nParameter: \",grid.best_params_)"
   ]
  },
  {
   "cell_type": "code",
   "execution_count": 86,
   "id": "d4009d27",
   "metadata": {},
   "outputs": [
    {
     "name": "stdout",
     "output_type": "stream",
     "text": [
      "\n",
      "\n",
      "Parameter:  {'n_neighbors': 7, 'weights': 'distance'}\n"
     ]
    }
   ],
   "source": [
    "#KNN\n",
    "from sklearn.model_selection import GridSearchCV\n",
    "from sklearn.neighbors import KNeighborsClassifier\n",
    "\n",
    "\n",
    "# Define the hyperparameters to search\n",
    "param_grid = {'n_neighbors': [1, 3, 5, 7, 9],\n",
    "              'weights': ['uniform', 'distance']}\n",
    "\n",
    "# Initialize the model\n",
    "model_knn = KNeighborsClassifier()\n",
    "\n",
    "# Perform grid search\n",
    "grid = GridSearchCV(model_knn, param_grid, cv=5)\n",
    "grid.fit(x_train, y_train)\n",
    "\n",
    "# Print the best hyperparameters\n",
    "print(\"\\n\\nParameter: \",grid.best_params_)"
   ]
  },
  {
   "cell_type": "code",
   "execution_count": 87,
   "id": "cb53a696",
   "metadata": {},
   "outputs": [
    {
     "name": "stdout",
     "output_type": "stream",
     "text": [
      "\n",
      "\n",
      "Parameter:  {'max_depth': 7, 'min_samples_split': 10}\n"
     ]
    }
   ],
   "source": [
    "#Decision Tree\n",
    "from sklearn.model_selection import GridSearchCV\n",
    "from sklearn.tree import DecisionTreeClassifier\n",
    "\n",
    "# Define the hyperparameters to search\n",
    "param_grid = {'max_depth': [1, 3, 5, 7, 9],\n",
    "              'min_samples_split': [2, 4, 6, 8, 10]}\n",
    "\n",
    "# Initialize the model\n",
    "model_tree = DecisionTreeClassifier()\n",
    "\n",
    "# Perform grid search\n",
    "grid = GridSearchCV(model_tree, param_grid, cv=5)\n",
    "grid.fit(x_train, y_train)\n",
    "\n",
    "# Print the best hyperparameters\n",
    "print(\"\\n\\nParameter: \",grid.best_params_)\n"
   ]
  },
  {
   "cell_type": "markdown",
   "id": "17d5b9ca",
   "metadata": {},
   "source": [
    "# Model 2"
   ]
  },
  {
   "cell_type": "markdown",
   "id": "2ac48223",
   "metadata": {},
   "source": [
    "### Random Forest"
   ]
  },
  {
   "cell_type": "code",
   "execution_count": 88,
   "id": "0af2ec27",
   "metadata": {},
   "outputs": [
    {
     "name": "stdout",
     "output_type": "stream",
     "text": [
      "Accuracy: 0.7049808429118773\n"
     ]
    }
   ],
   "source": [
    "from sklearn.ensemble import RandomForestClassifier\n",
    "model_rfc = RandomForestClassifier(random_state = 0,n_estimators = 150, min_samples_split= 2, min_samples_leaf= 4, max_depth= 30)\n",
    "\n",
    "# Train the model\n",
    "model_rfc.fit(x_train, y_train)\n",
    "\n",
    "# Predict using the trained model\n",
    "pred_rfc = model_rfc.predict(x_test)\n",
    "accuracy = accuracy_score(y_test, pred_rfc)\n",
    "print(\"Accuracy:\", accuracy)"
   ]
  },
  {
   "cell_type": "code",
   "execution_count": 89,
   "id": "6b78c348",
   "metadata": {},
   "outputs": [
    {
     "name": "stdout",
     "output_type": "stream",
     "text": [
      "Log loss:  0.5833830395401532\n"
     ]
    }
   ],
   "source": [
    "from sklearn.metrics import log_loss\n",
    "\n",
    "# Predict the class probabilities for new samples\n",
    "y_pred = model_rfc.predict_proba(x_test)\n",
    "\n",
    "# Calculate the log loss\n",
    "log_loss_rfc = log_loss(y_test, y_pred)\n",
    "\n",
    "print(\"Log loss: \", log_loss_rfc)"
   ]
  },
  {
   "cell_type": "code",
   "execution_count": 90,
   "id": "c7f2f184",
   "metadata": {},
   "outputs": [
    {
     "data": {
      "text/html": [
       "<div>\n",
       "<style scoped>\n",
       "    .dataframe tbody tr th:only-of-type {\n",
       "        vertical-align: middle;\n",
       "    }\n",
       "\n",
       "    .dataframe tbody tr th {\n",
       "        vertical-align: top;\n",
       "    }\n",
       "\n",
       "    .dataframe thead th {\n",
       "        text-align: right;\n",
       "    }\n",
       "</style>\n",
       "<table border=\"1\" class=\"dataframe\">\n",
       "  <thead>\n",
       "    <tr style=\"text-align: right;\">\n",
       "      <th></th>\n",
       "      <th>Accuracy</th>\n",
       "      <th>AUC</th>\n",
       "    </tr>\n",
       "  </thead>\n",
       "  <tbody>\n",
       "    <tr>\n",
       "      <th>Prediction</th>\n",
       "      <td>0.704981</td>\n",
       "      <td>-</td>\n",
       "    </tr>\n",
       "    <tr>\n",
       "      <th>K-fold</th>\n",
       "      <td>0.703784</td>\n",
       "      <td>0.74129</td>\n",
       "    </tr>\n",
       "  </tbody>\n",
       "</table>\n",
       "</div>"
      ],
      "text/plain": [
       "            Accuracy      AUC\n",
       "Prediction  0.704981        -\n",
       "K-fold      0.703784  0.74129"
      ]
     },
     "execution_count": 90,
     "metadata": {},
     "output_type": "execute_result"
    }
   ],
   "source": [
    "#KFOLD \n",
    "\n",
    "pred_rfc = model_rfc.predict(x_test)\n",
    "\n",
    "cv = KFold(n_splits=2, random_state=0, shuffle=True)\n",
    "#evaluate model\n",
    "auc_rfc = cross_val_score(model_rfc, x_train, y_train, scoring='roc_auc_ovr', cv=cv, n_jobs=-1)\n",
    "accuracy_rfc = cross_val_score(model_rfc, x_train, y_train, scoring='accuracy', cv=cv, n_jobs=-1)\n",
    "pd.DataFrame([[accuracy_score(y_test, pred_rfc), '-'],[np.mean(accuracy_rfc), np.mean(auc_rfc)]], columns = ['Accuracy', 'AUC'], index = ['Prediction', 'K-fold'])"
   ]
  },
  {
   "cell_type": "code",
   "execution_count": 91,
   "id": "57cdade8",
   "metadata": {},
   "outputs": [
    {
     "name": "stdout",
     "output_type": "stream",
     "text": [
      "Precision:  0.7023791375753327\n",
      "Recall:  0.7049808429118773\n",
      "F1:  0.6919944923959864\n"
     ]
    }
   ],
   "source": [
    "#calculating precision, recall, and f1 score\n",
    "precision_rfc = precision_score(y_test, pred_rfc,average='weighted')\n",
    "recall_rfc = recall_score(y_test, pred_rfc,average='weighted')\n",
    "f1_rfc = f1_score(y_test, pred_rfc,average='weighted')\n",
    "print('Precision: ',precision_rfc)\n",
    "print('Recall: ',recall_rfc)\n",
    "print('F1: ',f1_rfc)"
   ]
  },
  {
   "cell_type": "markdown",
   "id": "64285dee",
   "metadata": {},
   "source": [
    "### Naive Bayes"
   ]
  },
  {
   "cell_type": "code",
   "execution_count": 92,
   "id": "cc1f47cf",
   "metadata": {},
   "outputs": [
    {
     "name": "stdout",
     "output_type": "stream",
     "text": [
      "Accuracy: 0.5708812260536399\n"
     ]
    }
   ],
   "source": [
    "from sklearn.naive_bayes import GaussianNB\n",
    "model_naive = GaussianNB(var_smoothing= 1e-10)\n",
    "\n",
    "# Train the model\n",
    "model_naive.fit(x_train, y_train)\n",
    "\n",
    "# Predict using the trained model\n",
    "pred_naive = model_naive.predict(x_test)\n",
    "accuracy = accuracy_score(y_test, pred_naive)\n",
    "print(\"Accuracy:\", accuracy)"
   ]
  },
  {
   "cell_type": "code",
   "execution_count": 93,
   "id": "2e164fea",
   "metadata": {},
   "outputs": [
    {
     "name": "stdout",
     "output_type": "stream",
     "text": [
      "Log loss:  0.5833830395401532\n"
     ]
    }
   ],
   "source": [
    "from sklearn.metrics import log_loss\n",
    "\n",
    "# Predict the class probabilities for new samples\n",
    "y_pred = model_naive.predict_proba(x_test)\n",
    "\n",
    "# Calculate the log loss\n",
    "log_loss_naive = log_loss(y_test, y_pred)\n",
    "\n",
    "print(\"Log loss: \", log_loss_rfc)"
   ]
  },
  {
   "cell_type": "code",
   "execution_count": 94,
   "id": "6f661f5a",
   "metadata": {},
   "outputs": [
    {
     "data": {
      "text/html": [
       "<div>\n",
       "<style scoped>\n",
       "    .dataframe tbody tr th:only-of-type {\n",
       "        vertical-align: middle;\n",
       "    }\n",
       "\n",
       "    .dataframe tbody tr th {\n",
       "        vertical-align: top;\n",
       "    }\n",
       "\n",
       "    .dataframe thead th {\n",
       "        text-align: right;\n",
       "    }\n",
       "</style>\n",
       "<table border=\"1\" class=\"dataframe\">\n",
       "  <thead>\n",
       "    <tr style=\"text-align: right;\">\n",
       "      <th></th>\n",
       "      <th>Accuracy</th>\n",
       "      <th>AUC</th>\n",
       "    </tr>\n",
       "  </thead>\n",
       "  <tbody>\n",
       "    <tr>\n",
       "      <th>Prediction</th>\n",
       "      <td>0.570881</td>\n",
       "      <td>-</td>\n",
       "    </tr>\n",
       "    <tr>\n",
       "      <th>K-fold</th>\n",
       "      <td>0.581418</td>\n",
       "      <td>0.547402</td>\n",
       "    </tr>\n",
       "  </tbody>\n",
       "</table>\n",
       "</div>"
      ],
      "text/plain": [
       "            Accuracy       AUC\n",
       "Prediction  0.570881         -\n",
       "K-fold      0.581418  0.547402"
      ]
     },
     "execution_count": 94,
     "metadata": {},
     "output_type": "execute_result"
    }
   ],
   "source": [
    "#KFOLD \n",
    "\n",
    "pred_naive = model_naive.predict(x_test)\n",
    "\n",
    "cv = KFold(n_splits=2, random_state=0, shuffle=True)\n",
    "#evaluate model\n",
    "auc_naive = cross_val_score(model_naive, x_train, y_train, scoring='roc_auc_ovr', cv=cv, n_jobs=-1)\n",
    "accuracy_naive = cross_val_score(model_naive, x_train, y_train, scoring='accuracy', cv=cv, n_jobs=-1)\n",
    "pd.DataFrame([[accuracy_score(y_test, pred_naive), '-'],[np.mean(accuracy_naive), np.mean(auc_naive)]], columns = ['Accuracy', 'AUC'], index = ['Prediction', 'K-fold'])"
   ]
  },
  {
   "cell_type": "code",
   "execution_count": 95,
   "id": "8d41c678",
   "metadata": {},
   "outputs": [
    {
     "name": "stdout",
     "output_type": "stream",
     "text": [
      "Precision:  0.5405988253705557\n",
      "Recall:  0.5708812260536399\n",
      "F1:  0.5384034254843371\n"
     ]
    }
   ],
   "source": [
    "#calculating precision, recall, and f1 score\n",
    "precision_naive = precision_score(y_test, pred_naive,average='weighted')\n",
    "recall_naive = recall_score(y_test, pred_naive,average='weighted')\n",
    "f1_naive = f1_score(y_test, pred_naive,average='weighted')\n",
    "print('Precision: ',precision_naive)\n",
    "print('Recall: ',recall_naive)\n",
    "print('F1: ',f1_naive)"
   ]
  },
  {
   "cell_type": "markdown",
   "id": "39253c18",
   "metadata": {},
   "source": [
    "### SVM"
   ]
  },
  {
   "cell_type": "code",
   "execution_count": 96,
   "id": "0ef2bb36",
   "metadata": {},
   "outputs": [
    {
     "name": "stdout",
     "output_type": "stream",
     "text": [
      "Accuracy: 0.603448275862069\n"
     ]
    }
   ],
   "source": [
    "from sklearn.svm import SVC\n",
    "\n",
    "# Create an SVM model\n",
    "model_svm = SVC(C= 10, gamma= 1,  probability=True)\n",
    "\n",
    "# Train the model\n",
    "model_svm.fit(x_train, y_train)\n",
    "\n",
    "# Predict using the trained model\n",
    "pred_svm = model_svm.predict(x_test)\n",
    "accuracy = accuracy_score(y_test, pred_svm)\n",
    "print(\"Accuracy:\", accuracy)"
   ]
  },
  {
   "cell_type": "code",
   "execution_count": 97,
   "id": "02e1072e",
   "metadata": {},
   "outputs": [
    {
     "name": "stdout",
     "output_type": "stream",
     "text": [
      "Log loss:  0.6740318007786978\n"
     ]
    }
   ],
   "source": [
    "from sklearn.metrics import log_loss\n",
    "\n",
    "# Predict the class probabilities for new samples\n",
    "y_pred = model_svm.predict_proba(x_test)\n",
    "\n",
    "# Calculate the log loss\n",
    "log_loss_svm = log_loss(y_test, y_pred)\n",
    "\n",
    "print(\"Log loss: \", log_loss_svm)"
   ]
  },
  {
   "cell_type": "code",
   "execution_count": 98,
   "id": "4061089e",
   "metadata": {},
   "outputs": [
    {
     "data": {
      "text/html": [
       "<div>\n",
       "<style scoped>\n",
       "    .dataframe tbody tr th:only-of-type {\n",
       "        vertical-align: middle;\n",
       "    }\n",
       "\n",
       "    .dataframe tbody tr th {\n",
       "        vertical-align: top;\n",
       "    }\n",
       "\n",
       "    .dataframe thead th {\n",
       "        text-align: right;\n",
       "    }\n",
       "</style>\n",
       "<table border=\"1\" class=\"dataframe\">\n",
       "  <thead>\n",
       "    <tr style=\"text-align: right;\">\n",
       "      <th></th>\n",
       "      <th>Accuracy</th>\n",
       "      <th>AUC</th>\n",
       "    </tr>\n",
       "  </thead>\n",
       "  <tbody>\n",
       "    <tr>\n",
       "      <th>Prediction</th>\n",
       "      <td>0.603448</td>\n",
       "      <td>-</td>\n",
       "    </tr>\n",
       "    <tr>\n",
       "      <th>K-fold</th>\n",
       "      <td>0.620211</td>\n",
       "      <td>0.521664</td>\n",
       "    </tr>\n",
       "  </tbody>\n",
       "</table>\n",
       "</div>"
      ],
      "text/plain": [
       "            Accuracy       AUC\n",
       "Prediction  0.603448         -\n",
       "K-fold      0.620211  0.521664"
      ]
     },
     "execution_count": 98,
     "metadata": {},
     "output_type": "execute_result"
    }
   ],
   "source": [
    "#KFOLD \n",
    "pred_svm = model_svm.predict(x_test)\n",
    "\n",
    "cv = KFold(n_splits=2, random_state=0, shuffle=True)\n",
    "#evaluate model\n",
    "auc_svm = cross_val_score(model_svm, x_train, y_train, scoring='roc_auc_ovr', cv=cv, n_jobs=-1)\n",
    "accuracy_svm = cross_val_score(model_svm, x_train, y_train, scoring='accuracy', cv=cv, n_jobs=-1)\n",
    "pd.DataFrame([[accuracy_score(y_test, pred_svm), '-'],[np.mean(accuracy_svm), np.mean(auc_svm)]], columns = ['Accuracy', 'AUC'], index = ['Prediction', 'K-fold'])"
   ]
  },
  {
   "cell_type": "code",
   "execution_count": 99,
   "id": "5a445b8c",
   "metadata": {},
   "outputs": [
    {
     "name": "stdout",
     "output_type": "stream",
     "text": [
      "Precision:  0.6946935973246519\n",
      "Recall:  0.603448275862069\n",
      "F1:  0.4598763356438617\n"
     ]
    }
   ],
   "source": [
    "#calculating precision, recall, and f1 score\n",
    "precision_svm = precision_score(y_test, pred_svm,average='weighted')\n",
    "recall_svm = recall_score(y_test, pred_svm,average='weighted')\n",
    "f1_svm = f1_score(y_test, pred_svm,average='weighted')\n",
    "print('Precision: ',precision_svm)\n",
    "print('Recall: ',recall_svm)\n",
    "print('F1: ',f1_svm)"
   ]
  },
  {
   "cell_type": "markdown",
   "id": "eb7f5a08",
   "metadata": {},
   "source": [
    "### KNN"
   ]
  },
  {
   "cell_type": "code",
   "execution_count": 100,
   "id": "2c738f04",
   "metadata": {},
   "outputs": [
    {
     "name": "stdout",
     "output_type": "stream",
     "text": [
      "Accuracy: 0.5574712643678161\n"
     ]
    }
   ],
   "source": [
    "from sklearn.neighbors import KNeighborsClassifier\n",
    "\n",
    "model_knn = KNeighborsClassifier(n_neighbors= 7, weights='distance')\n",
    "\n",
    "# Train the model\n",
    "model_knn.fit(x_train, y_train)\n",
    "\n",
    "# Predict using the trained model\n",
    "pred_knn = model_knn.predict(x_test)\n",
    "accuracy = accuracy_score(y_test, pred_knn)\n",
    "print(\"Accuracy:\", accuracy)"
   ]
  },
  {
   "cell_type": "code",
   "execution_count": 101,
   "id": "2827bea2",
   "metadata": {},
   "outputs": [
    {
     "name": "stdout",
     "output_type": "stream",
     "text": [
      "Log loss:  1.5580792399822987\n"
     ]
    }
   ],
   "source": [
    "from sklearn.metrics import log_loss\n",
    "\n",
    "# Predict the class probabilities for new samples\n",
    "y_pred = model_knn.predict_proba(x_test)\n",
    "\n",
    "# Calculate the log loss\n",
    "log_loss_knn = log_loss(y_test, y_pred)\n",
    "\n",
    "print(\"Log loss: \", log_loss_knn)"
   ]
  },
  {
   "cell_type": "code",
   "execution_count": 102,
   "id": "b352f063",
   "metadata": {},
   "outputs": [
    {
     "data": {
      "text/html": [
       "<div>\n",
       "<style scoped>\n",
       "    .dataframe tbody tr th:only-of-type {\n",
       "        vertical-align: middle;\n",
       "    }\n",
       "\n",
       "    .dataframe tbody tr th {\n",
       "        vertical-align: top;\n",
       "    }\n",
       "\n",
       "    .dataframe thead th {\n",
       "        text-align: right;\n",
       "    }\n",
       "</style>\n",
       "<table border=\"1\" class=\"dataframe\">\n",
       "  <thead>\n",
       "    <tr style=\"text-align: right;\">\n",
       "      <th></th>\n",
       "      <th>Accuracy</th>\n",
       "      <th>AUC</th>\n",
       "    </tr>\n",
       "  </thead>\n",
       "  <tbody>\n",
       "    <tr>\n",
       "      <th>Prediction</th>\n",
       "      <td>0.557471</td>\n",
       "      <td>-</td>\n",
       "    </tr>\n",
       "    <tr>\n",
       "      <th>K-fold</th>\n",
       "      <td>0.583333</td>\n",
       "      <td>0.554218</td>\n",
       "    </tr>\n",
       "  </tbody>\n",
       "</table>\n",
       "</div>"
      ],
      "text/plain": [
       "            Accuracy       AUC\n",
       "Prediction  0.557471         -\n",
       "K-fold      0.583333  0.554218"
      ]
     },
     "execution_count": 102,
     "metadata": {},
     "output_type": "execute_result"
    }
   ],
   "source": [
    "#KFOLD \n",
    "pred_knn = model_knn.predict(x_test)\n",
    "\n",
    "cv = KFold(n_splits=2, random_state=0, shuffle=True)\n",
    "#evaluate model\n",
    "auc_knn = cross_val_score(model_knn, x_train, y_train, scoring='roc_auc_ovr', cv=cv, n_jobs=-1)\n",
    "accuracy_knn = cross_val_score(model_knn, x_train, y_train, scoring='accuracy', cv=cv, n_jobs=-1)\n",
    "pd.DataFrame([[accuracy_score(y_test, pred_knn), '-'],[np.mean(accuracy_knn), np.mean(auc_knn)]], columns = ['Accuracy', 'AUC'], index = ['Prediction', 'K-fold'])"
   ]
  },
  {
   "cell_type": "code",
   "execution_count": 103,
   "id": "136c5927",
   "metadata": {},
   "outputs": [
    {
     "name": "stdout",
     "output_type": "stream",
     "text": [
      "Precision:  0.536351140873416\n",
      "Recall:  0.557471264367816\n",
      "F1:  0.5397404193810061\n"
     ]
    }
   ],
   "source": [
    "#calculating precision, recall, and f1 score\n",
    "precision_knn = precision_score(y_test, pred_knn,average='weighted')\n",
    "recall_knn = recall_score(y_test, pred_knn,average='weighted')\n",
    "f1_knn = f1_score(y_test, pred_knn,average='weighted')\n",
    "print('Precision: ',precision_knn)\n",
    "print('Recall: ',recall_knn)\n",
    "print('F1: ',f1_knn)"
   ]
  },
  {
   "cell_type": "code",
   "execution_count": 104,
   "id": "3bbf0614",
   "metadata": {},
   "outputs": [
    {
     "name": "stdout",
     "output_type": "stream",
     "text": [
      "Accuracy: 0.7413793103448276\n"
     ]
    }
   ],
   "source": [
    "from sklearn.tree import DecisionTreeClassifier\n",
    "\n",
    "model_tree = DecisionTreeClassifier(max_depth= 7, min_samples_split= 10)\n",
    "# Train the model\n",
    "model_tree.fit(x_train , y_train)\n",
    "\n",
    "# Predict using the trained model\n",
    "pred_tree = model_tree.predict(x_test)\n",
    "accuracy = accuracy_score(y_test, pred_tree)\n",
    "print(\"Accuracy:\", accuracy)"
   ]
  },
  {
   "cell_type": "code",
   "execution_count": 105,
   "id": "8e7426e0",
   "metadata": {},
   "outputs": [
    {
     "name": "stdout",
     "output_type": "stream",
     "text": [
      "Log loss:  0.9678547763853511\n"
     ]
    }
   ],
   "source": [
    "from sklearn.metrics import log_loss\n",
    "\n",
    "# Predict the class probabilities for new samples\n",
    "y_pred = model_tree.predict_proba(x_test)\n",
    "\n",
    "# Calculate the log loss\n",
    "log_loss_tree = log_loss(y_test, y_pred)\n",
    "\n",
    "print(\"Log loss: \", log_loss_tree)"
   ]
  },
  {
   "cell_type": "code",
   "execution_count": 106,
   "id": "ccce42cb",
   "metadata": {},
   "outputs": [
    {
     "data": {
      "text/html": [
       "<div>\n",
       "<style scoped>\n",
       "    .dataframe tbody tr th:only-of-type {\n",
       "        vertical-align: middle;\n",
       "    }\n",
       "\n",
       "    .dataframe tbody tr th {\n",
       "        vertical-align: top;\n",
       "    }\n",
       "\n",
       "    .dataframe thead th {\n",
       "        text-align: right;\n",
       "    }\n",
       "</style>\n",
       "<table border=\"1\" class=\"dataframe\">\n",
       "  <thead>\n",
       "    <tr style=\"text-align: right;\">\n",
       "      <th></th>\n",
       "      <th>Accuracy</th>\n",
       "      <th>AUC</th>\n",
       "    </tr>\n",
       "  </thead>\n",
       "  <tbody>\n",
       "    <tr>\n",
       "      <th>Prediction</th>\n",
       "      <td>0.741379</td>\n",
       "      <td>-</td>\n",
       "    </tr>\n",
       "    <tr>\n",
       "      <th>K-fold</th>\n",
       "      <td>0.714320</td>\n",
       "      <td>0.740474</td>\n",
       "    </tr>\n",
       "  </tbody>\n",
       "</table>\n",
       "</div>"
      ],
      "text/plain": [
       "            Accuracy       AUC\n",
       "Prediction  0.741379         -\n",
       "K-fold      0.714320  0.740474"
      ]
     },
     "execution_count": 106,
     "metadata": {},
     "output_type": "execute_result"
    }
   ],
   "source": [
    "#KFOLD \n",
    "pred_tree = model_tree.predict(x_test)\n",
    "\n",
    "cv = KFold(n_splits=2, random_state=0, shuffle=True)\n",
    "#evaluate model\n",
    "auc_tree = cross_val_score(model_tree, x_train, y_train, scoring='roc_auc_ovr', cv=cv, n_jobs=-1)\n",
    "accuracy_tree = cross_val_score(model_tree, x_train, y_train, scoring='accuracy', cv=cv, n_jobs=-1)\n",
    "pd.DataFrame([[accuracy_score(y_test, pred_tree), '-'],[np.mean(accuracy_tree), np.mean(auc_tree)]], columns = ['Accuracy', 'AUC'], index = ['Prediction', 'K-fold'])"
   ]
  },
  {
   "cell_type": "code",
   "execution_count": 107,
   "id": "2f185e78",
   "metadata": {},
   "outputs": [
    {
     "name": "stdout",
     "output_type": "stream",
     "text": [
      "Precision:  0.7401844194592762\n",
      "Recall:  0.7413793103448276\n",
      "F1:  0.7333743446324176\n"
     ]
    }
   ],
   "source": [
    "#calculating precision, recall, and f1 score\n",
    "precision_tree = precision_score(y_test, pred_tree,average='weighted')\n",
    "recall_tree = recall_score(y_test, pred_tree,average='weighted')\n",
    "f1_tree = f1_score(y_test, pred_tree,average='weighted')\n",
    "print('Precision: ',precision_tree)\n",
    "print('Recall: ',recall_tree)\n",
    "print('F1: ',f1_tree)"
   ]
  },
  {
   "cell_type": "code",
   "execution_count": 108,
   "id": "312ce823",
   "metadata": {},
   "outputs": [
    {
     "data": {
      "text/html": [
       "<div>\n",
       "<style scoped>\n",
       "    .dataframe tbody tr th:only-of-type {\n",
       "        vertical-align: middle;\n",
       "    }\n",
       "\n",
       "    .dataframe tbody tr th {\n",
       "        vertical-align: top;\n",
       "    }\n",
       "\n",
       "    .dataframe thead th {\n",
       "        text-align: right;\n",
       "    }\n",
       "</style>\n",
       "<table border=\"1\" class=\"dataframe\">\n",
       "  <thead>\n",
       "    <tr style=\"text-align: right;\">\n",
       "      <th></th>\n",
       "      <th>Model</th>\n",
       "      <th>Accuracy</th>\n",
       "      <th>AUC</th>\n",
       "      <th>Log loss</th>\n",
       "      <th>Precision</th>\n",
       "      <th>Recall</th>\n",
       "      <th>F1 Score</th>\n",
       "    </tr>\n",
       "  </thead>\n",
       "  <tbody>\n",
       "    <tr>\n",
       "      <th>0</th>\n",
       "      <td>Random Forest</td>\n",
       "      <td>0.704981</td>\n",
       "      <td>0.741290</td>\n",
       "      <td>0.583383</td>\n",
       "      <td>0.702379</td>\n",
       "      <td>0.704981</td>\n",
       "      <td>0.691994</td>\n",
       "    </tr>\n",
       "    <tr>\n",
       "      <th>1</th>\n",
       "      <td>Naive Bayes</td>\n",
       "      <td>0.570881</td>\n",
       "      <td>0.547402</td>\n",
       "      <td>0.678521</td>\n",
       "      <td>0.540599</td>\n",
       "      <td>0.570881</td>\n",
       "      <td>0.538403</td>\n",
       "    </tr>\n",
       "    <tr>\n",
       "      <th>2</th>\n",
       "      <td>SVM</td>\n",
       "      <td>0.603448</td>\n",
       "      <td>0.521664</td>\n",
       "      <td>0.674032</td>\n",
       "      <td>0.694694</td>\n",
       "      <td>0.603448</td>\n",
       "      <td>0.459876</td>\n",
       "    </tr>\n",
       "    <tr>\n",
       "      <th>3</th>\n",
       "      <td>KNN</td>\n",
       "      <td>0.557471</td>\n",
       "      <td>0.554218</td>\n",
       "      <td>1.558079</td>\n",
       "      <td>0.536351</td>\n",
       "      <td>0.557471</td>\n",
       "      <td>0.539740</td>\n",
       "    </tr>\n",
       "    <tr>\n",
       "      <th>4</th>\n",
       "      <td>Decision Tree</td>\n",
       "      <td>0.741379</td>\n",
       "      <td>0.740474</td>\n",
       "      <td>0.967855</td>\n",
       "      <td>0.740184</td>\n",
       "      <td>0.741379</td>\n",
       "      <td>0.733374</td>\n",
       "    </tr>\n",
       "  </tbody>\n",
       "</table>\n",
       "</div>"
      ],
      "text/plain": [
       "           Model  Accuracy       AUC  Log loss  Precision    Recall  F1 Score\n",
       "0  Random Forest  0.704981  0.741290  0.583383   0.702379  0.704981  0.691994\n",
       "1    Naive Bayes  0.570881  0.547402  0.678521   0.540599  0.570881  0.538403\n",
       "2            SVM  0.603448  0.521664  0.674032   0.694694  0.603448  0.459876\n",
       "3            KNN  0.557471  0.554218  1.558079   0.536351  0.557471  0.539740\n",
       "4  Decision Tree  0.741379  0.740474  0.967855   0.740184  0.741379  0.733374"
      ]
     },
     "execution_count": 108,
     "metadata": {},
     "output_type": "execute_result"
    }
   ],
   "source": [
    "df = {\n",
    "    'Model': ['Random Forest', 'Naive Bayes', 'SVM', 'KNN', 'Decision Tree'],\n",
    "    'Accuracy': [accuracy_score(y_test,pred_rfc), accuracy_score(y_test,pred_naive), accuracy_score(y_test,pred_svm), accuracy_score(y_test,pred_knn),accuracy_score(y_test,pred_tree)],\n",
    "    'AUC': [np.mean(auc_rfc), np.mean(auc_naive), np.mean(auc_svm), np.mean(auc_knn),np.mean(auc_tree)],\n",
    "    'Log loss': [log_loss_rfc, log_loss_naive, log_loss_svm, log_loss_knn,log_loss_tree],\n",
    "    'Precision': [precision_rfc, precision_naive, precision_svm, precision_knn,precision_tree],\n",
    "    'Recall': [recall_rfc, recall_naive, recall_svm, recall_knn,recall_tree],\n",
    "    'F1 Score': [f1_rfc, f1_naive, f1_svm, f1_knn,f1_tree],\n",
    "\n",
    "}\n",
    "\n",
    "df = pd.DataFrame(df)\n",
    "df\n"
   ]
  },
  {
   "cell_type": "code",
   "execution_count": 109,
   "id": "6c69939a",
   "metadata": {},
   "outputs": [],
   "source": [
    "#Lets encode target labels (y) with values between 0 and n_classes-1.\n",
    "#We will use the LabelEncoder to do this. \n",
    "from sklearn.preprocessing import LabelEncoder\n",
    "label_encoder=LabelEncoder()\n",
    "label_encoder.fit(y_train)\n",
    "classes=label_encoder.classes_"
   ]
  },
  {
   "cell_type": "markdown",
   "id": "177e079c",
   "metadata": {},
   "source": [
    "### ROC Random Forest"
   ]
  },
  {
   "cell_type": "code",
   "execution_count": 110,
   "id": "ac77994b",
   "metadata": {},
   "outputs": [
    {
     "name": "stderr",
     "output_type": "stream",
     "text": [
      "C:\\Users\\Jessa Francisco\\anaconda3\\lib\\site-packages\\sklearn\\base.py:420: UserWarning: X does not have valid feature names, but RandomForestClassifier was fitted with feature names\n",
      "  warnings.warn(\n"
     ]
    },
    {
     "data": {
      "image/png": "[encoded data removed]",
      "text/plain": [
       "<Figure size 576x396 with 1 Axes>"
      ]
     },
     "metadata": {},
     "output_type": "display_data"
    },
    {
     "data": {
      "text/plain": [
       "<AxesSubplot:title={'center':'ROC Curves for RandomForestClassifier'}, xlabel='False Positive Rate', ylabel='True Positive Rate'>"
      ]
     },
     "execution_count": 110,
     "metadata": {},
     "output_type": "execute_result"
    }
   ],
   "source": [
    "# from yellowbrick.classifier.rocauc import roc_auc\n",
    "from yellowbrick.classifier import ROCAUC\n",
    "\n",
    "\n",
    "visualizer = ROCAUC(model_rfc)\n",
    "visualizer.fit(x_train, y_train)        # Fit the training data to the visualizer\n",
    "visualizer.score(x_test, y_test)        # Evaluate the model on the test data\n",
    "visualizer.show()"
   ]
  },
  {
   "cell_type": "markdown",
   "id": "864c3236",
   "metadata": {},
   "source": [
    "### ROC Naive Bayes"
   ]
  },
  {
   "cell_type": "code",
   "execution_count": 111,
   "id": "594b2116",
   "metadata": {},
   "outputs": [
    {
     "name": "stderr",
     "output_type": "stream",
     "text": [
      "C:\\Users\\Jessa Francisco\\anaconda3\\lib\\site-packages\\sklearn\\base.py:420: UserWarning: X does not have valid feature names, but GaussianNB was fitted with feature names\n",
      "  warnings.warn(\n"
     ]
    },
    {
     "data": {
      "image/png": "[encoded data removed]",
      "text/plain": [
       "<Figure size 576x396 with 1 Axes>"
      ]
     },
     "metadata": {},
     "output_type": "display_data"
    },
    {
     "data": {
      "text/plain": [
       "<AxesSubplot:title={'center':'ROC Curves for GaussianNB'}, xlabel='False Positive Rate', ylabel='True Positive Rate'>"
      ]
     },
     "execution_count": 111,
     "metadata": {},
     "output_type": "execute_result"
    }
   ],
   "source": [
    "# from yellowbrick.classifier.rocauc import roc_auc\n",
    "from yellowbrick.classifier import ROCAUC\n",
    "\n",
    "\n",
    "visualizer = ROCAUC(model_naive)\n",
    "visualizer.fit(x_train, y_train)        # Fit the training data to the visualizer\n",
    "visualizer.score(x_test, y_test)        # Evaluate the model on the test data\n",
    "visualizer.show()"
   ]
  },
  {
   "cell_type": "markdown",
   "id": "6ad2f5ae",
   "metadata": {},
   "source": [
    "### ROC KNN"
   ]
  },
  {
   "cell_type": "code",
   "execution_count": 112,
   "id": "9c489d4a",
   "metadata": {},
   "outputs": [
    {
     "name": "stderr",
     "output_type": "stream",
     "text": [
      "C:\\Users\\Jessa Francisco\\anaconda3\\lib\\site-packages\\sklearn\\base.py:420: UserWarning: X does not have valid feature names, but KNeighborsClassifier was fitted with feature names\n",
      "  warnings.warn(\n"
     ]
    },
    {
     "data": {
      "image/png": "[encoded data removed]",
      "text/plain": [
       "<Figure size 576x396 with 1 Axes>"
      ]
     },
     "metadata": {},
     "output_type": "display_data"
    },
    {
     "data": {
      "text/plain": [
       "<AxesSubplot:title={'center':'ROC Curves for KNeighborsClassifier'}, xlabel='False Positive Rate', ylabel='True Positive Rate'>"
      ]
     },
     "execution_count": 112,
     "metadata": {},
     "output_type": "execute_result"
    }
   ],
   "source": [
    "# from yellowbrick.classifier.rocauc import roc_auc\n",
    "from yellowbrick.classifier import ROCAUC\n",
    "\n",
    "\n",
    "visualizer = ROCAUC(model_knn)\n",
    "visualizer.fit(x_train, y_train)        # Fit the training data to the visualizer\n",
    "visualizer.score(x_test, y_test)        # Evaluate the model on the test data\n",
    "visualizer.show()"
   ]
  },
  {
   "cell_type": "markdown",
   "id": "12e518d4",
   "metadata": {},
   "source": [
    "### ROC SVM"
   ]
  },
  {
   "cell_type": "code",
   "execution_count": 113,
   "id": "ac82c1d8",
   "metadata": {},
   "outputs": [
    {
     "name": "stderr",
     "output_type": "stream",
     "text": [
      "C:\\Users\\Jessa Francisco\\anaconda3\\lib\\site-packages\\sklearn\\base.py:420: UserWarning: X does not have valid feature names, but SVC was fitted with feature names\n",
      "  warnings.warn(\n"
     ]
    },
    {
     "data": {
      "image/png": "[encoded data removed]",
      "text/plain": [
       "<Figure size 576x396 with 1 Axes>"
      ]
     },
     "metadata": {},
     "output_type": "display_data"
    },
    {
     "data": {
      "text/plain": [
       "<AxesSubplot:title={'center':'ROC Curves for SVC'}, xlabel='False Positive Rate', ylabel='True Positive Rate'>"
      ]
     },
     "execution_count": 113,
     "metadata": {},
     "output_type": "execute_result"
    }
   ],
   "source": [
    "# from yellowbrick.classifier.rocauc import roc_auc\n",
    "from yellowbrick.classifier import ROCAUC\n",
    "\n",
    "\n",
    "visualizer = ROCAUC(model_svm)\n",
    "visualizer.fit(x_train, y_train)        # Fit the training data to the visualizer\n",
    "visualizer.score(x_test, y_test)        # Evaluate the model on the test data\n",
    "visualizer.show()"
   ]
  },
  {
   "cell_type": "markdown",
   "id": "9cbc543b",
   "metadata": {},
   "source": [
    "### ROC Decision Tree"
   ]
  },
  {
   "cell_type": "code",
   "execution_count": 114,
   "id": "070fd9df",
   "metadata": {},
   "outputs": [
    {
     "name": "stderr",
     "output_type": "stream",
     "text": [
      "C:\\Users\\Jessa Francisco\\anaconda3\\lib\\site-packages\\sklearn\\base.py:420: UserWarning: X does not have valid feature names, but DecisionTreeClassifier was fitted with feature names\n",
      "  warnings.warn(\n"
     ]
    },
    {
     "data": {
      "image/png": "[encoded data removed]",
      "text/plain": [
       "<Figure size 576x396 with 1 Axes>"
      ]
     },
     "metadata": {},
     "output_type": "display_data"
    },
    {
     "data": {
      "text/plain": [
       "<AxesSubplot:title={'center':'ROC Curves for DecisionTreeClassifier'}, xlabel='False Positive Rate', ylabel='True Positive Rate'>"
      ]
     },
     "execution_count": 114,
     "metadata": {},
     "output_type": "execute_result"
    }
   ],
   "source": [
    "# from yellowbrick.classifier.rocauc import roc_auc\n",
    "from yellowbrick.classifier import ROCAUC\n",
    "\n",
    "\n",
    "visualizer = ROCAUC(model_tree)\n",
    "visualizer.fit(x_train, y_train)        # Fit the training data to the visualizer\n",
    "visualizer.score(x_test, y_test)        # Evaluate the model on the test data\n",
    "visualizer.show()"
   ]
  },
  {
   "cell_type": "markdown",
   "id": "fadaefd9",
   "metadata": {},
   "source": [
    "Model 1"
   ]
  },
  {
   "cell_type": "code",
   "execution_count": 115,
   "id": "c807dc0f",
   "metadata": {},
   "outputs": [],
   "source": [
    "features = [\n",
    "     'Pr1',\n",
    "     'Pr2',\n",
    "     'Pr3',\n",
    "     'Pr4',\n",
    "     'Pr5',\n",
    "     'Oapr'\n",
    "]\n",
    "target ='Course'"
   ]
  },
  {
   "cell_type": "code",
   "execution_count": 116,
   "id": "645607c1",
   "metadata": {},
   "outputs": [],
   "source": [
    "x_train1 = data2_train[features]\n",
    "y_train1 = data2_train[target]\n",
    "x_test1 = data2_test[features]\n",
    "y_test1 = data2_test[target]"
   ]
  },
  {
   "cell_type": "code",
   "execution_count": 117,
   "id": "102283a4",
   "metadata": {},
   "outputs": [
    {
     "name": "stdout",
     "output_type": "stream",
     "text": [
      "Accuracy: 0.13409961685823754\n"
     ]
    }
   ],
   "source": [
    "#Random Forest\n",
    "from sklearn.ensemble import RandomForestClassifier\n",
    "model_rfc1 = RandomForestClassifier(random_state = 0,n_estimators = 150, min_samples_split= 2, min_samples_leaf= 4, max_depth= 5)\n",
    "\n",
    "# Train the model\n",
    "model_rfc1.fit(x_train1, y_train1)\n",
    "\n",
    "# Predict using the trained model\n",
    "pred_rfc1 = model_rfc1.predict(x_test1)\n",
    "accuracy1 = accuracy_score(y_test1, pred_rfc1)\n",
    "print(\"Accuracy:\", accuracy1)"
   ]
  },
  {
   "cell_type": "markdown",
   "id": "5febc969",
   "metadata": {},
   "source": [
    "# Validation"
   ]
  },
  {
   "cell_type": "code",
   "execution_count": 118,
   "id": "948eaf6a",
   "metadata": {},
   "outputs": [],
   "source": [
    "import pickle"
   ]
  },
  {
   "cell_type": "code",
   "execution_count": 119,
   "id": "e8df8bfe",
   "metadata": {},
   "outputs": [],
   "source": [
    "#RANDOM FOREST\n",
    "pickle.dump(model_rfc1, open('model_1.pkl', 'wb'))"
   ]
  },
  {
   "cell_type": "code",
   "execution_count": 120,
   "id": "5c171dc4",
   "metadata": {},
   "outputs": [],
   "source": [
    "#DECISION TREE\n",
    "pickle.dump(model_tree, open('model_2.pkl', 'wb'))"
   ]
  },
  {
   "cell_type": "code",
   "execution_count": 121,
   "id": "9310de85",
   "metadata": {},
   "outputs": [],
   "source": [
    "model_1= pickle.load(open('model_1.pkl', 'rb'))"
   ]
  },
  {
   "cell_type": "code",
   "execution_count": 122,
   "id": "e477bb66",
   "metadata": {},
   "outputs": [],
   "source": [
    "model_2= pickle.load(open('model_2.pkl', 'rb'))"
   ]
  },
  {
   "cell_type": "code",
   "execution_count": 129,
   "id": "87d0a7d1",
   "metadata": {},
   "outputs": [
    {
     "data": {
      "text/html": [
       "<div>\n",
       "<style scoped>\n",
       "    .dataframe tbody tr th:only-of-type {\n",
       "        vertical-align: middle;\n",
       "    }\n",
       "\n",
       "    .dataframe tbody tr th {\n",
       "        vertical-align: top;\n",
       "    }\n",
       "\n",
       "    .dataframe thead th {\n",
       "        text-align: right;\n",
       "    }\n",
       "</style>\n",
       "<table border=\"1\" class=\"dataframe\">\n",
       "  <thead>\n",
       "    <tr style=\"text-align: right;\">\n",
       "      <th></th>\n",
       "      <th>Unnamed: 0</th>\n",
       "      <th>Course</th>\n",
       "      <th>College</th>\n",
       "      <th>Graduated</th>\n",
       "      <th>Pr1</th>\n",
       "      <th>Pr2</th>\n",
       "      <th>Pr3</th>\n",
       "      <th>Pr4</th>\n",
       "      <th>Pr5</th>\n",
       "      <th>Oapr</th>\n",
       "      <th>Sum</th>\n",
       "      <th>English/Reading</th>\n",
       "      <th>Math/Logic</th>\n",
       "      <th>PR</th>\n",
       "      <th>Numerical_Course</th>\n",
       "      <th>Numerical_College</th>\n",
       "    </tr>\n",
       "  </thead>\n",
       "  <tbody>\n",
       "    <tr>\n",
       "      <th>0</th>\n",
       "      <td>0</td>\n",
       "      <td>BACHELOR OF AGRICULTURAL TECHNOLOGY</td>\n",
       "      <td>College of Agriculture</td>\n",
       "      <td>1</td>\n",
       "      <td>68.50</td>\n",
       "      <td>48.40</td>\n",
       "      <td>85.06</td>\n",
       "      <td>89.31</td>\n",
       "      <td>43.49</td>\n",
       "      <td>74.25</td>\n",
       "      <td>409.01</td>\n",
       "      <td>116.90</td>\n",
       "      <td>132.80</td>\n",
       "      <td>334.76</td>\n",
       "      <td>0</td>\n",
       "      <td>0</td>\n",
       "    </tr>\n",
       "    <tr>\n",
       "      <th>1</th>\n",
       "      <td>1</td>\n",
       "      <td>BACHELOR OF AGRICULTURAL TECHNOLOGY</td>\n",
       "      <td>College of Agriculture</td>\n",
       "      <td>1</td>\n",
       "      <td>74.80</td>\n",
       "      <td>48.40</td>\n",
       "      <td>59.25</td>\n",
       "      <td>10.45</td>\n",
       "      <td>53.29</td>\n",
       "      <td>60.09</td>\n",
       "      <td>306.28</td>\n",
       "      <td>123.20</td>\n",
       "      <td>63.74</td>\n",
       "      <td>246.19</td>\n",
       "      <td>0</td>\n",
       "      <td>0</td>\n",
       "    </tr>\n",
       "    <tr>\n",
       "      <th>2</th>\n",
       "      <td>2</td>\n",
       "      <td>BACHELOR OF AGRICULTURAL TECHNOLOGY</td>\n",
       "      <td>College of Agriculture</td>\n",
       "      <td>0</td>\n",
       "      <td>84.91</td>\n",
       "      <td>48.40</td>\n",
       "      <td>51.68</td>\n",
       "      <td>34.54</td>\n",
       "      <td>33.69</td>\n",
       "      <td>68.07</td>\n",
       "      <td>321.29</td>\n",
       "      <td>133.31</td>\n",
       "      <td>68.23</td>\n",
       "      <td>253.22</td>\n",
       "      <td>0</td>\n",
       "      <td>0</td>\n",
       "    </tr>\n",
       "    <tr>\n",
       "      <th>3</th>\n",
       "      <td>3</td>\n",
       "      <td>BACHELOR OF AGRICULTURAL TECHNOLOGY</td>\n",
       "      <td>College of Agriculture</td>\n",
       "      <td>1</td>\n",
       "      <td>58.56</td>\n",
       "      <td>71.99</td>\n",
       "      <td>59.25</td>\n",
       "      <td>24.91</td>\n",
       "      <td>63.10</td>\n",
       "      <td>61.37</td>\n",
       "      <td>339.18</td>\n",
       "      <td>130.55</td>\n",
       "      <td>88.01</td>\n",
       "      <td>277.81</td>\n",
       "      <td>0</td>\n",
       "      <td>0</td>\n",
       "    </tr>\n",
       "    <tr>\n",
       "      <th>4</th>\n",
       "      <td>6</td>\n",
       "      <td>BS AGRICULTURE</td>\n",
       "      <td>College of Agriculture</td>\n",
       "      <td>1</td>\n",
       "      <td>52.90</td>\n",
       "      <td>77.12</td>\n",
       "      <td>29.96</td>\n",
       "      <td>75.28</td>\n",
       "      <td>53.29</td>\n",
       "      <td>61.37</td>\n",
       "      <td>349.92</td>\n",
       "      <td>130.02</td>\n",
       "      <td>128.57</td>\n",
       "      <td>288.55</td>\n",
       "      <td>1</td>\n",
       "      <td>0</td>\n",
       "    </tr>\n",
       "    <tr>\n",
       "      <th>...</th>\n",
       "      <td>...</td>\n",
       "      <td>...</td>\n",
       "      <td>...</td>\n",
       "      <td>...</td>\n",
       "      <td>...</td>\n",
       "      <td>...</td>\n",
       "      <td>...</td>\n",
       "      <td>...</td>\n",
       "      <td>...</td>\n",
       "      <td>...</td>\n",
       "      <td>...</td>\n",
       "      <td>...</td>\n",
       "      <td>...</td>\n",
       "      <td>...</td>\n",
       "      <td>...</td>\n",
       "      <td>...</td>\n",
       "    </tr>\n",
       "    <tr>\n",
       "      <th>5220</th>\n",
       "      <td>6228</td>\n",
       "      <td>BACHELOR OF SPECIAL NEED EDUCATION</td>\n",
       "      <td>CTE</td>\n",
       "      <td>1</td>\n",
       "      <td>90.77</td>\n",
       "      <td>92.88</td>\n",
       "      <td>96.28</td>\n",
       "      <td>93.38</td>\n",
       "      <td>87.72</td>\n",
       "      <td>95.42</td>\n",
       "      <td>556.45</td>\n",
       "      <td>183.65</td>\n",
       "      <td>181.10</td>\n",
       "      <td>461.03</td>\n",
       "      <td>47</td>\n",
       "      <td>13</td>\n",
       "    </tr>\n",
       "    <tr>\n",
       "      <th>5221</th>\n",
       "      <td>6229</td>\n",
       "      <td>BACHELOR OF SPECIAL NEED EDUCATION</td>\n",
       "      <td>CTE</td>\n",
       "      <td>1</td>\n",
       "      <td>72.78</td>\n",
       "      <td>77.12</td>\n",
       "      <td>18.75</td>\n",
       "      <td>75.28</td>\n",
       "      <td>72.90</td>\n",
       "      <td>70.30</td>\n",
       "      <td>387.13</td>\n",
       "      <td>149.90</td>\n",
       "      <td>148.18</td>\n",
       "      <td>316.83</td>\n",
       "      <td>47</td>\n",
       "      <td>13</td>\n",
       "    </tr>\n",
       "    <tr>\n",
       "      <th>5222</th>\n",
       "      <td>6230</td>\n",
       "      <td>BACHELOR OF SPECIAL NEED EDUCATION</td>\n",
       "      <td>CTE</td>\n",
       "      <td>1</td>\n",
       "      <td>88.66</td>\n",
       "      <td>77.12</td>\n",
       "      <td>59.25</td>\n",
       "      <td>79.96</td>\n",
       "      <td>63.10</td>\n",
       "      <td>84.19</td>\n",
       "      <td>452.28</td>\n",
       "      <td>165.78</td>\n",
       "      <td>143.06</td>\n",
       "      <td>368.09</td>\n",
       "      <td>47</td>\n",
       "      <td>13</td>\n",
       "    </tr>\n",
       "    <tr>\n",
       "      <th>5223</th>\n",
       "      <td>6231</td>\n",
       "      <td>BACHELOR OF SPECIAL NEED EDUCATION</td>\n",
       "      <td>CTE</td>\n",
       "      <td>1</td>\n",
       "      <td>84.91</td>\n",
       "      <td>54.75</td>\n",
       "      <td>85.06</td>\n",
       "      <td>53.82</td>\n",
       "      <td>53.29</td>\n",
       "      <td>78.81</td>\n",
       "      <td>410.64</td>\n",
       "      <td>139.66</td>\n",
       "      <td>107.11</td>\n",
       "      <td>331.83</td>\n",
       "      <td>47</td>\n",
       "      <td>13</td>\n",
       "    </tr>\n",
       "    <tr>\n",
       "      <th>5224</th>\n",
       "      <td>6232</td>\n",
       "      <td>BACHELOR OF SPECIAL NEED EDUCATION</td>\n",
       "      <td>CTE</td>\n",
       "      <td>1</td>\n",
       "      <td>87.60</td>\n",
       "      <td>82.26</td>\n",
       "      <td>59.25</td>\n",
       "      <td>75.28</td>\n",
       "      <td>53.29</td>\n",
       "      <td>82.81</td>\n",
       "      <td>440.49</td>\n",
       "      <td>169.86</td>\n",
       "      <td>128.57</td>\n",
       "      <td>357.68</td>\n",
       "      <td>47</td>\n",
       "      <td>13</td>\n",
       "    </tr>\n",
       "  </tbody>\n",
       "</table>\n",
       "<p>5225 rows × 16 columns</p>\n",
       "</div>"
      ],
      "text/plain": [
       "      Unnamed: 0                               Course                 College  \\\n",
       "0              0  BACHELOR OF AGRICULTURAL TECHNOLOGY  College of Agriculture   \n",
       "1              1  BACHELOR OF AGRICULTURAL TECHNOLOGY  College of Agriculture   \n",
       "2              2  BACHELOR OF AGRICULTURAL TECHNOLOGY  College of Agriculture   \n",
       "3              3  BACHELOR OF AGRICULTURAL TECHNOLOGY  College of Agriculture   \n",
       "4              6                       BS AGRICULTURE  College of Agriculture   \n",
       "...          ...                                  ...                     ...   \n",
       "5220        6228   BACHELOR OF SPECIAL NEED EDUCATION                     CTE   \n",
       "5221        6229   BACHELOR OF SPECIAL NEED EDUCATION                     CTE   \n",
       "5222        6230   BACHELOR OF SPECIAL NEED EDUCATION                     CTE   \n",
       "5223        6231   BACHELOR OF SPECIAL NEED EDUCATION                     CTE   \n",
       "5224        6232   BACHELOR OF SPECIAL NEED EDUCATION                     CTE   \n",
       "\n",
       "      Graduated    Pr1    Pr2    Pr3    Pr4    Pr5   Oapr     Sum  \\\n",
       "0             1  68.50  48.40  85.06  89.31  43.49  74.25  409.01   \n",
       "1             1  74.80  48.40  59.25  10.45  53.29  60.09  306.28   \n",
       "2             0  84.91  48.40  51.68  34.54  33.69  68.07  321.29   \n",
       "3             1  58.56  71.99  59.25  24.91  63.10  61.37  339.18   \n",
       "4             1  52.90  77.12  29.96  75.28  53.29  61.37  349.92   \n",
       "...         ...    ...    ...    ...    ...    ...    ...     ...   \n",
       "5220          1  90.77  92.88  96.28  93.38  87.72  95.42  556.45   \n",
       "5221          1  72.78  77.12  18.75  75.28  72.90  70.30  387.13   \n",
       "5222          1  88.66  77.12  59.25  79.96  63.10  84.19  452.28   \n",
       "5223          1  84.91  54.75  85.06  53.82  53.29  78.81  410.64   \n",
       "5224          1  87.60  82.26  59.25  75.28  53.29  82.81  440.49   \n",
       "\n",
       "      English/Reading  Math/Logic      PR  Numerical_Course  Numerical_College  \n",
       "0              116.90      132.80  334.76                 0                  0  \n",
       "1              123.20       63.74  246.19                 0                  0  \n",
       "2              133.31       68.23  253.22                 0                  0  \n",
       "3              130.55       88.01  277.81                 0                  0  \n",
       "4              130.02      128.57  288.55                 1                  0  \n",
       "...               ...         ...     ...               ...                ...  \n",
       "5220           183.65      181.10  461.03                47                 13  \n",
       "5221           149.90      148.18  316.83                47                 13  \n",
       "5222           165.78      143.06  368.09                47                 13  \n",
       "5223           139.66      107.11  331.83                47                 13  \n",
       "5224           169.86      128.57  357.68                47                 13  \n",
       "\n",
       "[5225 rows x 16 columns]"
      ]
     },
     "execution_count": 129,
     "metadata": {},
     "output_type": "execute_result"
    }
   ],
   "source": [
    "val_data = pd.read_csv('val_data.csv')\n",
    "val_data"
   ]
  },
  {
   "cell_type": "code",
   "execution_count": 130,
   "id": "8b2595a2",
   "metadata": {},
   "outputs": [],
   "source": [
    "features = [\n",
    "     'Pr1',\n",
    "     'Pr2',\n",
    "     'Pr3',\n",
    "     'Pr4',\n",
    "     'Pr5',\n",
    "     'Oapr',\n",
    "]"
   ]
  },
  {
   "cell_type": "code",
   "execution_count": 131,
   "id": "de46987e",
   "metadata": {},
   "outputs": [],
   "source": [
    "target='Course'"
   ]
  },
  {
   "cell_type": "code",
   "execution_count": 132,
   "id": "4359601f",
   "metadata": {},
   "outputs": [
    {
     "data": {
      "text/html": [
       "<div>\n",
       "<style scoped>\n",
       "    .dataframe tbody tr th:only-of-type {\n",
       "        vertical-align: middle;\n",
       "    }\n",
       "\n",
       "    .dataframe tbody tr th {\n",
       "        vertical-align: top;\n",
       "    }\n",
       "\n",
       "    .dataframe thead th {\n",
       "        text-align: right;\n",
       "    }\n",
       "</style>\n",
       "<table border=\"1\" class=\"dataframe\">\n",
       "  <thead>\n",
       "    <tr style=\"text-align: right;\">\n",
       "      <th></th>\n",
       "      <th>Unnamed: 0</th>\n",
       "      <th>Course</th>\n",
       "      <th>College</th>\n",
       "      <th>Graduated</th>\n",
       "      <th>Pr1</th>\n",
       "      <th>Pr2</th>\n",
       "      <th>Pr3</th>\n",
       "      <th>Pr4</th>\n",
       "      <th>Pr5</th>\n",
       "      <th>Oapr</th>\n",
       "      <th>Sum</th>\n",
       "      <th>English/Reading</th>\n",
       "      <th>Math/Logic</th>\n",
       "      <th>PR</th>\n",
       "      <th>Numerical_Course</th>\n",
       "      <th>Numerical_College</th>\n",
       "    </tr>\n",
       "  </thead>\n",
       "  <tbody>\n",
       "    <tr>\n",
       "      <th>0</th>\n",
       "      <td>0</td>\n",
       "      <td>BACHELOR OF AGRICULTURAL TECHNOLOGY</td>\n",
       "      <td>College of Agriculture</td>\n",
       "      <td>1</td>\n",
       "      <td>68.50</td>\n",
       "      <td>48.40</td>\n",
       "      <td>85.06</td>\n",
       "      <td>89.31</td>\n",
       "      <td>43.49</td>\n",
       "      <td>74.25</td>\n",
       "      <td>409.01</td>\n",
       "      <td>116.90</td>\n",
       "      <td>132.80</td>\n",
       "      <td>334.76</td>\n",
       "      <td>0</td>\n",
       "      <td>0</td>\n",
       "    </tr>\n",
       "    <tr>\n",
       "      <th>1</th>\n",
       "      <td>1</td>\n",
       "      <td>BACHELOR OF AGRICULTURAL TECHNOLOGY</td>\n",
       "      <td>College of Agriculture</td>\n",
       "      <td>1</td>\n",
       "      <td>74.80</td>\n",
       "      <td>48.40</td>\n",
       "      <td>59.25</td>\n",
       "      <td>10.45</td>\n",
       "      <td>53.29</td>\n",
       "      <td>60.09</td>\n",
       "      <td>306.28</td>\n",
       "      <td>123.20</td>\n",
       "      <td>63.74</td>\n",
       "      <td>246.19</td>\n",
       "      <td>0</td>\n",
       "      <td>0</td>\n",
       "    </tr>\n",
       "    <tr>\n",
       "      <th>2</th>\n",
       "      <td>2</td>\n",
       "      <td>BACHELOR OF AGRICULTURAL TECHNOLOGY</td>\n",
       "      <td>College of Agriculture</td>\n",
       "      <td>0</td>\n",
       "      <td>84.91</td>\n",
       "      <td>48.40</td>\n",
       "      <td>51.68</td>\n",
       "      <td>34.54</td>\n",
       "      <td>33.69</td>\n",
       "      <td>68.07</td>\n",
       "      <td>321.29</td>\n",
       "      <td>133.31</td>\n",
       "      <td>68.23</td>\n",
       "      <td>253.22</td>\n",
       "      <td>0</td>\n",
       "      <td>0</td>\n",
       "    </tr>\n",
       "    <tr>\n",
       "      <th>3</th>\n",
       "      <td>3</td>\n",
       "      <td>BACHELOR OF AGRICULTURAL TECHNOLOGY</td>\n",
       "      <td>College of Agriculture</td>\n",
       "      <td>1</td>\n",
       "      <td>58.56</td>\n",
       "      <td>71.99</td>\n",
       "      <td>59.25</td>\n",
       "      <td>24.91</td>\n",
       "      <td>63.10</td>\n",
       "      <td>61.37</td>\n",
       "      <td>339.18</td>\n",
       "      <td>130.55</td>\n",
       "      <td>88.01</td>\n",
       "      <td>277.81</td>\n",
       "      <td>0</td>\n",
       "      <td>0</td>\n",
       "    </tr>\n",
       "    <tr>\n",
       "      <th>4</th>\n",
       "      <td>6</td>\n",
       "      <td>BS AGRICULTURE</td>\n",
       "      <td>College of Agriculture</td>\n",
       "      <td>1</td>\n",
       "      <td>52.90</td>\n",
       "      <td>77.12</td>\n",
       "      <td>29.96</td>\n",
       "      <td>75.28</td>\n",
       "      <td>53.29</td>\n",
       "      <td>61.37</td>\n",
       "      <td>349.92</td>\n",
       "      <td>130.02</td>\n",
       "      <td>128.57</td>\n",
       "      <td>288.55</td>\n",
       "      <td>1</td>\n",
       "      <td>0</td>\n",
       "    </tr>\n",
       "    <tr>\n",
       "      <th>...</th>\n",
       "      <td>...</td>\n",
       "      <td>...</td>\n",
       "      <td>...</td>\n",
       "      <td>...</td>\n",
       "      <td>...</td>\n",
       "      <td>...</td>\n",
       "      <td>...</td>\n",
       "      <td>...</td>\n",
       "      <td>...</td>\n",
       "      <td>...</td>\n",
       "      <td>...</td>\n",
       "      <td>...</td>\n",
       "      <td>...</td>\n",
       "      <td>...</td>\n",
       "      <td>...</td>\n",
       "      <td>...</td>\n",
       "    </tr>\n",
       "    <tr>\n",
       "      <th>5220</th>\n",
       "      <td>6228</td>\n",
       "      <td>BACHELOR OF SPECIAL NEED EDUCATION</td>\n",
       "      <td>CTE</td>\n",
       "      <td>1</td>\n",
       "      <td>90.77</td>\n",
       "      <td>92.88</td>\n",
       "      <td>96.28</td>\n",
       "      <td>93.38</td>\n",
       "      <td>87.72</td>\n",
       "      <td>95.42</td>\n",
       "      <td>556.45</td>\n",
       "      <td>183.65</td>\n",
       "      <td>181.10</td>\n",
       "      <td>461.03</td>\n",
       "      <td>47</td>\n",
       "      <td>13</td>\n",
       "    </tr>\n",
       "    <tr>\n",
       "      <th>5221</th>\n",
       "      <td>6229</td>\n",
       "      <td>BACHELOR OF SPECIAL NEED EDUCATION</td>\n",
       "      <td>CTE</td>\n",
       "      <td>1</td>\n",
       "      <td>72.78</td>\n",
       "      <td>77.12</td>\n",
       "      <td>18.75</td>\n",
       "      <td>75.28</td>\n",
       "      <td>72.90</td>\n",
       "      <td>70.30</td>\n",
       "      <td>387.13</td>\n",
       "      <td>149.90</td>\n",
       "      <td>148.18</td>\n",
       "      <td>316.83</td>\n",
       "      <td>47</td>\n",
       "      <td>13</td>\n",
       "    </tr>\n",
       "    <tr>\n",
       "      <th>5222</th>\n",
       "      <td>6230</td>\n",
       "      <td>BACHELOR OF SPECIAL NEED EDUCATION</td>\n",
       "      <td>CTE</td>\n",
       "      <td>1</td>\n",
       "      <td>88.66</td>\n",
       "      <td>77.12</td>\n",
       "      <td>59.25</td>\n",
       "      <td>79.96</td>\n",
       "      <td>63.10</td>\n",
       "      <td>84.19</td>\n",
       "      <td>452.28</td>\n",
       "      <td>165.78</td>\n",
       "      <td>143.06</td>\n",
       "      <td>368.09</td>\n",
       "      <td>47</td>\n",
       "      <td>13</td>\n",
       "    </tr>\n",
       "    <tr>\n",
       "      <th>5223</th>\n",
       "      <td>6231</td>\n",
       "      <td>BACHELOR OF SPECIAL NEED EDUCATION</td>\n",
       "      <td>CTE</td>\n",
       "      <td>1</td>\n",
       "      <td>84.91</td>\n",
       "      <td>54.75</td>\n",
       "      <td>85.06</td>\n",
       "      <td>53.82</td>\n",
       "      <td>53.29</td>\n",
       "      <td>78.81</td>\n",
       "      <td>410.64</td>\n",
       "      <td>139.66</td>\n",
       "      <td>107.11</td>\n",
       "      <td>331.83</td>\n",
       "      <td>47</td>\n",
       "      <td>13</td>\n",
       "    </tr>\n",
       "    <tr>\n",
       "      <th>5224</th>\n",
       "      <td>6232</td>\n",
       "      <td>BACHELOR OF SPECIAL NEED EDUCATION</td>\n",
       "      <td>CTE</td>\n",
       "      <td>1</td>\n",
       "      <td>87.60</td>\n",
       "      <td>82.26</td>\n",
       "      <td>59.25</td>\n",
       "      <td>75.28</td>\n",
       "      <td>53.29</td>\n",
       "      <td>82.81</td>\n",
       "      <td>440.49</td>\n",
       "      <td>169.86</td>\n",
       "      <td>128.57</td>\n",
       "      <td>357.68</td>\n",
       "      <td>47</td>\n",
       "      <td>13</td>\n",
       "    </tr>\n",
       "  </tbody>\n",
       "</table>\n",
       "<p>5225 rows × 16 columns</p>\n",
       "</div>"
      ],
      "text/plain": [
       "      Unnamed: 0                               Course                 College  \\\n",
       "0              0  BACHELOR OF AGRICULTURAL TECHNOLOGY  College of Agriculture   \n",
       "1              1  BACHELOR OF AGRICULTURAL TECHNOLOGY  College of Agriculture   \n",
       "2              2  BACHELOR OF AGRICULTURAL TECHNOLOGY  College of Agriculture   \n",
       "3              3  BACHELOR OF AGRICULTURAL TECHNOLOGY  College of Agriculture   \n",
       "4              6                       BS AGRICULTURE  College of Agriculture   \n",
       "...          ...                                  ...                     ...   \n",
       "5220        6228   BACHELOR OF SPECIAL NEED EDUCATION                     CTE   \n",
       "5221        6229   BACHELOR OF SPECIAL NEED EDUCATION                     CTE   \n",
       "5222        6230   BACHELOR OF SPECIAL NEED EDUCATION                     CTE   \n",
       "5223        6231   BACHELOR OF SPECIAL NEED EDUCATION                     CTE   \n",
       "5224        6232   BACHELOR OF SPECIAL NEED EDUCATION                     CTE   \n",
       "\n",
       "      Graduated    Pr1    Pr2    Pr3    Pr4    Pr5   Oapr     Sum  \\\n",
       "0             1  68.50  48.40  85.06  89.31  43.49  74.25  409.01   \n",
       "1             1  74.80  48.40  59.25  10.45  53.29  60.09  306.28   \n",
       "2             0  84.91  48.40  51.68  34.54  33.69  68.07  321.29   \n",
       "3             1  58.56  71.99  59.25  24.91  63.10  61.37  339.18   \n",
       "4             1  52.90  77.12  29.96  75.28  53.29  61.37  349.92   \n",
       "...         ...    ...    ...    ...    ...    ...    ...     ...   \n",
       "5220          1  90.77  92.88  96.28  93.38  87.72  95.42  556.45   \n",
       "5221          1  72.78  77.12  18.75  75.28  72.90  70.30  387.13   \n",
       "5222          1  88.66  77.12  59.25  79.96  63.10  84.19  452.28   \n",
       "5223          1  84.91  54.75  85.06  53.82  53.29  78.81  410.64   \n",
       "5224          1  87.60  82.26  59.25  75.28  53.29  82.81  440.49   \n",
       "\n",
       "      English/Reading  Math/Logic      PR  Numerical_Course  Numerical_College  \n",
       "0              116.90      132.80  334.76                 0                  0  \n",
       "1              123.20       63.74  246.19                 0                  0  \n",
       "2              133.31       68.23  253.22                 0                  0  \n",
       "3              130.55       88.01  277.81                 0                  0  \n",
       "4              130.02      128.57  288.55                 1                  0  \n",
       "...               ...         ...     ...               ...                ...  \n",
       "5220           183.65      181.10  461.03                47                 13  \n",
       "5221           149.90      148.18  316.83                47                 13  \n",
       "5222           165.78      143.06  368.09                47                 13  \n",
       "5223           139.66      107.11  331.83                47                 13  \n",
       "5224           169.86      128.57  357.68                47                 13  \n",
       "\n",
       "[5225 rows x 16 columns]"
      ]
     },
     "execution_count": 132,
     "metadata": {},
     "output_type": "execute_result"
    }
   ],
   "source": [
    "val_data"
   ]
  },
  {
   "cell_type": "code",
   "execution_count": 136,
   "id": "bd4e6ee3",
   "metadata": {},
   "outputs": [],
   "source": [
    "x_valid = val_data[features]\n",
    "y_valid= val_data[target]"
   ]
  },
  {
   "cell_type": "code",
   "execution_count": 146,
   "id": "173b8ad7",
   "metadata": {},
   "outputs": [
    {
     "name": "stdout",
     "output_type": "stream",
     "text": [
      "       Pr1    Pr2    Pr3    Pr4   Pr5   Oapr\n",
      "917  72.78  92.88  94.84  63.45  72.9  84.88\n",
      "Top 3 results for test input 0:\n",
      "Rank 1: Class BS CRIMINOLOGY with probability 0.0905\n",
      "Rank 2: Class BS NURSING with probability 0.0669\n",
      "Rank 3: Class BS BIOLOGY with probability 0.0655\n",
      "Rank 4: Class BS ARCHITECTURE with probability 0.0621\n",
      "Rank 5: Class BS SOCIAL WORK with probability 0.0571\n",
      "Rank 6: Class BACHELOR OF SECONDARY EDUCATION with probability 0.0505\n",
      "Rank 7: Class BS COMPUTER SCIENCE with probability 0.0479\n",
      "Rank 8: Class AB POLITICAL SCIENCE with probability 0.0469\n",
      "Rank 9: Class BACHELOR OF ELEMENTARY EDUCATION with probability 0.0430\n",
      "Rank 10: Class BS INFORMATION TECHNOLOGY with probability 0.0372\n",
      "Rank 11: Class BA ELS with probability 0.0297\n",
      "Rank 12: Class BACHELOR OF SPECIAL NEED EDUCATION with probability 0.0290\n",
      "Rank 13: Class BS MECHANICAL ENGINEERING with probability 0.0243\n",
      "Rank 14: Class BS SANITARY ENGINEERING with probability 0.0215\n",
      "Rank 15: Class BS ELECTRICAL ENGINEERING with probability 0.0214\n",
      "Rank 16: Class BACHELOR OF PHYSICAL EDUCATION with probability 0.0187\n",
      "Rank 17: Class BS COMMUNITY DEVELOPMENT with probability 0.0185\n",
      "Rank 18: Class AB BROADCASTING with probability 0.0185\n",
      "Rank 19: Class AB HISTORY with probability 0.0183\n",
      "Rank 20: Class BS HOME MANAGEMENT with probability 0.0168\n",
      "Rank 21: Class BATSILYER NG SINING SA FILIPINO with probability 0.0160\n",
      "Rank 22: Class BS ELECTRONICS COMMUNICATION ENGINEERING with probability 0.0158\n",
      "Rank 23: Class BS CHEMISTRY with probability 0.0155\n",
      "Rank 24: Class AB JOURNALISM with probability 0.0149\n",
      "Rank 25: Class BS ENVIRONMENTAL ENGINEERING with probability 0.0148\n",
      "Rank 26: Class BS INDUSTRIAL ENGINEERING with probability 0.0134\n",
      "Rank 27: Class BS CIVIL ENGINEERING with probability 0.0123\n",
      "Rank 28: Class BS COMPUTER ENGINEERING with probability 0.0114\n",
      "Rank 29: Class BS NUTRITION AND DIETETICS with probability 0.0100\n",
      "Rank 30: Class BS ISLAMIC STUDIES with probability 0.0087\n",
      "Rank 31: Class BS HOME ECONOMICS with probability 0.0087\n",
      "Rank 32: Class BS STATISTIC with probability 0.0085\n",
      "Rank 33: Class BACHELOR OF CULTURE AND ARTS EDUCATION with probability 0.0068\n",
      "Rank 34: Class BS GEODETIC ENGINEERING with probability 0.0066\n",
      "Rank 35: Class BS EXERCISE AND SPORTS SCIENCE with probability 0.0057\n",
      "Rank 36: Class BS ACCOUNTING with probability 0.0056\n",
      "Rank 37: Class BS ASIAN STUDIES with probability 0.0055\n",
      "Rank 38: Class BS PHYSICS with probability 0.0054\n",
      "Rank 39: Class BACHELOR AGRI-BUSINESS with probability 0.0052\n",
      "Rank 40: Class BS AGRICULTURE with probability 0.0042\n",
      "Rank 41: Class BS AGRICULTURAL ENGINEERING with probability 0.0042\n",
      "Rank 42: Class BS FORESTRY with probability 0.0042\n",
      "Rank 43: Class BS FOOD TECHNOLOGY with probability 0.0039\n",
      "Rank 44: Class BS MATHEMATICS with probability 0.0038\n",
      "Rank 45: Class BACHELOR EARLY CHILDHOOD EDUCATION with probability 0.0032\n",
      "Rank 46: Class BS ENVIRONMENTAL SCIENCE with probability 0.0010\n",
      "Rank 47: Class BS AGRO-FORESTRY with probability 0.0005\n"
     ]
    }
   ],
   "source": [
    "new_x = x_valid.sample(1)\n",
    "new_y = y_valid[new_x.index.values]\n",
    "\n",
    "# assume clf is your trained classifier and X is your test input data\n",
    "proba_scores = model_1.predict_proba(new_x) # get the predicted probabilities\n",
    "\n",
    "class_labels = model_1.classes_ # get the class labels\n",
    "\n",
    "# get the top 3 results with the highest probability rank\n",
    "top_3_indices = proba_scores.argsort()[:, :][:, ::-1]\n",
    "print(new_x)\n",
    "arr = np.array([])\n",
    "# display the top 3 results with their probability rank\n",
    "for i, indices in enumerate(top_3_indices):\n",
    "    print(f\"Top 3 results for test input {i}:\")\n",
    "    for j, index in enumerate(indices):\n",
    "        label = class_labels[index]\n",
    "        proba = proba_scores[i, index]\n",
    "        print(f\"Rank {j+1}: Class {label} with probability {proba:.4f}\")\n",
    "        \n",
    "        # find the row index that matches the label\n",
    "#         row_index = data.index[data['Course'] == label].tolist()[0]\n",
    "        row_index=data2.loc[data2['Course'] == label, 'Numerical_Course'].values[0]\n",
    "    \n",
    "        # extract the Numerical_course value at the row index\n",
    "#         fetch_course = data.loc[row_index, 'Numerical_Course']\n",
    "        arr = np.append(arr,row_index)"
   ]
  },
  {
   "cell_type": "code",
   "execution_count": 149,
   "id": "89be8614",
   "metadata": {},
   "outputs": [
    {
     "name": "stdout",
     "output_type": "stream",
     "text": [
      "16.0\n",
      "feature:        Pr1    Pr2    Pr3    Pr4   Pr5   Oapr  Numerical_Course\n",
      "917  72.78  92.88  94.84  63.45  72.9  84.88              16.0\n",
      "Predicted:  [1]\n",
      "\n",
      "\n",
      "7.0\n",
      "feature:        Pr1    Pr2    Pr3    Pr4   Pr5   Oapr  Numerical_Course\n",
      "917  72.78  92.88  94.84  63.45  72.9  84.88               7.0\n",
      "Predicted:  [1]\n",
      "\n",
      "\n",
      "40.0\n",
      "feature:        Pr1    Pr2    Pr3    Pr4   Pr5   Oapr  Numerical_Course\n",
      "917  72.78  92.88  94.84  63.45  72.9  84.88              40.0\n",
      "Predicted:  [1]\n",
      "\n",
      "\n",
      "4.0\n",
      "feature:        Pr1    Pr2    Pr3    Pr4   Pr5   Oapr  Numerical_Course\n",
      "917  72.78  92.88  94.84  63.45  72.9  84.88               4.0\n",
      "Predicted:  [0]\n",
      "\n",
      "\n",
      "10.0\n",
      "feature:        Pr1    Pr2    Pr3    Pr4   Pr5   Oapr  Numerical_Course\n",
      "917  72.78  92.88  94.84  63.45  72.9  84.88              10.0\n",
      "Predicted:  [1]\n",
      "\n",
      "\n"
     ]
    }
   ],
   "source": [
    "# class_labels = model_1.classes_ # get the class labels\n",
    "\n",
    "grad_fetch = np.array([])\n",
    "arr1 = np.array([])\n",
    "for index in range(len(arr)):\n",
    "    new_x['Numerical_Course'] = arr[index]\n",
    "    print(arr[index])\n",
    "    y_pred = model_2.predict(new_x)\n",
    "    print(\"feature:\",new_x)\n",
    "    print(\"Predicted: \",y_pred)\n",
    "    print(\"\\n\")\n",
    "    \n",
    "    if y_pred==1:\n",
    "        \n",
    "        if arr1.size == 3:\n",
    "            break\n",
    "        else:\n",
    "            grad_fetch=int(arr[index])\n",
    "            label = data2.loc[data2['Numerical_Course'] == grad_fetch, 'Course'].values[0]\n",
    "            arr1 = np.append(arr1, label)\n",
    "\n",
    "if arr1.size == 0:\n",
    "    label = data2.loc[data2['Numerical_Course'] == int(arr[0]), 'Course'].values[0]\n",
    "    arr1 = np.append(arr1, label)\n",
    "    label = data2.loc[data2['Numerical_Course'] == int(arr[1]), 'Course'].values[0]\n",
    "    arr1 = np.append(arr1, label)\n",
    "    label = data2.loc[data2['Numerical_Course'] == int(arr[2]), 'Course'].values[0]\n",
    "    arr1 = np.append(arr1, label)\n",
    "    \n",
    "\n"
   ]
  },
  {
   "cell_type": "code",
   "execution_count": null,
   "id": "4f8e21ff",
   "metadata": {},
   "outputs": [],
   "source": []
  },
  {
   "cell_type": "code",
   "execution_count": null,
   "id": "493acf72",
   "metadata": {},
   "outputs": [],
   "source": []
  }
 ],
 "metadata": {
  "kernelspec": {
   "display_name": "Python 3 (ipykernel)",
   "language": "python",
   "name": "python3"
  },
  "language_info": {
   "codemirror_mode": {
    "name": "ipython",
    "version": 3
   },
   "file_extension": ".py",
   "mimetype": "text/x-python",
   "name": "python",
   "nbconvert_exporter": "python",
   "pygments_lexer": "ipython3",
   "version": "3.9.12"
  }
 },
 "nbformat": 4,
 "nbformat_minor": 5
}
